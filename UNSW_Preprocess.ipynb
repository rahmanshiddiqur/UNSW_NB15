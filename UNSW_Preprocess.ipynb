{
  "nbformat": 4,
  "nbformat_minor": 0,
  "metadata": {
    "colab": {
      "provenance": []
    },
    "kernelspec": {
      "name": "python3",
      "display_name": "Python 3"
    },
    "language_info": {
      "name": "python"
    }
  },
  "cells": [
    {
      "cell_type": "code",
      "execution_count": 1,
      "metadata": {
        "colab": {
          "base_uri": "https://localhost:8080/"
        },
        "id": "DupgPOOMG47U",
        "outputId": "ec64cdee-f5aa-44c8-9fec-62d7a741f294"
      },
      "outputs": [
        {
          "output_type": "stream",
          "name": "stdout",
          "text": [
            "Mounted at /content/drive\n"
          ]
        }
      ],
      "source": [
        "from google.colab import drive\n",
        "drive.mount('/content/drive')"
      ]
    },
    {
      "cell_type": "code",
      "source": [
        "import pandas as pd\n",
        "\n",
        "train_df = pd.read_csv('/content/drive/MyDrive/Dataset/UNSW-NB15/UNSW_NB15_training-set.csv')\n",
        "test_df = pd.read_csv('/content/drive/MyDrive/Dataset/UNSW-NB15/UNSW_NB15_testing-set.csv')\n",
        "\n",
        "data = pd.concat([train_df, test_df], ignore_index=True)\n",
        "\n",
        "data.head()"
      ],
      "metadata": {
        "colab": {
          "base_uri": "https://localhost:8080/",
          "height": 235
        },
        "id": "mVxtm6RcHSKz",
        "outputId": "843c9c31-d37b-4910-bf14-bdec3746ad41"
      },
      "execution_count": null,
      "outputs": [
        {
          "output_type": "execute_result",
          "data": {
            "text/plain": [
              "   id       dur proto service state  spkts  dpkts  sbytes  dbytes       rate  \\\n",
              "0   1  0.121478   tcp       -   FIN      6      4     258     172  74.087490   \n",
              "1   2  0.649902   tcp       -   FIN     14     38     734   42014  78.473372   \n",
              "2   3  1.623129   tcp       -   FIN      8     16     364   13186  14.170161   \n",
              "3   4  1.681642   tcp     ftp   FIN     12     12     628     770  13.677108   \n",
              "4   5  0.449454   tcp       -   FIN     10      6     534     268  33.373826   \n",
              "\n",
              "   ...  ct_dst_sport_ltm  ct_dst_src_ltm  is_ftp_login  ct_ftp_cmd  \\\n",
              "0  ...                 1               1             0           0   \n",
              "1  ...                 1               2             0           0   \n",
              "2  ...                 1               3             0           0   \n",
              "3  ...                 1               3             1           1   \n",
              "4  ...                 1              40             0           0   \n",
              "\n",
              "   ct_flw_http_mthd  ct_src_ltm  ct_srv_dst  is_sm_ips_ports  attack_cat  \\\n",
              "0                 0           1           1                0      Normal   \n",
              "1                 0           1           6                0      Normal   \n",
              "2                 0           2           6                0      Normal   \n",
              "3                 0           2           1                0      Normal   \n",
              "4                 0           2          39                0      Normal   \n",
              "\n",
              "   label  \n",
              "0      0  \n",
              "1      0  \n",
              "2      0  \n",
              "3      0  \n",
              "4      0  \n",
              "\n",
              "[5 rows x 45 columns]"
            ],
            "text/html": [
              "\n",
              "  <div id=\"df-7e5dc7f6-a462-4d56-b064-7acf6d1f8eea\" class=\"colab-df-container\">\n",
              "    <div>\n",
              "<style scoped>\n",
              "    .dataframe tbody tr th:only-of-type {\n",
              "        vertical-align: middle;\n",
              "    }\n",
              "\n",
              "    .dataframe tbody tr th {\n",
              "        vertical-align: top;\n",
              "    }\n",
              "\n",
              "    .dataframe thead th {\n",
              "        text-align: right;\n",
              "    }\n",
              "</style>\n",
              "<table border=\"1\" class=\"dataframe\">\n",
              "  <thead>\n",
              "    <tr style=\"text-align: right;\">\n",
              "      <th></th>\n",
              "      <th>id</th>\n",
              "      <th>dur</th>\n",
              "      <th>proto</th>\n",
              "      <th>service</th>\n",
              "      <th>state</th>\n",
              "      <th>spkts</th>\n",
              "      <th>dpkts</th>\n",
              "      <th>sbytes</th>\n",
              "      <th>dbytes</th>\n",
              "      <th>rate</th>\n",
              "      <th>...</th>\n",
              "      <th>ct_dst_sport_ltm</th>\n",
              "      <th>ct_dst_src_ltm</th>\n",
              "      <th>is_ftp_login</th>\n",
              "      <th>ct_ftp_cmd</th>\n",
              "      <th>ct_flw_http_mthd</th>\n",
              "      <th>ct_src_ltm</th>\n",
              "      <th>ct_srv_dst</th>\n",
              "      <th>is_sm_ips_ports</th>\n",
              "      <th>attack_cat</th>\n",
              "      <th>label</th>\n",
              "    </tr>\n",
              "  </thead>\n",
              "  <tbody>\n",
              "    <tr>\n",
              "      <th>0</th>\n",
              "      <td>1</td>\n",
              "      <td>0.121478</td>\n",
              "      <td>tcp</td>\n",
              "      <td>-</td>\n",
              "      <td>FIN</td>\n",
              "      <td>6</td>\n",
              "      <td>4</td>\n",
              "      <td>258</td>\n",
              "      <td>172</td>\n",
              "      <td>74.087490</td>\n",
              "      <td>...</td>\n",
              "      <td>1</td>\n",
              "      <td>1</td>\n",
              "      <td>0</td>\n",
              "      <td>0</td>\n",
              "      <td>0</td>\n",
              "      <td>1</td>\n",
              "      <td>1</td>\n",
              "      <td>0</td>\n",
              "      <td>Normal</td>\n",
              "      <td>0</td>\n",
              "    </tr>\n",
              "    <tr>\n",
              "      <th>1</th>\n",
              "      <td>2</td>\n",
              "      <td>0.649902</td>\n",
              "      <td>tcp</td>\n",
              "      <td>-</td>\n",
              "      <td>FIN</td>\n",
              "      <td>14</td>\n",
              "      <td>38</td>\n",
              "      <td>734</td>\n",
              "      <td>42014</td>\n",
              "      <td>78.473372</td>\n",
              "      <td>...</td>\n",
              "      <td>1</td>\n",
              "      <td>2</td>\n",
              "      <td>0</td>\n",
              "      <td>0</td>\n",
              "      <td>0</td>\n",
              "      <td>1</td>\n",
              "      <td>6</td>\n",
              "      <td>0</td>\n",
              "      <td>Normal</td>\n",
              "      <td>0</td>\n",
              "    </tr>\n",
              "    <tr>\n",
              "      <th>2</th>\n",
              "      <td>3</td>\n",
              "      <td>1.623129</td>\n",
              "      <td>tcp</td>\n",
              "      <td>-</td>\n",
              "      <td>FIN</td>\n",
              "      <td>8</td>\n",
              "      <td>16</td>\n",
              "      <td>364</td>\n",
              "      <td>13186</td>\n",
              "      <td>14.170161</td>\n",
              "      <td>...</td>\n",
              "      <td>1</td>\n",
              "      <td>3</td>\n",
              "      <td>0</td>\n",
              "      <td>0</td>\n",
              "      <td>0</td>\n",
              "      <td>2</td>\n",
              "      <td>6</td>\n",
              "      <td>0</td>\n",
              "      <td>Normal</td>\n",
              "      <td>0</td>\n",
              "    </tr>\n",
              "    <tr>\n",
              "      <th>3</th>\n",
              "      <td>4</td>\n",
              "      <td>1.681642</td>\n",
              "      <td>tcp</td>\n",
              "      <td>ftp</td>\n",
              "      <td>FIN</td>\n",
              "      <td>12</td>\n",
              "      <td>12</td>\n",
              "      <td>628</td>\n",
              "      <td>770</td>\n",
              "      <td>13.677108</td>\n",
              "      <td>...</td>\n",
              "      <td>1</td>\n",
              "      <td>3</td>\n",
              "      <td>1</td>\n",
              "      <td>1</td>\n",
              "      <td>0</td>\n",
              "      <td>2</td>\n",
              "      <td>1</td>\n",
              "      <td>0</td>\n",
              "      <td>Normal</td>\n",
              "      <td>0</td>\n",
              "    </tr>\n",
              "    <tr>\n",
              "      <th>4</th>\n",
              "      <td>5</td>\n",
              "      <td>0.449454</td>\n",
              "      <td>tcp</td>\n",
              "      <td>-</td>\n",
              "      <td>FIN</td>\n",
              "      <td>10</td>\n",
              "      <td>6</td>\n",
              "      <td>534</td>\n",
              "      <td>268</td>\n",
              "      <td>33.373826</td>\n",
              "      <td>...</td>\n",
              "      <td>1</td>\n",
              "      <td>40</td>\n",
              "      <td>0</td>\n",
              "      <td>0</td>\n",
              "      <td>0</td>\n",
              "      <td>2</td>\n",
              "      <td>39</td>\n",
              "      <td>0</td>\n",
              "      <td>Normal</td>\n",
              "      <td>0</td>\n",
              "    </tr>\n",
              "  </tbody>\n",
              "</table>\n",
              "<p>5 rows × 45 columns</p>\n",
              "</div>\n",
              "    <div class=\"colab-df-buttons\">\n",
              "\n",
              "  <div class=\"colab-df-container\">\n",
              "    <button class=\"colab-df-convert\" onclick=\"convertToInteractive('df-7e5dc7f6-a462-4d56-b064-7acf6d1f8eea')\"\n",
              "            title=\"Convert this dataframe to an interactive table.\"\n",
              "            style=\"display:none;\">\n",
              "\n",
              "  <svg xmlns=\"http://www.w3.org/2000/svg\" height=\"24px\" viewBox=\"0 -960 960 960\">\n",
              "    <path d=\"M120-120v-720h720v720H120Zm60-500h600v-160H180v160Zm220 220h160v-160H400v160Zm0 220h160v-160H400v160ZM180-400h160v-160H180v160Zm440 0h160v-160H620v160ZM180-180h160v-160H180v160Zm440 0h160v-160H620v160Z\"/>\n",
              "  </svg>\n",
              "    </button>\n",
              "\n",
              "  <style>\n",
              "    .colab-df-container {\n",
              "      display:flex;\n",
              "      gap: 12px;\n",
              "    }\n",
              "\n",
              "    .colab-df-convert {\n",
              "      background-color: #E8F0FE;\n",
              "      border: none;\n",
              "      border-radius: 50%;\n",
              "      cursor: pointer;\n",
              "      display: none;\n",
              "      fill: #1967D2;\n",
              "      height: 32px;\n",
              "      padding: 0 0 0 0;\n",
              "      width: 32px;\n",
              "    }\n",
              "\n",
              "    .colab-df-convert:hover {\n",
              "      background-color: #E2EBFA;\n",
              "      box-shadow: 0px 1px 2px rgba(60, 64, 67, 0.3), 0px 1px 3px 1px rgba(60, 64, 67, 0.15);\n",
              "      fill: #174EA6;\n",
              "    }\n",
              "\n",
              "    .colab-df-buttons div {\n",
              "      margin-bottom: 4px;\n",
              "    }\n",
              "\n",
              "    [theme=dark] .colab-df-convert {\n",
              "      background-color: #3B4455;\n",
              "      fill: #D2E3FC;\n",
              "    }\n",
              "\n",
              "    [theme=dark] .colab-df-convert:hover {\n",
              "      background-color: #434B5C;\n",
              "      box-shadow: 0px 1px 3px 1px rgba(0, 0, 0, 0.15);\n",
              "      filter: drop-shadow(0px 1px 2px rgba(0, 0, 0, 0.3));\n",
              "      fill: #FFFFFF;\n",
              "    }\n",
              "  </style>\n",
              "\n",
              "    <script>\n",
              "      const buttonEl =\n",
              "        document.querySelector('#df-7e5dc7f6-a462-4d56-b064-7acf6d1f8eea button.colab-df-convert');\n",
              "      buttonEl.style.display =\n",
              "        google.colab.kernel.accessAllowed ? 'block' : 'none';\n",
              "\n",
              "      async function convertToInteractive(key) {\n",
              "        const element = document.querySelector('#df-7e5dc7f6-a462-4d56-b064-7acf6d1f8eea');\n",
              "        const dataTable =\n",
              "          await google.colab.kernel.invokeFunction('convertToInteractive',\n",
              "                                                    [key], {});\n",
              "        if (!dataTable) return;\n",
              "\n",
              "        const docLinkHtml = 'Like what you see? Visit the ' +\n",
              "          '<a target=\"_blank\" href=https://colab.research.google.com/notebooks/data_table.ipynb>data table notebook</a>'\n",
              "          + ' to learn more about interactive tables.';\n",
              "        element.innerHTML = '';\n",
              "        dataTable['output_type'] = 'display_data';\n",
              "        await google.colab.output.renderOutput(dataTable, element);\n",
              "        const docLink = document.createElement('div');\n",
              "        docLink.innerHTML = docLinkHtml;\n",
              "        element.appendChild(docLink);\n",
              "      }\n",
              "    </script>\n",
              "  </div>\n",
              "\n",
              "\n",
              "<div id=\"df-07fc27c4-903f-4119-89cf-5686e832edac\">\n",
              "  <button class=\"colab-df-quickchart\" onclick=\"quickchart('df-07fc27c4-903f-4119-89cf-5686e832edac')\"\n",
              "            title=\"Suggest charts\"\n",
              "            style=\"display:none;\">\n",
              "\n",
              "<svg xmlns=\"http://www.w3.org/2000/svg\" height=\"24px\"viewBox=\"0 0 24 24\"\n",
              "     width=\"24px\">\n",
              "    <g>\n",
              "        <path d=\"M19 3H5c-1.1 0-2 .9-2 2v14c0 1.1.9 2 2 2h14c1.1 0 2-.9 2-2V5c0-1.1-.9-2-2-2zM9 17H7v-7h2v7zm4 0h-2V7h2v10zm4 0h-2v-4h2v4z\"/>\n",
              "    </g>\n",
              "</svg>\n",
              "  </button>\n",
              "\n",
              "<style>\n",
              "  .colab-df-quickchart {\n",
              "      --bg-color: #E8F0FE;\n",
              "      --fill-color: #1967D2;\n",
              "      --hover-bg-color: #E2EBFA;\n",
              "      --hover-fill-color: #174EA6;\n",
              "      --disabled-fill-color: #AAA;\n",
              "      --disabled-bg-color: #DDD;\n",
              "  }\n",
              "\n",
              "  [theme=dark] .colab-df-quickchart {\n",
              "      --bg-color: #3B4455;\n",
              "      --fill-color: #D2E3FC;\n",
              "      --hover-bg-color: #434B5C;\n",
              "      --hover-fill-color: #FFFFFF;\n",
              "      --disabled-bg-color: #3B4455;\n",
              "      --disabled-fill-color: #666;\n",
              "  }\n",
              "\n",
              "  .colab-df-quickchart {\n",
              "    background-color: var(--bg-color);\n",
              "    border: none;\n",
              "    border-radius: 50%;\n",
              "    cursor: pointer;\n",
              "    display: none;\n",
              "    fill: var(--fill-color);\n",
              "    height: 32px;\n",
              "    padding: 0;\n",
              "    width: 32px;\n",
              "  }\n",
              "\n",
              "  .colab-df-quickchart:hover {\n",
              "    background-color: var(--hover-bg-color);\n",
              "    box-shadow: 0 1px 2px rgba(60, 64, 67, 0.3), 0 1px 3px 1px rgba(60, 64, 67, 0.15);\n",
              "    fill: var(--button-hover-fill-color);\n",
              "  }\n",
              "\n",
              "  .colab-df-quickchart-complete:disabled,\n",
              "  .colab-df-quickchart-complete:disabled:hover {\n",
              "    background-color: var(--disabled-bg-color);\n",
              "    fill: var(--disabled-fill-color);\n",
              "    box-shadow: none;\n",
              "  }\n",
              "\n",
              "  .colab-df-spinner {\n",
              "    border: 2px solid var(--fill-color);\n",
              "    border-color: transparent;\n",
              "    border-bottom-color: var(--fill-color);\n",
              "    animation:\n",
              "      spin 1s steps(1) infinite;\n",
              "  }\n",
              "\n",
              "  @keyframes spin {\n",
              "    0% {\n",
              "      border-color: transparent;\n",
              "      border-bottom-color: var(--fill-color);\n",
              "      border-left-color: var(--fill-color);\n",
              "    }\n",
              "    20% {\n",
              "      border-color: transparent;\n",
              "      border-left-color: var(--fill-color);\n",
              "      border-top-color: var(--fill-color);\n",
              "    }\n",
              "    30% {\n",
              "      border-color: transparent;\n",
              "      border-left-color: var(--fill-color);\n",
              "      border-top-color: var(--fill-color);\n",
              "      border-right-color: var(--fill-color);\n",
              "    }\n",
              "    40% {\n",
              "      border-color: transparent;\n",
              "      border-right-color: var(--fill-color);\n",
              "      border-top-color: var(--fill-color);\n",
              "    }\n",
              "    60% {\n",
              "      border-color: transparent;\n",
              "      border-right-color: var(--fill-color);\n",
              "    }\n",
              "    80% {\n",
              "      border-color: transparent;\n",
              "      border-right-color: var(--fill-color);\n",
              "      border-bottom-color: var(--fill-color);\n",
              "    }\n",
              "    90% {\n",
              "      border-color: transparent;\n",
              "      border-bottom-color: var(--fill-color);\n",
              "    }\n",
              "  }\n",
              "</style>\n",
              "\n",
              "  <script>\n",
              "    async function quickchart(key) {\n",
              "      const quickchartButtonEl =\n",
              "        document.querySelector('#' + key + ' button');\n",
              "      quickchartButtonEl.disabled = true;  // To prevent multiple clicks.\n",
              "      quickchartButtonEl.classList.add('colab-df-spinner');\n",
              "      try {\n",
              "        const charts = await google.colab.kernel.invokeFunction(\n",
              "            'suggestCharts', [key], {});\n",
              "      } catch (error) {\n",
              "        console.error('Error during call to suggestCharts:', error);\n",
              "      }\n",
              "      quickchartButtonEl.classList.remove('colab-df-spinner');\n",
              "      quickchartButtonEl.classList.add('colab-df-quickchart-complete');\n",
              "    }\n",
              "    (() => {\n",
              "      let quickchartButtonEl =\n",
              "        document.querySelector('#df-07fc27c4-903f-4119-89cf-5686e832edac button');\n",
              "      quickchartButtonEl.style.display =\n",
              "        google.colab.kernel.accessAllowed ? 'block' : 'none';\n",
              "    })();\n",
              "  </script>\n",
              "</div>\n",
              "\n",
              "    </div>\n",
              "  </div>\n"
            ],
            "application/vnd.google.colaboratory.intrinsic+json": {
              "type": "dataframe",
              "variable_name": "data"
            }
          },
          "metadata": {},
          "execution_count": 2
        }
      ]
    },
    {
      "cell_type": "code",
      "source": [
        "from sklearn.preprocessing import LabelEncoder\n",
        "\n",
        "# Identify the target variable\n",
        "categorical_target = 'attack_cat'\n",
        "binary_target = 'label'\n",
        "\n",
        "# Initialize the label encoder\n",
        "label_encoder = LabelEncoder()\n",
        "\n",
        "# Apply label encoding to the target variable\n",
        "if categorical_target in data.columns:\n",
        "    data[categorical_target] = label_encoder.fit_transform(data[categorical_target])\n",
        "\n",
        "# Apply label encoding to each categorical feature\n",
        "for col in data.select_dtypes(include=['object']).columns:\n",
        "    data[col] = label_encoder.fit_transform(data[col])"
      ],
      "metadata": {
        "id": "Pi0-8J2yHSN9"
      },
      "execution_count": null,
      "outputs": []
    },
    {
      "cell_type": "code",
      "source": [
        "from sklearn.preprocessing import MinMaxScaler\n",
        "\n",
        "# Initialize the MinMaxScaler\n",
        "scaler = MinMaxScaler()\n",
        "\n",
        "# Apply normalization to numerical features excluding the target variables\n",
        "features_to_scale = data.columns.difference([categorical_target, binary_target])\n",
        "data[features_to_scale] = scaler.fit_transform(data[features_to_scale])"
      ],
      "metadata": {
        "id": "YY4icJVYHSRG"
      },
      "execution_count": null,
      "outputs": []
    },
    {
      "cell_type": "code",
      "source": [
        "import numpy as np\n",
        "import pandas as pd\n",
        "from sklearn.model_selection import train_test_split\n",
        "from sklearn.preprocessing import StandardScaler\n",
        "import tensorflow as tf\n",
        "from tensorflow.keras.models import Model\n",
        "from tensorflow.keras.layers import Input, Conv1D, MaxPooling1D, Flatten, Dense, Dropout, Bidirectional, LSTM, MultiHeadAttention, GlobalAveragePooling1D\n",
        "\n",
        "\n",
        "\n",
        "# Assume 'binary_target' and 'multi_class_target' are the names of the target variables\n",
        "X = data.drop(columns=['label', 'attack_cat'])\n",
        "y_binary = data['label']\n",
        "y_multi_class = data['attack_cat']"
      ],
      "metadata": {
        "id": "6kKgc-fVHSTv"
      },
      "execution_count": null,
      "outputs": []
    },
    {
      "cell_type": "code",
      "source": [
        "# Train-test split\n",
        "X_train, X_test, y_train_binary, y_test_binary, y_train_multi_class, y_test_multi_class = train_test_split(\n",
        "    X, y_binary, y_multi_class, test_size=0.2, random_state=42)\n",
        "\n",
        "# Normalize the features\n",
        "scaler = StandardScaler()\n",
        "X_train = scaler.fit_transform(X_train)\n",
        "X_test = scaler.transform(X_test)\n",
        "\n",
        "# Reshape the data for CNN 1D input\n",
        "X_train = np.expand_dims(X_train, axis=2)\n",
        "X_test = np.expand_dims(X_test, axis=2)\n"
      ],
      "metadata": {
        "id": "XFOakijtHSWw"
      },
      "execution_count": null,
      "outputs": []
    },
    {
      "cell_type": "markdown",
      "source": [
        "CNN+LSTM\n"
      ],
      "metadata": {
        "id": "RMkMnEBkLvtY"
      }
    },
    {
      "cell_type": "code",
      "source": [
        "# Define the hybrid model\n",
        "input_layer = Input(shape=(X_train.shape[1], X_train.shape[2]))\n",
        "\n",
        "# CNN for feature extraction\n",
        "x = Conv1D(filters=64, kernel_size=3, activation='relu')(input_layer)\n",
        "x = MaxPooling1D(pool_size=2)(x)\n",
        "x = Dropout(0.5)(x)\n",
        "\n",
        "# LSTM for sequence modeling\n",
        "x = LSTM(50, return_sequences=True)(x)\n",
        "x = GlobalAveragePooling1D()(x)\n",
        "\n",
        "# Shared Dense layers\n",
        "x = Dense(100, activation='relu')(x)\n",
        "x = Dropout(0.5)(x)\n",
        "\n",
        "# Output layers for binary and multi-class classification\n",
        "binary_output = Dense(1, activation='sigmoid', name='binary_output')(x)\n",
        "multi_class_output = Dense(len(y_multi_class.unique()), activation='softmax', name='multi_class_output')(x)\n",
        "\n",
        "# Define the model\n",
        "modelLSTM_P = Model(inputs=input_layer, outputs=[binary_output, multi_class_output])"
      ],
      "metadata": {
        "id": "I960zc4dHSZ6"
      },
      "execution_count": null,
      "outputs": []
    },
    {
      "cell_type": "code",
      "source": [
        "# Compile the model\n",
        "modelLSTM_P.compile(\n",
        "    optimizer='adam',\n",
        "    loss={'binary_output': 'binary_crossentropy', 'multi_class_output': 'sparse_categorical_crossentropy'},\n",
        "    metrics={'binary_output': 'accuracy', 'multi_class_output': 'accuracy'}\n",
        ")\n"
      ],
      "metadata": {
        "id": "bLO4l1W2HScL"
      },
      "execution_count": null,
      "outputs": []
    },
    {
      "cell_type": "code",
      "source": [
        "# Train the model\n",
        "modelLSTM_P.fit(\n",
        "    X_train, {'binary_output': y_train_binary, 'multi_class_output': y_train_multi_class},\n",
        "    epochs=5, batch_size=32, validation_split=0.2\n",
        ")"
      ],
      "metadata": {
        "colab": {
          "base_uri": "https://localhost:8080/"
        },
        "id": "u1g43PIZHSe2",
        "outputId": "3d088434-89de-451e-f5fb-836617dc0d2b"
      },
      "execution_count": null,
      "outputs": [
        {
          "output_type": "stream",
          "name": "stdout",
          "text": [
            "Epoch 1/5\n",
            "5154/5154 [==============================] - 102s 19ms/step - loss: 1.0813 - binary_output_loss: 0.2420 - multi_class_output_loss: 0.8393 - binary_output_accuracy: 0.8845 - multi_class_output_accuracy: 0.6955 - val_loss: 0.8431 - val_binary_output_loss: 0.1720 - val_multi_class_output_loss: 0.6712 - val_binary_output_accuracy: 0.9128 - val_multi_class_output_accuracy: 0.7492\n",
            "Epoch 2/5\n",
            "5154/5154 [==============================] - 95s 19ms/step - loss: 0.8369 - binary_output_loss: 0.1703 - multi_class_output_loss: 0.6666 - binary_output_accuracy: 0.9157 - multi_class_output_accuracy: 0.7537 - val_loss: 0.7430 - val_binary_output_loss: 0.1457 - val_multi_class_output_loss: 0.5973 - val_binary_output_accuracy: 0.9289 - val_multi_class_output_accuracy: 0.7749\n",
            "Epoch 3/5\n",
            "5154/5154 [==============================] - 92s 18ms/step - loss: 0.7771 - binary_output_loss: 0.1540 - multi_class_output_loss: 0.6231 - binary_output_accuracy: 0.9243 - multi_class_output_accuracy: 0.7688 - val_loss: 0.7115 - val_binary_output_loss: 0.1391 - val_multi_class_output_loss: 0.5724 - val_binary_output_accuracy: 0.9333 - val_multi_class_output_accuracy: 0.7877\n",
            "Epoch 4/5\n",
            "5154/5154 [==============================] - 89s 17ms/step - loss: 0.7416 - binary_output_loss: 0.1449 - multi_class_output_loss: 0.5967 - binary_output_accuracy: 0.9300 - multi_class_output_accuracy: 0.7772 - val_loss: 0.6743 - val_binary_output_loss: 0.1281 - val_multi_class_output_loss: 0.5462 - val_binary_output_accuracy: 0.9449 - val_multi_class_output_accuracy: 0.7968\n",
            "Epoch 5/5\n",
            "5154/5154 [==============================] - 92s 18ms/step - loss: 0.7084 - binary_output_loss: 0.1341 - multi_class_output_loss: 0.5743 - binary_output_accuracy: 0.9373 - multi_class_output_accuracy: 0.7854 - val_loss: 0.6369 - val_binary_output_loss: 0.1135 - val_multi_class_output_loss: 0.5234 - val_binary_output_accuracy: 0.9496 - val_multi_class_output_accuracy: 0.8024\n"
          ]
        },
        {
          "output_type": "execute_result",
          "data": {
            "text/plain": [
              "<keras.src.callbacks.History at 0x7857985f30a0>"
            ]
          },
          "metadata": {},
          "execution_count": 12
        }
      ]
    },
    {
      "cell_type": "code",
      "source": [
        "from sklearn.metrics import accuracy_score, precision_score, recall_score, f1_score, confusion_matrix\n",
        "\n",
        "# Predict the test set\n",
        "y_pred_binary, y_pred_multi_class = modelLSTM_P.predict(X_test)\n",
        "y_pred_binary = (y_pred_binary > 0.5).astype(int)\n",
        "y_pred_multi_class = np.argmax(y_pred_multi_class, axis=1)\n",
        "\n",
        "# Evaluate binary classification\n",
        "binary_accuracy = accuracy_score(y_test_binary, y_pred_binary)\n",
        "binary_precision = precision_score(y_test_binary, y_pred_binary)\n",
        "binary_recall = recall_score(y_test_binary, y_pred_binary)\n",
        "binary_f1 = f1_score(y_test_binary, y_pred_binary)\n",
        "binary_confusion_matrix = confusion_matrix(y_test_binary, y_pred_binary)\n",
        "\n",
        "# Evaluate multi-class classification\n",
        "multi_class_accuracy = accuracy_score(y_test_multi_class, y_pred_multi_class)\n",
        "multi_class_precision = precision_score(y_test_multi_class, y_pred_multi_class, average='weighted')\n",
        "multi_class_recall = recall_score(y_test_multi_class, y_pred_multi_class, average='weighted')\n",
        "multi_class_f1 = f1_score(y_test_multi_class, y_pred_multi_class, average='weighted')\n",
        "multi_class_confusion_matrix = confusion_matrix(y_test_multi_class, y_pred_multi_class)\n",
        "\n",
        "# Print binary classification metrics\n",
        "print(f'Binary Classification:')\n",
        "print(f'Accuracy: {binary_accuracy}')\n",
        "print(f'Precision: {binary_precision}')\n",
        "print(f'Recall: {binary_recall}')\n",
        "print(f'F1 Score: {binary_f1}')\n",
        "print(f'Confusion Matrix:\\n{binary_confusion_matrix}')\n",
        "\n",
        "# Print multi-class classification metrics\n",
        "print(f'\\nMulti-Class Classification:')\n",
        "print(f'Accuracy: {multi_class_accuracy}')\n",
        "print(f'Precision: {multi_class_precision}')\n",
        "print(f'Recall: {multi_class_recall}')\n",
        "print(f'F1 Score: {multi_class_f1}')\n",
        "print(f'Confusion Matrix:\\n{multi_class_confusion_matrix}')\n",
        "\n",
        "\n",
        "# Store the metrics\n",
        "metrics = {\n",
        "    'Binary': {\n",
        "        'Accuracy': binary_accuracy,\n",
        "        'Precision': binary_precision,\n",
        "        'Recall': binary_recall,\n",
        "        'F1 Score': binary_f1\n",
        "    },\n",
        "    'Multi-Class': {\n",
        "        'Accuracy': multi_class_accuracy,\n",
        "        'Precision': multi_class_precision,\n",
        "        'Recall': multi_class_recall,\n",
        "        'F1 Score': multi_class_f1\n",
        "    }\n",
        "}\n"
      ],
      "metadata": {
        "colab": {
          "base_uri": "https://localhost:8080/"
        },
        "id": "V9CHvb0AHShd",
        "outputId": "02a1da0e-f11b-4fd5-ddba-a5e2fc11305e"
      },
      "execution_count": null,
      "outputs": [
        {
          "output_type": "stream",
          "name": "stdout",
          "text": [
            "1611/1611 [==============================] - 14s 9ms/step\n",
            "Binary Classification:\n",
            "Accuracy: 0.9489667216454837\n",
            "Precision: 0.9595266990291262\n",
            "Recall: 0.9606342263531985\n",
            "F1 Score: 0.960080143286482\n",
            "Confusion Matrix:\n",
            "[[17279  1334]\n",
            " [ 1296 31626]]\n",
            "\n",
            "Multi-Class Classification:\n",
            "Accuracy: 0.8002910643252159\n",
            "Precision: 0.7583135642881194\n",
            "Recall: 0.8002910643252159\n",
            "F1 Score: 0.7656570400360679\n",
            "Confusion Matrix:\n",
            "[[    1     0     0   434     4     0    70    10     0     0]\n",
            " [    0     0     0   420     6     0     5    37     0     0]\n",
            " [    0     0     0  3034    58     0    57   143     0     0]\n",
            " [    0     0     1  8280   240     4   191   364     0     0]\n",
            " [    0     0     0   767  2305     3  1421   335     0     0]\n",
            " [    0     0     0   213    39 11220    22    43     0     0]\n",
            " [    0     0     0   165   589     0 17674   185     0     0]\n",
            " [    0     0     1   932    80     0    76  1763     0     0]\n",
            " [    0     0     0    21    25     0    25   238     0     0]\n",
            " [    0     0     0    31     3     0     0     0     0     0]]\n"
          ]
        },
        {
          "output_type": "stream",
          "name": "stderr",
          "text": [
            "/usr/local/lib/python3.10/dist-packages/sklearn/metrics/_classification.py:1344: UndefinedMetricWarning: Precision is ill-defined and being set to 0.0 in labels with no predicted samples. Use `zero_division` parameter to control this behavior.\n",
            "  _warn_prf(average, modifier, msg_start, len(result))\n"
          ]
        }
      ]
    },
    {
      "cell_type": "code",
      "source": [
        "import matplotlib.pyplot as plt\n",
        "\n",
        "# Plot the metrics\n",
        "categories = ['Accuracy', 'Precision', 'Recall', 'F1 Score']\n",
        "binary_values = [metrics['Binary'][cat] for cat in categories]\n",
        "multi_class_values = [metrics['Multi-Class'][cat] for cat in categories]\n",
        "\n",
        "x = np.arange(len(categories))  # the label locations\n",
        "width = 0.35  # the width of the bars\n",
        "\n",
        "# Adjust the size of the plot to a medium size\n",
        "fig, ax = plt.subplots(figsize=(10, 6))\n",
        "\n",
        "rects1 = ax.bar(x - width/2, binary_values, width, label='Binary Classification', color='#003566')\n",
        "rects2 = ax.bar(x + width/2, multi_class_values, width, label='Multi-Class Classification', color='#ffc300')\n",
        "\n",
        "# Add some text for labels, title and custom x-axis tick labels, etc.\n",
        "ax.set_xlabel('Metrics')\n",
        "ax.set_ylabel('Scores')\n",
        "ax.set_title('CNN + LSTM ')\n",
        "ax.set_xticks(x)\n",
        "ax.set_xticklabels(categories)\n",
        "\n",
        "# Place the legend in the bottom right corner\n",
        "ax.legend(loc='lower right')\n",
        "\n",
        "# Function to add labels on bars\n",
        "def autolabel(rects):\n",
        "    for rect in rects:\n",
        "        height = rect.get_height()\n",
        "        ax.annotate('{}'.format(round(height, 4)),\n",
        "                    xy=(rect.get_x() + rect.get_width() / 2, height),\n",
        "                    xytext=(0, 3),  # 3 points vertical offset\n",
        "                    textcoords=\"offset points\",\n",
        "                    ha='center', va='bottom')\n",
        "\n",
        "autolabel(rects1)\n",
        "autolabel(rects2)\n",
        "\n",
        "fig.tight_layout()\n",
        "\n",
        "plt.show()"
      ],
      "metadata": {
        "colab": {
          "base_uri": "https://localhost:8080/",
          "height": 607
        },
        "id": "bGqGQo7uHSkH",
        "outputId": "a1849341-3a5b-444d-b848-5c2b5bf5320c"
      },
      "execution_count": null,
      "outputs": [
        {
          "output_type": "display_data",
          "data": {
            "text/plain": [
              "<Figure size 1000x600 with 1 Axes>"
            ],
            "image/png": "[encoded data removed]"
          },
          "metadata": {}
        }
      ]
    },
    {
      "cell_type": "markdown",
      "source": [
        "CNN+BiLSTM"
      ],
      "metadata": {
        "id": "i7ItEUEUPHvP"
      }
    },
    {
      "cell_type": "code",
      "source": [
        "# Define the hybrid model\n",
        "input_layer = Input(shape=(X_train.shape[1], X_train.shape[2]))\n",
        "\n",
        "# CNN for feature extraction\n",
        "x = Conv1D(filters=64, kernel_size=3, activation='relu')(input_layer)\n",
        "x = MaxPooling1D(pool_size=2)(x)\n",
        "x = Dropout(0.5)(x)\n",
        "\n",
        "# LSTM for sequence modeling\n",
        "x = LSTM(50, return_sequences=True)(x)\n",
        "x = GlobalAveragePooling1D()(x)\n",
        "\n",
        "# Shared Dense layers\n",
        "x = Dense(100, activation='relu')(x)\n",
        "x = Dropout(0.5)(x)\n",
        "\n",
        "# Output layers for binary and multi-class classification\n",
        "binary_output = Dense(1, activation='sigmoid', name='binary_output')(x)\n",
        "multi_class_output = Dense(len(y_multi_class.unique()), activation='softmax', name='multi_class_output')(x)\n",
        "\n",
        "# Define the model\n",
        "modelBiLSTM_P = Model(inputs=input_layer, outputs=[binary_output, multi_class_output])\n"
      ],
      "metadata": {
        "id": "62mxQqaeHSm8"
      },
      "execution_count": null,
      "outputs": []
    },
    {
      "cell_type": "code",
      "source": [
        "# Compile the model\n",
        "modelBiLSTM_P.compile(\n",
        "    optimizer='adam',\n",
        "    loss={'binary_output': 'binary_crossentropy', 'multi_class_output': 'sparse_categorical_crossentropy'},\n",
        "    metrics={'binary_output': 'accuracy', 'multi_class_output': 'accuracy'}\n",
        ")"
      ],
      "metadata": {
        "id": "c_7Mmy2XHSpj"
      },
      "execution_count": null,
      "outputs": []
    },
    {
      "cell_type": "code",
      "source": [
        "# Train the model\n",
        "modelBiLSTM_P.fit(\n",
        "    X_train, {'binary_output': y_train_binary, 'multi_class_output': y_train_multi_class},\n",
        "    epochs=5, batch_size=32, validation_split=0.2\n",
        ")\n"
      ],
      "metadata": {
        "colab": {
          "base_uri": "https://localhost:8080/"
        },
        "id": "YJixNcDvHSsk",
        "outputId": "5e60265e-f25c-4da7-a031-a69f9f1233ad"
      },
      "execution_count": null,
      "outputs": [
        {
          "output_type": "stream",
          "name": "stdout",
          "text": [
            "Epoch 1/5\n",
            "5154/5154 [==============================] - 135s 26ms/step - loss: 1.0681 - binary_output_loss: 0.2351 - multi_class_output_loss: 0.8330 - binary_output_accuracy: 0.8877 - multi_class_output_accuracy: 0.6941 - val_loss: 0.8239 - val_binary_output_loss: 0.1636 - val_multi_class_output_loss: 0.6603 - val_binary_output_accuracy: 0.9187 - val_multi_class_output_accuracy: 0.7459\n",
            "Epoch 2/5\n",
            "5154/5154 [==============================] - 135s 26ms/step - loss: 0.8351 - binary_output_loss: 0.1684 - multi_class_output_loss: 0.6667 - binary_output_accuracy: 0.9157 - multi_class_output_accuracy: 0.7541 - val_loss: 0.7608 - val_binary_output_loss: 0.1487 - val_multi_class_output_loss: 0.6120 - val_binary_output_accuracy: 0.9262 - val_multi_class_output_accuracy: 0.7741\n",
            "Epoch 3/5\n",
            "5154/5154 [==============================] - 121s 23ms/step - loss: 0.7770 - binary_output_loss: 0.1548 - multi_class_output_loss: 0.6221 - binary_output_accuracy: 0.9237 - multi_class_output_accuracy: 0.7708 - val_loss: 0.7016 - val_binary_output_loss: 0.1382 - val_multi_class_output_loss: 0.5634 - val_binary_output_accuracy: 0.9331 - val_multi_class_output_accuracy: 0.7898\n",
            "Epoch 4/5\n",
            "5154/5154 [==============================] - 89s 17ms/step - loss: 0.7411 - binary_output_loss: 0.1477 - multi_class_output_loss: 0.5934 - binary_output_accuracy: 0.9278 - multi_class_output_accuracy: 0.7806 - val_loss: 0.6773 - val_binary_output_loss: 0.1329 - val_multi_class_output_loss: 0.5445 - val_binary_output_accuracy: 0.9347 - val_multi_class_output_accuracy: 0.7940\n",
            "Epoch 5/5\n",
            "5154/5154 [==============================] - 92s 18ms/step - loss: 0.7135 - binary_output_loss: 0.1392 - multi_class_output_loss: 0.5743 - binary_output_accuracy: 0.9325 - multi_class_output_accuracy: 0.7864 - val_loss: 0.6394 - val_binary_output_loss: 0.1203 - val_multi_class_output_loss: 0.5191 - val_binary_output_accuracy: 0.9434 - val_multi_class_output_accuracy: 0.8015\n"
          ]
        },
        {
          "output_type": "execute_result",
          "data": {
            "text/plain": [
              "<keras.src.callbacks.History at 0x785791642b00>"
            ]
          },
          "metadata": {},
          "execution_count": 23
        }
      ]
    },
    {
      "cell_type": "code",
      "source": [
        "from sklearn.metrics import accuracy_score, precision_score, recall_score, f1_score, confusion_matrix\n",
        "\n",
        "# Predict the test set\n",
        "y_pred_binary, y_pred_multi_class = modelBiLSTM_P.predict(X_test)\n",
        "y_pred_binary = (y_pred_binary > 0.5).astype(int)\n",
        "y_pred_multi_class = np.argmax(y_pred_multi_class, axis=1)\n",
        "\n",
        "# Evaluate binary classification\n",
        "binary_accuracy = accuracy_score(y_test_binary, y_pred_binary)\n",
        "binary_precision = precision_score(y_test_binary, y_pred_binary)\n",
        "binary_recall = recall_score(y_test_binary, y_pred_binary)\n",
        "binary_f1 = f1_score(y_test_binary, y_pred_binary)\n",
        "binary_confusion_matrix = confusion_matrix(y_test_binary, y_pred_binary)\n",
        "\n",
        "# Evaluate multi-class classification\n",
        "multi_class_accuracy = accuracy_score(y_test_multi_class, y_pred_multi_class)\n",
        "multi_class_precision = precision_score(y_test_multi_class, y_pred_multi_class, average='weighted')\n",
        "multi_class_recall = recall_score(y_test_multi_class, y_pred_multi_class, average='weighted')\n",
        "multi_class_f1 = f1_score(y_test_multi_class, y_pred_multi_class, average='weighted')\n",
        "multi_class_confusion_matrix = confusion_matrix(y_test_multi_class, y_pred_multi_class)\n",
        "\n",
        "# Print binary classification metrics\n",
        "print(f'Binary Classification:')\n",
        "print(f'Accuracy: {binary_accuracy}')\n",
        "print(f'Precision: {binary_precision}')\n",
        "print(f'Recall: {binary_recall}')\n",
        "print(f'F1 Score: {binary_f1}')\n",
        "print(f'Confusion Matrix:\\n{binary_confusion_matrix}')\n",
        "\n",
        "# Print multi-class classification metrics\n",
        "print(f'\\nMulti-Class Classification:')\n",
        "print(f'Accuracy: {multi_class_accuracy}')\n",
        "print(f'Precision: {multi_class_precision}')\n",
        "print(f'Recall: {multi_class_recall}')\n",
        "print(f'F1 Score: {multi_class_f1}')\n",
        "print(f'Confusion Matrix:\\n{multi_class_confusion_matrix}')\n",
        "\n",
        "\n",
        "# Store the metrics\n",
        "metrics = {\n",
        "    'Binary': {\n",
        "        'Accuracy': binary_accuracy,\n",
        "        'Precision': binary_precision,\n",
        "        'Recall': binary_recall,\n",
        "        'F1 Score': binary_f1\n",
        "    },\n",
        "    'Multi-Class': {\n",
        "        'Accuracy': multi_class_accuracy,\n",
        "        'Precision': multi_class_precision,\n",
        "        'Recall': multi_class_recall,\n",
        "        'F1 Score': multi_class_f1\n",
        "    }\n",
        "}\n"
      ],
      "metadata": {
        "colab": {
          "base_uri": "https://localhost:8080/"
        },
        "id": "wIMsq2TKHSvi",
        "outputId": "5a05124a-b469-438a-fb91-80759d84c009"
      },
      "execution_count": null,
      "outputs": [
        {
          "output_type": "stream",
          "name": "stdout",
          "text": [
            "1611/1611 [==============================] - 9s 5ms/step\n",
            "Binary Classification:\n",
            "Accuracy: 0.9431066265644708\n",
            "Precision: 0.9548625856943518\n",
            "Recall: 0.9561387522021748\n",
            "F1 Score: 0.9555002428363283\n",
            "Confusion Matrix:\n",
            "[[17125  1488]\n",
            " [ 1444 31478]]\n",
            "\n",
            "Multi-Class Classification:\n",
            "Accuracy: 0.7996701270980887\n",
            "Precision: 0.7459501420087767\n",
            "Recall: 0.7996701270980887\n",
            "F1 Score: 0.764543906379383\n",
            "Confusion Matrix:\n",
            "[[    0     0     0   443     1     0    70     5     0     0]\n",
            " [    0     0     0   428     5     0     2    33     0     0]\n",
            " [    0     0     0  3063    76     2    43   108     0     0]\n",
            " [    0     0     0  8307   309     4   269   191     0     0]\n",
            " [    0     0     0   737  2289     0  1582   223     0     0]\n",
            " [    0     0     0   213    63 11224    21    16     0     0]\n",
            " [    0     0     0   173   683     0 17567   190     0     0]\n",
            " [    0     0     0   911    47     0    70  1824     0     0]\n",
            " [    0     0     0    69    52     0    20   168     0     0]\n",
            " [    0     0     0    29     4     0     1     0     0     0]]\n"
          ]
        },
        {
          "output_type": "stream",
          "name": "stderr",
          "text": [
            "/usr/local/lib/python3.10/dist-packages/sklearn/metrics/_classification.py:1344: UndefinedMetricWarning: Precision is ill-defined and being set to 0.0 in labels with no predicted samples. Use `zero_division` parameter to control this behavior.\n",
            "  _warn_prf(average, modifier, msg_start, len(result))\n"
          ]
        }
      ]
    },
    {
      "cell_type": "code",
      "source": [
        "import matplotlib.pyplot as plt\n",
        "\n",
        "# Plot the metrics\n",
        "categories = ['Accuracy', 'Precision', 'Recall', 'F1 Score']\n",
        "binary_values = [metrics['Binary'][cat] for cat in categories]\n",
        "multi_class_values = [metrics['Multi-Class'][cat] for cat in categories]\n",
        "\n",
        "x = np.arange(len(categories))  # the label locations\n",
        "width = 0.35  # the width of the bars\n",
        "\n",
        "# Adjust the size of the plot to a medium size\n",
        "fig, ax = plt.subplots(figsize=(10, 6))\n",
        "\n",
        "rects1 = ax.bar(x - width/2, binary_values, width, label='Binary Classification', color='#003566')\n",
        "rects2 = ax.bar(x + width/2, multi_class_values, width, label='Multi-Class Classification', color='#ffc300')\n",
        "\n",
        "# Add some text for labels, title and custom x-axis tick labels, etc.\n",
        "ax.set_xlabel('Metrics')\n",
        "ax.set_ylabel('Scores')\n",
        "ax.set_title('CNN + Bi-LSTM ')\n",
        "ax.set_xticks(x)\n",
        "ax.set_xticklabels(categories)\n",
        "\n",
        "# Place the legend in the bottom right corner\n",
        "ax.legend(loc='lower right')\n",
        "\n",
        "# Function to add labels on bars\n",
        "def autolabel(rects):\n",
        "    for rect in rects:\n",
        "        height = rect.get_height()\n",
        "        ax.annotate('{}'.format(round(height, 4)),\n",
        "                    xy=(rect.get_x() + rect.get_width() / 2, height),\n",
        "                    xytext=(0, 3),  # 3 points vertical offset\n",
        "                    textcoords=\"offset points\",\n",
        "                    ha='center', va='bottom')\n",
        "\n",
        "autolabel(rects1)\n",
        "autolabel(rects2)\n",
        "\n",
        "fig.tight_layout()\n",
        "\n",
        "plt.show()"
      ],
      "metadata": {
        "colab": {
          "base_uri": "https://localhost:8080/",
          "height": 607
        },
        "id": "U8t_02hGHSyt",
        "outputId": "3b439094-9dd4-4589-ae1e-a22f0c15fee3"
      },
      "execution_count": null,
      "outputs": [
        {
          "output_type": "display_data",
          "data": {
            "text/plain": [
              "<Figure size 1000x600 with 1 Axes>"
            ],
            "image/png": "[encoded data removed]"
          },
          "metadata": {}
        }
      ]
    },
    {
      "cell_type": "markdown",
      "source": [
        "CNN+GRU"
      ],
      "metadata": {
        "id": "Xcaa1WX5P79f"
      }
    },
    {
      "cell_type": "code",
      "source": [
        "from tensorflow.keras.layers import Input, Conv1D, MaxPooling1D, Flatten, Dense, Dropout, GRU, GlobalAveragePooling1D"
      ],
      "metadata": {
        "id": "eR40O51iHS1g"
      },
      "execution_count": null,
      "outputs": []
    },
    {
      "cell_type": "code",
      "source": [
        "# Define the hybrid model\n",
        "input_layer = Input(shape=(X_train.shape[1], X_train.shape[2]))\n",
        "\n",
        "# CNN for feature extraction\n",
        "x = Conv1D(filters=64, kernel_size=3, activation='relu')(input_layer)\n",
        "x = MaxPooling1D(pool_size=2)(x)\n",
        "x = Dropout(0.5)(x)\n",
        "\n",
        "# GRU for sequence modeling\n",
        "x = GRU(50, return_sequences=True)(x)\n",
        "x = GlobalAveragePooling1D()(x)\n",
        "\n",
        "# Shared Dense layers\n",
        "x = Dense(100, activation='relu')(x)\n",
        "x = Dropout(0.5)(x)\n",
        "\n",
        "# Output layers for binary and multi-class classification\n",
        "binary_output = Dense(1, activation='sigmoid', name='binary_output')(x)\n",
        "multi_class_output = Dense(len(y_multi_class.unique()), activation='softmax', name='multi_class_output')(x)\n",
        "\n",
        "# Define the model\n",
        "modelGRU_P = Model(inputs=input_layer, outputs=[binary_output, multi_class_output])"
      ],
      "metadata": {
        "id": "OSZIAgKKHS5C"
      },
      "execution_count": null,
      "outputs": []
    },
    {
      "cell_type": "code",
      "source": [
        "# Compile the model\n",
        "modelGRU_P.compile(\n",
        "    optimizer='adam',\n",
        "    loss={'binary_output': 'binary_crossentropy', 'multi_class_output': 'sparse_categorical_crossentropy'},\n",
        "    metrics={'binary_output': 'accuracy', 'multi_class_output': 'accuracy'}\n",
        ")"
      ],
      "metadata": {
        "id": "Fo3fkX2-HS8j"
      },
      "execution_count": null,
      "outputs": []
    },
    {
      "cell_type": "code",
      "source": [
        "# Train the model\n",
        "modelGRU_P.fit(\n",
        "    X_train, {'binary_output': y_train_binary, 'multi_class_output': y_train_multi_class},\n",
        "    epochs=5, batch_size=32, validation_split=0.2\n",
        ")\n"
      ],
      "metadata": {
        "colab": {
          "base_uri": "https://localhost:8080/"
        },
        "id": "R7tkoCjmHS_s",
        "outputId": "9c343c0c-fa71-4e09-dc2a-750d9d773730"
      },
      "execution_count": null,
      "outputs": [
        {
          "output_type": "stream",
          "name": "stdout",
          "text": [
            "Epoch 1/5\n",
            "5154/5154 [==============================] - 120s 23ms/step - loss: 1.0749 - binary_output_loss: 0.2357 - multi_class_output_loss: 0.8392 - binary_output_accuracy: 0.8872 - multi_class_output_accuracy: 0.6941 - val_loss: 0.8062 - val_binary_output_loss: 0.1524 - val_multi_class_output_loss: 0.6538 - val_binary_output_accuracy: 0.9294 - val_multi_class_output_accuracy: 0.7628\n",
            "Epoch 2/5\n",
            "5154/5154 [==============================] - 92s 18ms/step - loss: 0.8185 - binary_output_loss: 0.1606 - multi_class_output_loss: 0.6579 - binary_output_accuracy: 0.9237 - multi_class_output_accuracy: 0.7594 - val_loss: 0.7082 - val_binary_output_loss: 0.1306 - val_multi_class_output_loss: 0.5776 - val_binary_output_accuracy: 0.9431 - val_multi_class_output_accuracy: 0.7904\n",
            "Epoch 3/5\n",
            "5154/5154 [==============================] - 102s 20ms/step - loss: 0.7418 - binary_output_loss: 0.1398 - multi_class_output_loss: 0.6019 - binary_output_accuracy: 0.9375 - multi_class_output_accuracy: 0.7837 - val_loss: 0.6553 - val_binary_output_loss: 0.1177 - val_multi_class_output_loss: 0.5376 - val_binary_output_accuracy: 0.9489 - val_multi_class_output_accuracy: 0.8043\n",
            "Epoch 4/5\n",
            "5154/5154 [==============================] - 90s 17ms/step - loss: 0.6970 - binary_output_loss: 0.1283 - multi_class_output_loss: 0.5687 - binary_output_accuracy: 0.9435 - multi_class_output_accuracy: 0.7950 - val_loss: 0.6207 - val_binary_output_loss: 0.1116 - val_multi_class_output_loss: 0.5091 - val_binary_output_accuracy: 0.9542 - val_multi_class_output_accuracy: 0.8161\n",
            "Epoch 5/5\n",
            "5154/5154 [==============================] - 87s 17ms/step - loss: 0.6639 - binary_output_loss: 0.1190 - multi_class_output_loss: 0.5449 - binary_output_accuracy: 0.9491 - multi_class_output_accuracy: 0.8041 - val_loss: 0.5985 - val_binary_output_loss: 0.1043 - val_multi_class_output_loss: 0.4942 - val_binary_output_accuracy: 0.9554 - val_multi_class_output_accuracy: 0.8162\n"
          ]
        },
        {
          "output_type": "execute_result",
          "data": {
            "text/plain": [
              "<keras.src.callbacks.History at 0x785791de6860>"
            ]
          },
          "metadata": {},
          "execution_count": 30
        }
      ]
    },
    {
      "cell_type": "code",
      "source": [
        "from sklearn.metrics import accuracy_score, precision_score, recall_score, f1_score, confusion_matrix\n",
        "\n",
        "# Predict the test set\n",
        "y_pred_binary, y_pred_multi_class = modelGRU_P.predict(X_test)\n",
        "y_pred_binary = (y_pred_binary > 0.5).astype(int)\n",
        "y_pred_multi_class = np.argmax(y_pred_multi_class, axis=1)\n",
        "\n",
        "# Evaluate binary classification\n",
        "binary_accuracy = accuracy_score(y_test_binary, y_pred_binary)\n",
        "binary_precision = precision_score(y_test_binary, y_pred_binary)\n",
        "binary_recall = recall_score(y_test_binary, y_pred_binary)\n",
        "binary_f1 = f1_score(y_test_binary, y_pred_binary)\n",
        "binary_confusion_matrix = confusion_matrix(y_test_binary, y_pred_binary)\n",
        "\n",
        "# Evaluate multi-class classification\n",
        "multi_class_accuracy = accuracy_score(y_test_multi_class, y_pred_multi_class)\n",
        "multi_class_precision = precision_score(y_test_multi_class, y_pred_multi_class, average='weighted')\n",
        "multi_class_recall = recall_score(y_test_multi_class, y_pred_multi_class, average='weighted')\n",
        "multi_class_f1 = f1_score(y_test_multi_class, y_pred_multi_class, average='weighted')\n",
        "multi_class_confusion_matrix = confusion_matrix(y_test_multi_class, y_pred_multi_class)\n",
        "\n",
        "# Print binary classification metrics\n",
        "print(f'Binary Classification:')\n",
        "print(f'Accuracy: {binary_accuracy}')\n",
        "print(f'Precision: {binary_precision}')\n",
        "print(f'Recall: {binary_recall}')\n",
        "print(f'F1 Score: {binary_f1}')\n",
        "print(f'Confusion Matrix:\\n{binary_confusion_matrix}')\n",
        "\n",
        "# Print multi-class classification metrics\n",
        "print(f'\\nMulti-Class Classification:')\n",
        "print(f'Accuracy: {multi_class_accuracy}')\n",
        "print(f'Precision: {multi_class_precision}')\n",
        "print(f'Recall: {multi_class_recall}')\n",
        "print(f'F1 Score: {multi_class_f1}')\n",
        "print(f'Confusion Matrix:\\n{multi_class_confusion_matrix}')\n",
        "\n",
        "\n",
        "# Store the metrics\n",
        "metrics = {\n",
        "    'Binary': {\n",
        "        'Accuracy': binary_accuracy,\n",
        "        'Precision': binary_precision,\n",
        "        'Recall': binary_recall,\n",
        "        'F1 Score': binary_f1\n",
        "    },\n",
        "    'Multi-Class': {\n",
        "        'Accuracy': multi_class_accuracy,\n",
        "        'Precision': multi_class_precision,\n",
        "        'Recall': multi_class_recall,\n",
        "        'F1 Score': multi_class_f1\n",
        "    }\n",
        "}\n"
      ],
      "metadata": {
        "colab": {
          "base_uri": "https://localhost:8080/"
        },
        "id": "sJnFv-tEHTC5",
        "outputId": "e350bbc3-7624-4533-ba8b-03a185ed449a"
      },
      "execution_count": null,
      "outputs": [
        {
          "output_type": "stream",
          "name": "stdout",
          "text": [
            "1611/1611 [==============================] - 15s 9ms/step\n",
            "Binary Classification:\n",
            "Accuracy: 0.955777626855535\n",
            "Precision: 0.9699414164340705\n",
            "Recall: 0.9605431018771642\n",
            "F1 Score: 0.9652193819152995\n",
            "Confusion Matrix:\n",
            "[[17633   980]\n",
            " [ 1299 31623]]\n",
            "\n",
            "Multi-Class Classification:\n",
            "Accuracy: 0.8152905792180072\n",
            "Precision: 0.841687041294569\n",
            "Recall: 0.8152905792180072\n",
            "F1 Score: 0.7808306049636827\n",
            "Confusion Matrix:\n",
            "[[    2     0     0   421     3     0    84     9     0     0]\n",
            " [    0     0     0   427     7     0    10    24     0     0]\n",
            " [    0     0     1  3057    69     1    66    98     0     0]\n",
            " [    0     0     0  8321   325     2   240   192     0     0]\n",
            " [    0     0     0   723  2718     0  1229   161     0     0]\n",
            " [    0     0     0   227    51 11218    25    16     0     0]\n",
            " [    0     0     0   113   456     0 17961    83     0     0]\n",
            " [    0     0     0   891    52     0   118  1791     0     0]\n",
            " [    0     0     0    33    77     0    34   161     4     0]\n",
            " [    0     0     0    30     4     0     0     0     0     0]]\n"
          ]
        },
        {
          "output_type": "stream",
          "name": "stderr",
          "text": [
            "/usr/local/lib/python3.10/dist-packages/sklearn/metrics/_classification.py:1344: UndefinedMetricWarning: Precision is ill-defined and being set to 0.0 in labels with no predicted samples. Use `zero_division` parameter to control this behavior.\n",
            "  _warn_prf(average, modifier, msg_start, len(result))\n"
          ]
        }
      ]
    },
    {
      "cell_type": "code",
      "source": [
        "import matplotlib.pyplot as plt\n",
        "\n",
        "# Plot the metrics\n",
        "categories = ['Accuracy', 'Precision', 'Recall', 'F1 Score']\n",
        "binary_values = [metrics['Binary'][cat] for cat in categories]\n",
        "multi_class_values = [metrics['Multi-Class'][cat] for cat in categories]\n",
        "\n",
        "x = np.arange(len(categories))  # the label locations\n",
        "width = 0.35  # the width of the bars\n",
        "\n",
        "# Adjust the size of the plot to a medium size\n",
        "fig, ax = plt.subplots(figsize=(10, 6))\n",
        "\n",
        "rects1 = ax.bar(x - width/2, binary_values, width, label='Binary Classification', color='#003566')\n",
        "rects2 = ax.bar(x + width/2, multi_class_values, width, label='Multi-Class Classification', color='#ffc300')\n",
        "\n",
        "# Add some text for labels, title and custom x-axis tick labels, etc.\n",
        "ax.set_xlabel('Metrics')\n",
        "ax.set_ylabel('Scores')\n",
        "ax.set_title('CNN + GRU')\n",
        "ax.set_xticks(x)\n",
        "ax.set_xticklabels(categories)\n",
        "\n",
        "# Place the legend in the bottom right corner\n",
        "ax.legend(loc='lower right')\n",
        "\n",
        "# Function to add labels on bars\n",
        "def autolabel(rects):\n",
        "    for rect in rects:\n",
        "        height = rect.get_height()\n",
        "        ax.annotate('{}'.format(round(height, 4)),\n",
        "                    xy=(rect.get_x() + rect.get_width() / 2, height),\n",
        "                    xytext=(0, 3),  # 3 points vertical offset\n",
        "                    textcoords=\"offset points\",\n",
        "                    ha='center', va='bottom')\n",
        "\n",
        "autolabel(rects1)\n",
        "autolabel(rects2)\n",
        "\n",
        "fig.tight_layout()\n",
        "\n",
        "plt.show()"
      ],
      "metadata": {
        "colab": {
          "base_uri": "https://localhost:8080/",
          "height": 607
        },
        "id": "exRyzYRdHTF2",
        "outputId": "703ba3cb-9ecd-41ec-c23a-71e09399ec25"
      },
      "execution_count": null,
      "outputs": [
        {
          "output_type": "display_data",
          "data": {
            "text/plain": [
              "<Figure size 1000x600 with 1 Axes>"
            ],
            "image/png": "[encoded data removed]"
          },
          "metadata": {}
        }
      ]
    },
    {
      "cell_type": "markdown",
      "source": [
        "CNN+Bi_GRU"
      ],
      "metadata": {
        "id": "gdKW7JkNQh8R"
      }
    },
    {
      "cell_type": "code",
      "source": [
        "from tensorflow.keras.layers import Input, Conv1D, MaxPooling1D, Flatten, Dense, Dropout, Bidirectional, GRU, GlobalAveragePooling1D"
      ],
      "metadata": {
        "id": "GVmxVHtfHTI2"
      },
      "execution_count": null,
      "outputs": []
    },
    {
      "cell_type": "code",
      "source": [
        "# Define the hybrid model\n",
        "input_layer = Input(shape=(X_train.shape[1], X_train.shape[2]))\n",
        "\n",
        "# CNN for feature extraction\n",
        "x = Conv1D(filters=64, kernel_size=3, activation='relu')(input_layer)\n",
        "x = MaxPooling1D(pool_size=2)(x)\n",
        "x = Dropout(0.5)(x)\n",
        "\n",
        "# Bidirectional GRU for sequence modeling\n",
        "x = Bidirectional(GRU(50, return_sequences=True))(x)\n",
        "x = GlobalAveragePooling1D()(x)\n",
        "\n",
        "# Shared Dense layers\n",
        "x = Dense(100, activation='relu')(x)\n",
        "x = Dropout(0.5)(x)\n",
        "\n",
        "# Output layers for binary and multi-class classification\n",
        "binary_output = Dense(1, activation='sigmoid', name='binary_output')(x)\n",
        "multi_class_output = Dense(len(y_multi_class.unique()), activation='softmax', name='multi_class_output')(x)\n",
        "\n",
        "# Define the model\n",
        "modelBiGRU_P = Model(inputs=input_layer, outputs=[binary_output, multi_class_output])"
      ],
      "metadata": {
        "id": "TDaSm_7tHTOS"
      },
      "execution_count": null,
      "outputs": []
    },
    {
      "cell_type": "code",
      "source": [
        "# Compile the model\n",
        "modelBiGRU_P.compile(\n",
        "    optimizer='adam',\n",
        "    loss={'binary_output': 'binary_crossentropy', 'multi_class_output': 'sparse_categorical_crossentropy'},\n",
        "    metrics={'binary_output': 'accuracy', 'multi_class_output': 'accuracy'}\n",
        ")"
      ],
      "metadata": {
        "id": "RBCoHMQuHTRf"
      },
      "execution_count": null,
      "outputs": []
    },
    {
      "cell_type": "code",
      "source": [
        "# Train the model\n",
        "modelBiGRU_P.fit(\n",
        "    X_train, {'binary_output': y_train_binary, 'multi_class_output': y_train_multi_class},\n",
        "    epochs=5, batch_size=32, validation_split=0.2\n",
        ")"
      ],
      "metadata": {
        "colab": {
          "base_uri": "https://localhost:8080/"
        },
        "id": "MKuiOWVoHTUs",
        "outputId": "491aadcf-319f-4f0d-a783-89184945fe81"
      },
      "execution_count": null,
      "outputs": [
        {
          "output_type": "stream",
          "name": "stdout",
          "text": [
            "Epoch 1/5\n",
            "5154/5154 [==============================] - 147s 27ms/step - loss: 1.0538 - binary_output_loss: 0.2351 - multi_class_output_loss: 0.8187 - binary_output_accuracy: 0.8928 - multi_class_output_accuracy: 0.7020 - val_loss: 0.7423 - val_binary_output_loss: 0.1412 - val_multi_class_output_loss: 0.6011 - val_binary_output_accuracy: 0.9373 - val_multi_class_output_accuracy: 0.7767\n",
            "Epoch 2/5\n",
            "5154/5154 [==============================] - 141s 27ms/step - loss: 0.7699 - binary_output_loss: 0.1472 - multi_class_output_loss: 0.6227 - binary_output_accuracy: 0.9363 - multi_class_output_accuracy: 0.7735 - val_loss: 0.6783 - val_binary_output_loss: 0.1204 - val_multi_class_output_loss: 0.5580 - val_binary_output_accuracy: 0.9478 - val_multi_class_output_accuracy: 0.7926\n",
            "Epoch 3/5\n",
            "5154/5154 [==============================] - 141s 27ms/step - loss: 0.7034 - binary_output_loss: 0.1266 - multi_class_output_loss: 0.5768 - binary_output_accuracy: 0.9462 - multi_class_output_accuracy: 0.7915 - val_loss: 0.6230 - val_binary_output_loss: 0.1034 - val_multi_class_output_loss: 0.5196 - val_binary_output_accuracy: 0.9580 - val_multi_class_output_accuracy: 0.8071\n",
            "Epoch 4/5\n",
            "5154/5154 [==============================] - 140s 27ms/step - loss: 0.6640 - binary_output_loss: 0.1136 - multi_class_output_loss: 0.5504 - binary_output_accuracy: 0.9522 - multi_class_output_accuracy: 0.8002 - val_loss: 0.5967 - val_binary_output_loss: 0.0944 - val_multi_class_output_loss: 0.5022 - val_binary_output_accuracy: 0.9610 - val_multi_class_output_accuracy: 0.8145\n",
            "Epoch 5/5\n",
            "5154/5154 [==============================] - 143s 28ms/step - loss: 0.6400 - binary_output_loss: 0.1078 - multi_class_output_loss: 0.5322 - binary_output_accuracy: 0.9551 - multi_class_output_accuracy: 0.8071 - val_loss: 0.5780 - val_binary_output_loss: 0.0933 - val_multi_class_output_loss: 0.4847 - val_binary_output_accuracy: 0.9601 - val_multi_class_output_accuracy: 0.8169\n"
          ]
        },
        {
          "output_type": "execute_result",
          "data": {
            "text/plain": [
              "<keras.src.callbacks.History at 0x785790b59450>"
            ]
          },
          "metadata": {},
          "execution_count": 36
        }
      ]
    },
    {
      "cell_type": "code",
      "source": [
        "from sklearn.metrics import accuracy_score, precision_score, recall_score, f1_score, confusion_matrix\n",
        "\n",
        "# Predict the test set\n",
        "y_pred_binary, y_pred_multi_class = modelBiGRU_P.predict(X_test)\n",
        "y_pred_binary = (y_pred_binary > 0.5).astype(int)\n",
        "y_pred_multi_class = np.argmax(y_pred_multi_class, axis=1)\n",
        "\n",
        "# Evaluate binary classification\n",
        "binary_accuracy = accuracy_score(y_test_binary, y_pred_binary)\n",
        "binary_precision = precision_score(y_test_binary, y_pred_binary)\n",
        "binary_recall = recall_score(y_test_binary, y_pred_binary)\n",
        "binary_f1 = f1_score(y_test_binary, y_pred_binary)\n",
        "binary_confusion_matrix = confusion_matrix(y_test_binary, y_pred_binary)\n",
        "\n",
        "# Evaluate multi-class classification\n",
        "multi_class_accuracy = accuracy_score(y_test_multi_class, y_pred_multi_class)\n",
        "multi_class_precision = precision_score(y_test_multi_class, y_pred_multi_class, average='weighted')\n",
        "multi_class_recall = recall_score(y_test_multi_class, y_pred_multi_class, average='weighted')\n",
        "multi_class_f1 = f1_score(y_test_multi_class, y_pred_multi_class, average='weighted')\n",
        "multi_class_confusion_matrix = confusion_matrix(y_test_multi_class, y_pred_multi_class)\n",
        "\n",
        "# Print binary classification metrics\n",
        "print(f'Binary Classification:')\n",
        "print(f'Accuracy: {binary_accuracy}')\n",
        "print(f'Precision: {binary_precision}')\n",
        "print(f'Recall: {binary_recall}')\n",
        "print(f'F1 Score: {binary_f1}')\n",
        "print(f'Confusion Matrix:\\n{binary_confusion_matrix}')\n",
        "\n",
        "# Print multi-class classification metrics\n",
        "print(f'\\nMulti-Class Classification:')\n",
        "print(f'Accuracy: {multi_class_accuracy}')\n",
        "print(f'Precision: {multi_class_precision}')\n",
        "print(f'Recall: {multi_class_recall}')\n",
        "print(f'F1 Score: {multi_class_f1}')\n",
        "print(f'Confusion Matrix:\\n{multi_class_confusion_matrix}')\n",
        "\n",
        "\n",
        "# Store the metrics\n",
        "metrics = {\n",
        "    'Binary': {\n",
        "        'Accuracy': binary_accuracy,\n",
        "        'Precision': binary_precision,\n",
        "        'Recall': binary_recall,\n",
        "        'F1 Score': binary_f1\n",
        "    },\n",
        "    'Multi-Class': {\n",
        "        'Accuracy': multi_class_accuracy,\n",
        "        'Precision': multi_class_precision,\n",
        "        'Recall': multi_class_recall,\n",
        "        'F1 Score': multi_class_f1\n",
        "    }\n",
        "}\n"
      ],
      "metadata": {
        "colab": {
          "base_uri": "https://localhost:8080/"
        },
        "id": "AoySpgYFHTXb",
        "outputId": "72189f22-f2e6-40ab-e75b-cb9dc5e945d5"
      },
      "execution_count": null,
      "outputs": [
        {
          "output_type": "stream",
          "name": "stdout",
          "text": [
            "1611/1611 [==============================] - 13s 8ms/step\n",
            "Binary Classification:\n",
            "Accuracy: 0.9599495488502959\n",
            "Precision: 0.970855712890625\n",
            "Recall: 0.9663143186926675\n",
            "F1 Score: 0.9685796924950525\n",
            "Confusion Matrix:\n",
            "[[17658   955]\n",
            " [ 1109 31813]]\n",
            "\n",
            "Multi-Class Classification:\n",
            "Accuracy: 0.8160279421752207\n",
            "Precision: 0.7910761943127016\n",
            "Recall: 0.8160279421752207\n",
            "F1 Score: 0.7826712447244888\n",
            "Confusion Matrix:\n",
            "[[   18     0     0   405     9     0    84     3     0     0]\n",
            " [    0     0     0   411    27     0     6    24     0     0]\n",
            " [    0     0     1  3041   100     2    58    90     0     0]\n",
            " [    4     0     0  8251   402     1   223   199     0     0]\n",
            " [    2     0     0   691  2979     0  1064    95     0     0]\n",
            " [    0     0     1   209    69 11220    10    28     0     0]\n",
            " [    0     0     1   117   478     0 17951    66     0     0]\n",
            " [    0     0     0   880   215     0   123  1634     0     0]\n",
            " [    0     0     0    60    49     0    27   173     0     0]\n",
            " [    0     0     0    31     3     0     0     0     0     0]]\n"
          ]
        },
        {
          "output_type": "stream",
          "name": "stderr",
          "text": [
            "/usr/local/lib/python3.10/dist-packages/sklearn/metrics/_classification.py:1344: UndefinedMetricWarning: Precision is ill-defined and being set to 0.0 in labels with no predicted samples. Use `zero_division` parameter to control this behavior.\n",
            "  _warn_prf(average, modifier, msg_start, len(result))\n"
          ]
        }
      ]
    },
    {
      "cell_type": "code",
      "source": [
        "import matplotlib.pyplot as plt\n",
        "\n",
        "# Plot the metrics\n",
        "categories = ['Accuracy', 'Precision', 'Recall', 'F1 Score']\n",
        "binary_values = [metrics['Binary'][cat] for cat in categories]\n",
        "multi_class_values = [metrics['Multi-Class'][cat] for cat in categories]\n",
        "\n",
        "x = np.arange(len(categories))  # the label locations\n",
        "width = 0.35  # the width of the bars\n",
        "\n",
        "# Adjust the size of the plot to a medium size\n",
        "fig, ax = plt.subplots(figsize=(10, 6))\n",
        "\n",
        "rects1 = ax.bar(x - width/2, binary_values, width, label='Binary Classification', color='#003566')\n",
        "rects2 = ax.bar(x + width/2, multi_class_values, width, label='Multi-Class Classification', color='#ffc300')\n",
        "\n",
        "# Add some text for labels, title and custom x-axis tick labels, etc.\n",
        "ax.set_xlabel('Metrics')\n",
        "ax.set_ylabel('Scores')\n",
        "ax.set_title('CNN + Bi-GRU')\n",
        "ax.set_xticks(x)\n",
        "ax.set_xticklabels(categories)\n",
        "\n",
        "# Place the legend in the bottom right corner\n",
        "ax.legend(loc='lower right')\n",
        "\n",
        "# Function to add labels on bars\n",
        "def autolabel(rects):\n",
        "    for rect in rects:\n",
        "        height = rect.get_height()\n",
        "        ax.annotate('{}'.format(round(height, 4)),\n",
        "                    xy=(rect.get_x() + rect.get_width() / 2, height),\n",
        "                    xytext=(0, 3),  # 3 points vertical offset\n",
        "                    textcoords=\"offset points\",\n",
        "                    ha='center', va='bottom')\n",
        "\n",
        "autolabel(rects1)\n",
        "autolabel(rects2)\n",
        "\n",
        "fig.tight_layout()\n",
        "\n",
        "plt.show()"
      ],
      "metadata": {
        "colab": {
          "base_uri": "https://localhost:8080/",
          "height": 607
        },
        "id": "e3DFf0_UHTdZ",
        "outputId": "8c69f1ce-a449-48ba-cc8f-51a5021000c6"
      },
      "execution_count": null,
      "outputs": [
        {
          "output_type": "display_data",
          "data": {
            "text/plain": [
              "<Figure size 1000x600 with 1 Axes>"
            ],
            "image/png": "[encoded data removed]"
          },
          "metadata": {}
        }
      ]
    },
    {
      "cell_type": "markdown",
      "source": [
        "CNN + LSTM 02"
      ],
      "metadata": {
        "id": "4CCv06UV9-q7"
      }
    },
    {
      "cell_type": "code",
      "source": [
        "# Define the hybrid model\n",
        "input_layer = Input(shape=(X_train.shape[1], X_train.shape[2]))\n",
        "\n",
        "# CNN for feature extraction\n",
        "x = Conv1D(filters=32, kernel_size=3, activation='relu')(input_layer)\n",
        "x = MaxPooling1D(pool_size=2)(x)\n",
        "x = Dropout(0.5)(x)\n",
        "\n",
        "# LSTM for sequence modeling\n",
        "x = LSTM(50, return_sequences=True)(x)\n",
        "x = GlobalAveragePooling1D()(x)\n",
        "\n",
        "# Shared Dense layers\n",
        "x = Dense(100, activation='relu')(x)\n",
        "x = Dropout(0.5)(x)\n",
        "\n",
        "# Output layers for binary and multi-class classification\n",
        "binary_output = Dense(1, activation='sigmoid', name='binary_output')(x)\n",
        "multi_class_output = Dense(len(y_multi_class.unique()), activation='softmax', name='multi_class_output')(x)\n",
        "\n",
        "# Define the model\n",
        "model02LSTM_P = Model(inputs=input_layer, outputs=[binary_output, multi_class_output])"
      ],
      "metadata": {
        "id": "8x3KHo0dHTgO"
      },
      "execution_count": null,
      "outputs": []
    },
    {
      "cell_type": "code",
      "source": [
        "# Compile the model\n",
        "model02LSTM_P.compile(\n",
        "    optimizer='adam',\n",
        "    loss={'binary_output': 'binary_crossentropy', 'multi_class_output': 'sparse_categorical_crossentropy'},\n",
        "    metrics={'binary_output': 'accuracy', 'multi_class_output': 'accuracy'}\n",
        ")\n"
      ],
      "metadata": {
        "id": "lfvV8_iG9hf5"
      },
      "execution_count": null,
      "outputs": []
    },
    {
      "cell_type": "code",
      "source": [
        "# Train the model\n",
        "model02LSTM_P.fit(\n",
        "    X_train, {'binary_output': y_train_binary, 'multi_class_output': y_train_multi_class},\n",
        "    epochs=5, batch_size=32, validation_split=0.2\n",
        ")"
      ],
      "metadata": {
        "colab": {
          "base_uri": "https://localhost:8080/"
        },
        "id": "jEC_nY-H9hi8",
        "outputId": "f11a575e-5b95-43ef-fd03-3f71c0005551"
      },
      "execution_count": null,
      "outputs": [
        {
          "output_type": "stream",
          "name": "stdout",
          "text": [
            "Epoch 1/5\n",
            "5154/5154 [==============================] - 122s 23ms/step - loss: 1.1303 - binary_output_loss: 0.2665 - multi_class_output_loss: 0.8639 - binary_output_accuracy: 0.8745 - multi_class_output_accuracy: 0.6839 - val_loss: 0.8829 - val_binary_output_loss: 0.1838 - val_multi_class_output_loss: 0.6992 - val_binary_output_accuracy: 0.9123 - val_multi_class_output_accuracy: 0.7320\n",
            "Epoch 2/5\n",
            "5154/5154 [==============================] - 100s 19ms/step - loss: 0.9010 - binary_output_loss: 0.1880 - multi_class_output_loss: 0.7130 - binary_output_accuracy: 0.9081 - multi_class_output_accuracy: 0.7311 - val_loss: 0.7995 - val_binary_output_loss: 0.1576 - val_multi_class_output_loss: 0.6419 - val_binary_output_accuracy: 0.9208 - val_multi_class_output_accuracy: 0.7537\n",
            "Epoch 3/5\n",
            "5154/5154 [==============================] - 109s 21ms/step - loss: 0.8284 - binary_output_loss: 0.1676 - multi_class_output_loss: 0.6609 - binary_output_accuracy: 0.9169 - multi_class_output_accuracy: 0.7541 - val_loss: 0.7711 - val_binary_output_loss: 0.1539 - val_multi_class_output_loss: 0.6172 - val_binary_output_accuracy: 0.9222 - val_multi_class_output_accuracy: 0.7689\n",
            "Epoch 4/5\n",
            "5154/5154 [==============================] - 96s 19ms/step - loss: 0.7884 - binary_output_loss: 0.1578 - multi_class_output_loss: 0.6306 - binary_output_accuracy: 0.9235 - multi_class_output_accuracy: 0.7667 - val_loss: 0.7072 - val_binary_output_loss: 0.1374 - val_multi_class_output_loss: 0.5698 - val_binary_output_accuracy: 0.9363 - val_multi_class_output_accuracy: 0.7842\n",
            "Epoch 5/5\n",
            "5154/5154 [==============================] - 91s 18ms/step - loss: 0.7615 - binary_output_loss: 0.1509 - multi_class_output_loss: 0.6106 - binary_output_accuracy: 0.9284 - multi_class_output_accuracy: 0.7720 - val_loss: 0.6892 - val_binary_output_loss: 0.1327 - val_multi_class_output_loss: 0.5565 - val_binary_output_accuracy: 0.9362 - val_multi_class_output_accuracy: 0.7867\n"
          ]
        },
        {
          "output_type": "execute_result",
          "data": {
            "text/plain": [
              "<keras.src.callbacks.History at 0x785791ecabc0>"
            ]
          },
          "metadata": {},
          "execution_count": 41
        }
      ]
    },
    {
      "cell_type": "code",
      "source": [
        "from sklearn.metrics import accuracy_score, precision_score, recall_score, f1_score, confusion_matrix\n",
        "\n",
        "# Predict the test set\n",
        "y_pred_binary, y_pred_multi_class = model02LSTM_P.predict(X_test)\n",
        "y_pred_binary = (y_pred_binary > 0.5).astype(int)\n",
        "y_pred_multi_class = np.argmax(y_pred_multi_class, axis=1)\n",
        "\n",
        "# Evaluate binary classification\n",
        "binary_accuracy = accuracy_score(y_test_binary, y_pred_binary)\n",
        "binary_precision = precision_score(y_test_binary, y_pred_binary)\n",
        "binary_recall = recall_score(y_test_binary, y_pred_binary)\n",
        "binary_f1 = f1_score(y_test_binary, y_pred_binary)\n",
        "binary_confusion_matrix = confusion_matrix(y_test_binary, y_pred_binary)\n",
        "\n",
        "# Evaluate multi-class classification\n",
        "multi_class_accuracy = accuracy_score(y_test_multi_class, y_pred_multi_class)\n",
        "multi_class_precision = precision_score(y_test_multi_class, y_pred_multi_class, average='weighted')\n",
        "multi_class_recall = recall_score(y_test_multi_class, y_pred_multi_class, average='weighted')\n",
        "multi_class_f1 = f1_score(y_test_multi_class, y_pred_multi_class, average='weighted')\n",
        "multi_class_confusion_matrix = confusion_matrix(y_test_multi_class, y_pred_multi_class)\n",
        "\n",
        "# Print binary classification metrics\n",
        "print(f'Binary Classification:')\n",
        "print(f'Accuracy: {binary_accuracy}')\n",
        "print(f'Precision: {binary_precision}')\n",
        "print(f'Recall: {binary_recall}')\n",
        "print(f'F1 Score: {binary_f1}')\n",
        "print(f'Confusion Matrix:\\n{binary_confusion_matrix}')\n",
        "\n",
        "# Print multi-class classification metrics\n",
        "print(f'\\nMulti-Class Classification:')\n",
        "print(f'Accuracy: {multi_class_accuracy}')\n",
        "print(f'Precision: {multi_class_precision}')\n",
        "print(f'Recall: {multi_class_recall}')\n",
        "print(f'F1 Score: {multi_class_f1}')\n",
        "print(f'Confusion Matrix:\\n{multi_class_confusion_matrix}')\n",
        "\n",
        "\n",
        "# Store the metrics\n",
        "metrics = {\n",
        "    'Binary': {\n",
        "        'Accuracy': binary_accuracy,\n",
        "        'Precision': binary_precision,\n",
        "        'Recall': binary_recall,\n",
        "        'F1 Score': binary_f1\n",
        "    },\n",
        "    'Multi-Class': {\n",
        "        'Accuracy': multi_class_accuracy,\n",
        "        'Precision': multi_class_precision,\n",
        "        'Recall': multi_class_recall,\n",
        "        'F1 Score': multi_class_f1\n",
        "    }\n",
        "}\n"
      ],
      "metadata": {
        "colab": {
          "base_uri": "https://localhost:8080/"
        },
        "id": "WqNsbXmM9hnd",
        "outputId": "2912fed1-5b16-4563-acf3-69115d49f0db"
      },
      "execution_count": null,
      "outputs": [
        {
          "output_type": "stream",
          "name": "stdout",
          "text": [
            "1611/1611 [==============================] - 9s 5ms/step\n",
            "Binary Classification:\n",
            "Accuracy: 0.9367614242747647\n",
            "Precision: 0.9646896638155215\n",
            "Recall: 0.9352408723649839\n",
            "F1 Score: 0.9497370409784235\n",
            "Confusion Matrix:\n",
            "[[17486  1127]\n",
            " [ 2132 30790]]\n",
            "\n",
            "Multi-Class Classification:\n",
            "Accuracy: 0.7854467837392064\n",
            "Precision: 0.728303831347416\n",
            "Recall: 0.7854467837392064\n",
            "F1 Score: 0.746030525626731\n",
            "Confusion Matrix:\n",
            "[[    0     0     0   419     8     0    74    18     0     0]\n",
            " [    0     0     0   414     6     0    16    32     0     0]\n",
            " [    0     0     0  2917    68    13    76   218     0     0]\n",
            " [    0     0     0  7876   231     8   378   587     0     0]\n",
            " [    0     0     6   710  1761     0  2128   226     0     0]\n",
            " [    0     0     0   195    45 11230    33    34     0     0]\n",
            " [    0     0     0   177   383     1 17927   125     0     0]\n",
            " [    0     0     0   887    57     2   222  1684     0     0]\n",
            " [    0     0     0    29    25     0    58   197     0     0]\n",
            " [    0     0     0    31     3     0     0     0     0     0]]\n"
          ]
        },
        {
          "output_type": "stream",
          "name": "stderr",
          "text": [
            "/usr/local/lib/python3.10/dist-packages/sklearn/metrics/_classification.py:1344: UndefinedMetricWarning: Precision is ill-defined and being set to 0.0 in labels with no predicted samples. Use `zero_division` parameter to control this behavior.\n",
            "  _warn_prf(average, modifier, msg_start, len(result))\n"
          ]
        }
      ]
    },
    {
      "cell_type": "code",
      "source": [
        "import matplotlib.pyplot as plt\n",
        "\n",
        "# Plot the metrics\n",
        "categories = ['Accuracy', 'Precision', 'Recall', 'F1 Score']\n",
        "binary_values = [metrics['Binary'][cat] for cat in categories]\n",
        "multi_class_values = [metrics['Multi-Class'][cat] for cat in categories]\n",
        "\n",
        "x = np.arange(len(categories))  # the label locations\n",
        "width = 0.35  # the width of the bars\n",
        "\n",
        "# Adjust the size of the plot to a medium size\n",
        "fig, ax = plt.subplots(figsize=(10, 6))\n",
        "\n",
        "rects1 = ax.bar(x - width/2, binary_values, width, label='Binary Classification', color='#003566')\n",
        "rects2 = ax.bar(x + width/2, multi_class_values, width, label='Multi-Class Classification', color='#ffc300')\n",
        "\n",
        "# Add some text for labels, title and custom x-axis tick labels, etc.\n",
        "ax.set_xlabel('Metrics')\n",
        "ax.set_ylabel('Scores')\n",
        "ax.set_title('CNN + LSTM ')\n",
        "ax.set_xticks(x)\n",
        "ax.set_xticklabels(categories)\n",
        "\n",
        "# Place the legend in the bottom right corner\n",
        "ax.legend(loc='lower right')\n",
        "\n",
        "# Function to add labels on bars\n",
        "def autolabel(rects):\n",
        "    for rect in rects:\n",
        "        height = rect.get_height()\n",
        "        ax.annotate('{}'.format(round(height, 4)),\n",
        "                    xy=(rect.get_x() + rect.get_width() / 2, height),\n",
        "                    xytext=(0, 3),  # 3 points vertical offset\n",
        "                    textcoords=\"offset points\",\n",
        "                    ha='center', va='bottom')\n",
        "\n",
        "autolabel(rects1)\n",
        "autolabel(rects2)\n",
        "\n",
        "fig.tight_layout()\n",
        "\n",
        "plt.show()"
      ],
      "metadata": {
        "colab": {
          "base_uri": "https://localhost:8080/",
          "height": 607
        },
        "id": "BXadAFY29hqg",
        "outputId": "2a2c82f4-89c8-4dd4-89a5-43323903a6c4"
      },
      "execution_count": null,
      "outputs": [
        {
          "output_type": "display_data",
          "data": {
            "text/plain": [
              "<Figure size 1000x600 with 1 Axes>"
            ],
            "image/png": "[encoded data removed]"
          },
          "metadata": {}
        }
      ]
    },
    {
      "cell_type": "markdown",
      "source": [
        "CNN + Bi-LSTM 02"
      ],
      "metadata": {
        "id": "hSLKoX57-9KO"
      }
    },
    {
      "cell_type": "code",
      "source": [
        "# Define the hybrid model\n",
        "input_layer = Input(shape=(X_train.shape[1], X_train.shape[2]))\n",
        "\n",
        "# CNN for feature extraction\n",
        "x = Conv1D(filters=64, kernel_size=3, activation='relu')(input_layer)\n",
        "x = MaxPooling1D(pool_size=2)(x)\n",
        "x = Dropout(0.01)(x)\n",
        "\n",
        "# LSTM for sequence modeling\n",
        "x = LSTM(50, return_sequences=True)(x)\n",
        "x = GlobalAveragePooling1D()(x)\n",
        "\n",
        "# Shared Dense layers\n",
        "x = Dense(100, activation='relu')(x)\n",
        "x = Dropout(0.01)(x)\n",
        "\n",
        "# Output layers for binary and multi-class classification\n",
        "binary_output = Dense(1, activation='sigmoid', name='binary_output')(x)\n",
        "multi_class_output = Dense(len(y_multi_class.unique()), activation='softmax', name='multi_class_output')(x)\n",
        "\n",
        "# Define the model\n",
        "model02BiLSTM_P = Model(inputs=input_layer, outputs=[binary_output, multi_class_output])"
      ],
      "metadata": {
        "id": "fe4lnpRU9htT"
      },
      "execution_count": null,
      "outputs": []
    },
    {
      "cell_type": "code",
      "source": [
        "# Compile the model\n",
        "model02BiLSTM_P.compile(\n",
        "    optimizer='adam',\n",
        "    loss={'binary_output': 'binary_crossentropy', 'multi_class_output': 'sparse_categorical_crossentropy'},\n",
        "    metrics={'binary_output': 'accuracy', 'multi_class_output': 'accuracy'}\n",
        ")"
      ],
      "metadata": {
        "id": "5cdYxc8w9hwQ"
      },
      "execution_count": null,
      "outputs": []
    },
    {
      "cell_type": "code",
      "source": [
        "# Train the model\n",
        "model02BiLSTM_P.fit(\n",
        "    X_train, {'binary_output': y_train_binary, 'multi_class_output': y_train_multi_class},\n",
        "    epochs=10, batch_size=32, validation_split=0.2\n",
        ")\n"
      ],
      "metadata": {
        "colab": {
          "base_uri": "https://localhost:8080/"
        },
        "id": "uj3DNfj39hy4",
        "outputId": "90860c4d-40df-41c6-96c1-66d2273e7fa0"
      },
      "execution_count": null,
      "outputs": [
        {
          "output_type": "stream",
          "name": "stdout",
          "text": [
            "Epoch 1/10\n",
            "5154/5154 [==============================] - 102s 19ms/step - loss: 0.9653 - binary_output_loss: 0.2093 - multi_class_output_loss: 0.7561 - binary_output_accuracy: 0.8950 - multi_class_output_accuracy: 0.7216 - val_loss: 0.7800 - val_binary_output_loss: 0.1587 - val_multi_class_output_loss: 0.6212 - val_binary_output_accuracy: 0.9231 - val_multi_class_output_accuracy: 0.7679\n",
            "Epoch 2/10\n",
            "5154/5154 [==============================] - 96s 19ms/step - loss: 0.7450 - binary_output_loss: 0.1473 - multi_class_output_loss: 0.5977 - binary_output_accuracy: 0.9271 - multi_class_output_accuracy: 0.7753 - val_loss: 0.6948 - val_binary_output_loss: 0.1364 - val_multi_class_output_loss: 0.5584 - val_binary_output_accuracy: 0.9375 - val_multi_class_output_accuracy: 0.7912\n",
            "Epoch 3/10\n",
            "5154/5154 [==============================] - 97s 19ms/step - loss: 0.6615 - binary_output_loss: 0.1219 - multi_class_output_loss: 0.5396 - binary_output_accuracy: 0.9458 - multi_class_output_accuracy: 0.8004 - val_loss: 0.6122 - val_binary_output_loss: 0.1055 - val_multi_class_output_loss: 0.5067 - val_binary_output_accuracy: 0.9553 - val_multi_class_output_accuracy: 0.8128\n",
            "Epoch 4/10\n",
            "5154/5154 [==============================] - 92s 18ms/step - loss: 0.6093 - binary_output_loss: 0.1058 - multi_class_output_loss: 0.5035 - binary_output_accuracy: 0.9541 - multi_class_output_accuracy: 0.8135 - val_loss: 0.5795 - val_binary_output_loss: 0.0956 - val_multi_class_output_loss: 0.4838 - val_binary_output_accuracy: 0.9599 - val_multi_class_output_accuracy: 0.8211\n",
            "Epoch 5/10\n",
            "5154/5154 [==============================] - 95s 18ms/step - loss: 0.5822 - binary_output_loss: 0.0986 - multi_class_output_loss: 0.4836 - binary_output_accuracy: 0.9573 - multi_class_output_accuracy: 0.8194 - val_loss: 0.6043 - val_binary_output_loss: 0.1116 - val_multi_class_output_loss: 0.4927 - val_binary_output_accuracy: 0.9502 - val_multi_class_output_accuracy: 0.8132\n",
            "Epoch 6/10\n",
            "5154/5154 [==============================] - 96s 19ms/step - loss: 0.5635 - binary_output_loss: 0.0931 - multi_class_output_loss: 0.4704 - binary_output_accuracy: 0.9599 - multi_class_output_accuracy: 0.8234 - val_loss: 0.5544 - val_binary_output_loss: 0.0908 - val_multi_class_output_loss: 0.4636 - val_binary_output_accuracy: 0.9611 - val_multi_class_output_accuracy: 0.8259\n",
            "Epoch 7/10\n",
            "5154/5154 [==============================] - 98s 19ms/step - loss: 0.5480 - binary_output_loss: 0.0885 - multi_class_output_loss: 0.4595 - binary_output_accuracy: 0.9618 - multi_class_output_accuracy: 0.8281 - val_loss: 0.5500 - val_binary_output_loss: 0.0892 - val_multi_class_output_loss: 0.4608 - val_binary_output_accuracy: 0.9605 - val_multi_class_output_accuracy: 0.8218\n",
            "Epoch 8/10\n",
            "5154/5154 [==============================] - 92s 18ms/step - loss: 0.5343 - binary_output_loss: 0.0845 - multi_class_output_loss: 0.4498 - binary_output_accuracy: 0.9637 - multi_class_output_accuracy: 0.8311 - val_loss: 0.5181 - val_binary_output_loss: 0.0800 - val_multi_class_output_loss: 0.4381 - val_binary_output_accuracy: 0.9658 - val_multi_class_output_accuracy: 0.8349\n",
            "Epoch 9/10\n",
            "5154/5154 [==============================] - 95s 18ms/step - loss: 0.5223 - binary_output_loss: 0.0810 - multi_class_output_loss: 0.4413 - binary_output_accuracy: 0.9651 - multi_class_output_accuracy: 0.8327 - val_loss: 0.5167 - val_binary_output_loss: 0.0799 - val_multi_class_output_loss: 0.4367 - val_binary_output_accuracy: 0.9670 - val_multi_class_output_accuracy: 0.8353\n",
            "Epoch 10/10\n",
            "5154/5154 [==============================] - 95s 18ms/step - loss: 0.5110 - binary_output_loss: 0.0778 - multi_class_output_loss: 0.4332 - binary_output_accuracy: 0.9667 - multi_class_output_accuracy: 0.8361 - val_loss: 0.5211 - val_binary_output_loss: 0.0852 - val_multi_class_output_loss: 0.4360 - val_binary_output_accuracy: 0.9625 - val_multi_class_output_accuracy: 0.8332\n"
          ]
        },
        {
          "output_type": "execute_result",
          "data": {
            "text/plain": [
              "<keras.src.callbacks.History at 0x78578b66b700>"
            ]
          },
          "metadata": {},
          "execution_count": 46
        }
      ]
    },
    {
      "cell_type": "code",
      "source": [
        "from sklearn.metrics import accuracy_score, precision_score, recall_score, f1_score, confusion_matrix\n",
        "\n",
        "# Predict the test set\n",
        "y_pred_binary, y_pred_multi_class = model02BiLSTM_P.predict(X_test)\n",
        "y_pred_binary = (y_pred_binary > 0.5).astype(int)\n",
        "y_pred_multi_class = np.argmax(y_pred_multi_class, axis=1)\n",
        "\n",
        "# Evaluate binary classification\n",
        "binary_accuracy = accuracy_score(y_test_binary, y_pred_binary)\n",
        "binary_precision = precision_score(y_test_binary, y_pred_binary)\n",
        "binary_recall = recall_score(y_test_binary, y_pred_binary)\n",
        "binary_f1 = f1_score(y_test_binary, y_pred_binary)\n",
        "binary_confusion_matrix = confusion_matrix(y_test_binary, y_pred_binary)\n",
        "\n",
        "# Evaluate multi-class classification\n",
        "multi_class_accuracy = accuracy_score(y_test_multi_class, y_pred_multi_class)\n",
        "multi_class_precision = precision_score(y_test_multi_class, y_pred_multi_class, average='weighted')\n",
        "multi_class_recall = recall_score(y_test_multi_class, y_pred_multi_class, average='weighted')\n",
        "multi_class_f1 = f1_score(y_test_multi_class, y_pred_multi_class, average='weighted')\n",
        "multi_class_confusion_matrix = confusion_matrix(y_test_multi_class, y_pred_multi_class)\n",
        "\n",
        "# Print binary classification metrics\n",
        "print(f'Binary Classification:')\n",
        "print(f'Accuracy: {binary_accuracy}')\n",
        "print(f'Precision: {binary_precision}')\n",
        "print(f'Recall: {binary_recall}')\n",
        "print(f'F1 Score: {binary_f1}')\n",
        "print(f'Confusion Matrix:\\n{binary_confusion_matrix}')\n",
        "\n",
        "# Print multi-class classification metrics\n",
        "print(f'\\nMulti-Class Classification:')\n",
        "print(f'Accuracy: {multi_class_accuracy}')\n",
        "print(f'Precision: {multi_class_precision}')\n",
        "print(f'Recall: {multi_class_recall}')\n",
        "print(f'F1 Score: {multi_class_f1}')\n",
        "print(f'Confusion Matrix:\\n{multi_class_confusion_matrix}')\n",
        "\n",
        "\n",
        "# Store the metrics\n",
        "metrics = {\n",
        "    'Binary': {\n",
        "        'Accuracy': binary_accuracy,\n",
        "        'Precision': binary_precision,\n",
        "        'Recall': binary_recall,\n",
        "        'F1 Score': binary_f1\n",
        "    },\n",
        "    'Multi-Class': {\n",
        "        'Accuracy': multi_class_accuracy,\n",
        "        'Precision': multi_class_precision,\n",
        "        'Recall': multi_class_recall,\n",
        "        'F1 Score': multi_class_f1\n",
        "    }\n",
        "}\n"
      ],
      "metadata": {
        "colab": {
          "base_uri": "https://localhost:8080/"
        },
        "id": "SYC7yup39h1h",
        "outputId": "1a058850-89ba-4241-c25d-101ed130df7c"
      },
      "execution_count": null,
      "outputs": [
        {
          "output_type": "stream",
          "name": "stdout",
          "text": [
            "1611/1611 [==============================] - 10s 6ms/step\n",
            "Binary Classification:\n",
            "Accuracy: 0.9633841078878432\n",
            "Precision: 0.9883556254917388\n",
            "Recall: 0.9539213899520078\n",
            "F1 Score: 0.9708332689305533\n",
            "Confusion Matrix:\n",
            "[[18243   370]\n",
            " [ 1517 31405]]\n",
            "\n",
            "Multi-Class Classification:\n",
            "Accuracy: 0.8337634617250412\n",
            "Precision: 0.8224454063186228\n",
            "Recall: 0.8337634617250412\n",
            "F1 Score: 0.8158920424845819\n",
            "Confusion Matrix:\n",
            "[[   31     3    41   313    54     0    77     0     0     0]\n",
            " [    0     1    34   333    74     0    10    12     4     0]\n",
            " [    2     0   586  2478    96     1    72    37    20     0]\n",
            " [   14     0   513  7852   396     5   205    61    34     0]\n",
            " [    3     0    64   484  3035     0  1158    74    13     0]\n",
            " [    0     0    58   174    35 11226    31    10     2     1]\n",
            " [    2     0     1    56   206     0 18296    44     8     0]\n",
            " [    0     0    72   764    75     1   103  1835     2     0]\n",
            " [    0     0     3    63    47     0    42    51   103     0]\n",
            " [    0     0     0    28     3     0     0     0     0     3]]\n"
          ]
        }
      ]
    },
    {
      "cell_type": "code",
      "source": [
        "import matplotlib.pyplot as plt\n",
        "\n",
        "# Plot the metrics\n",
        "categories = ['Accuracy', 'Precision', 'Recall', 'F1 Score']\n",
        "binary_values = [metrics['Binary'][cat] for cat in categories]\n",
        "multi_class_values = [metrics['Multi-Class'][cat] for cat in categories]\n",
        "\n",
        "x = np.arange(len(categories))  # the label locations\n",
        "width = 0.35  # the width of the bars\n",
        "\n",
        "# Adjust the size of the plot to a medium size\n",
        "fig, ax = plt.subplots(figsize=(10, 6))\n",
        "\n",
        "rects1 = ax.bar(x - width/2, binary_values, width, label='Binary Classification', color='#003566')\n",
        "rects2 = ax.bar(x + width/2, multi_class_values, width, label='Multi-Class Classification', color='#ffc300')\n",
        "\n",
        "# Add some text for labels, title and custom x-axis tick labels, etc.\n",
        "ax.set_xlabel('Metrics')\n",
        "ax.set_ylabel('Scores')\n",
        "ax.set_title('CNN + Bi-LSTM ')\n",
        "ax.set_xticks(x)\n",
        "ax.set_xticklabels(categories)\n",
        "\n",
        "# Place the legend in the bottom right corner\n",
        "ax.legend(loc='lower right')\n",
        "\n",
        "# Function to add labels on bars\n",
        "def autolabel(rects):\n",
        "    for rect in rects:\n",
        "        height = rect.get_height()\n",
        "        ax.annotate('{}'.format(round(height, 4)),\n",
        "                    xy=(rect.get_x() + rect.get_width() / 2, height),\n",
        "                    xytext=(0, 3),  # 3 points vertical offset\n",
        "                    textcoords=\"offset points\",\n",
        "                    ha='center', va='bottom')\n",
        "\n",
        "autolabel(rects1)\n",
        "autolabel(rects2)\n",
        "\n",
        "fig.tight_layout()\n",
        "\n",
        "plt.show()"
      ],
      "metadata": {
        "colab": {
          "base_uri": "https://localhost:8080/",
          "height": 607
        },
        "id": "UYWAerjP9h4J",
        "outputId": "1e37041c-e454-4632-9407-23343670380b"
      },
      "execution_count": null,
      "outputs": [
        {
          "output_type": "display_data",
          "data": {
            "text/plain": [
              "<Figure size 1000x600 with 1 Axes>"
            ],
            "image/png": "[encoded data removed]"
          },
          "metadata": {}
        }
      ]
    },
    {
      "cell_type": "markdown",
      "source": [
        "CNN + Bi-LSTM 03"
      ],
      "metadata": {
        "id": "WxFJodTRM4al"
      }
    },
    {
      "cell_type": "code",
      "source": [
        "# Define the hybrid model\n",
        "input_layer = Input(shape=(X_train.shape[1], X_train.shape[2]))\n",
        "\n",
        "# CNN for feature extraction\n",
        "x = Conv1D(filters=32, kernel_size=3, activation='relu')(input_layer)\n",
        "x = MaxPooling1D(pool_size=2)(x)\n",
        "x = Dropout(0.5)(x)\n",
        "\n",
        "# LSTM for sequence modeling\n",
        "x = LSTM(50, return_sequences=True)(x)\n",
        "x = GlobalAveragePooling1D()(x)\n",
        "\n",
        "# Shared Dense layers\n",
        "x = Dense(100, activation='relu')(x)\n",
        "x = Dropout(0.5)(x)\n",
        "\n",
        "# Output layers for binary and multi-class classification\n",
        "binary_output = Dense(1, activation='sigmoid', name='binary_output')(x)\n",
        "multi_class_output = Dense(len(y_multi_class.unique()), activation='softmax', name='multi_class_output')(x)\n",
        "\n",
        "# Define the model\n",
        "model02BiLSTM_P = Model(inputs=input_layer, outputs=[binary_output, multi_class_output])"
      ],
      "metadata": {
        "id": "jw0QI5J09h6n"
      },
      "execution_count": null,
      "outputs": []
    },
    {
      "cell_type": "code",
      "source": [
        "# Compile the model\n",
        "model02BiLSTM_P.compile(\n",
        "    optimizer='adam',\n",
        "    loss={'binary_output': 'binary_crossentropy', 'multi_class_output': 'sparse_categorical_crossentropy'},\n",
        "    metrics={'binary_output': 'accuracy', 'multi_class_output': 'accuracy'}\n",
        ")"
      ],
      "metadata": {
        "id": "gVWbpDzCHTjN"
      },
      "execution_count": null,
      "outputs": []
    },
    {
      "cell_type": "code",
      "source": [
        "# Train the model\n",
        "model02BiLSTM_P.fit(\n",
        "    X_train, {'binary_output': y_train_binary, 'multi_class_output': y_train_multi_class},\n",
        "    epochs=8, batch_size=32, validation_split=0.2\n",
        ")\n"
      ],
      "metadata": {
        "colab": {
          "base_uri": "https://localhost:8080/"
        },
        "id": "uQR8CsPNHTmD",
        "outputId": "3ba30b69-e154-44c6-8210-86d0a7fe4517"
      },
      "execution_count": null,
      "outputs": [
        {
          "output_type": "stream",
          "name": "stdout",
          "text": [
            "Epoch 1/8\n",
            "5154/5154 [==============================] - 89s 17ms/step - loss: 1.1062 - binary_output_loss: 0.2561 - multi_class_output_loss: 0.8501 - binary_output_accuracy: 0.8784 - multi_class_output_accuracy: 0.6884 - val_loss: 0.8673 - val_binary_output_loss: 0.1795 - val_multi_class_output_loss: 0.6878 - val_binary_output_accuracy: 0.9138 - val_multi_class_output_accuracy: 0.7407\n",
            "Epoch 2/8\n",
            "5154/5154 [==============================] - 83s 16ms/step - loss: 0.8729 - binary_output_loss: 0.1810 - multi_class_output_loss: 0.6919 - binary_output_accuracy: 0.9112 - multi_class_output_accuracy: 0.7449 - val_loss: 0.7752 - val_binary_output_loss: 0.1525 - val_multi_class_output_loss: 0.6227 - val_binary_output_accuracy: 0.9191 - val_multi_class_output_accuracy: 0.7686\n",
            "Epoch 3/8\n",
            "5154/5154 [==============================] - 85s 16ms/step - loss: 0.8131 - binary_output_loss: 0.1641 - multi_class_output_loss: 0.6490 - binary_output_accuracy: 0.9186 - multi_class_output_accuracy: 0.7616 - val_loss: 0.7349 - val_binary_output_loss: 0.1443 - val_multi_class_output_loss: 0.5907 - val_binary_output_accuracy: 0.9310 - val_multi_class_output_accuracy: 0.7782\n",
            "Epoch 4/8\n",
            "5154/5154 [==============================] - 85s 16ms/step - loss: 0.7802 - binary_output_loss: 0.1553 - multi_class_output_loss: 0.6249 - binary_output_accuracy: 0.9233 - multi_class_output_accuracy: 0.7695 - val_loss: 0.7068 - val_binary_output_loss: 0.1384 - val_multi_class_output_loss: 0.5684 - val_binary_output_accuracy: 0.9321 - val_multi_class_output_accuracy: 0.7842\n",
            "Epoch 5/8\n",
            "5154/5154 [==============================] - 82s 16ms/step - loss: 0.7593 - binary_output_loss: 0.1506 - multi_class_output_loss: 0.6087 - binary_output_accuracy: 0.9249 - multi_class_output_accuracy: 0.7731 - val_loss: 0.6830 - val_binary_output_loss: 0.1316 - val_multi_class_output_loss: 0.5514 - val_binary_output_accuracy: 0.9357 - val_multi_class_output_accuracy: 0.7875\n",
            "Epoch 6/8\n",
            "5154/5154 [==============================] - 81s 16ms/step - loss: 0.7357 - binary_output_loss: 0.1447 - multi_class_output_loss: 0.5910 - binary_output_accuracy: 0.9300 - multi_class_output_accuracy: 0.7791 - val_loss: 0.6646 - val_binary_output_loss: 0.1256 - val_multi_class_output_loss: 0.5390 - val_binary_output_accuracy: 0.9410 - val_multi_class_output_accuracy: 0.7922\n",
            "Epoch 7/8\n",
            "5154/5154 [==============================] - 81s 16ms/step - loss: 0.7166 - binary_output_loss: 0.1386 - multi_class_output_loss: 0.5780 - binary_output_accuracy: 0.9332 - multi_class_output_accuracy: 0.7829 - val_loss: 0.6516 - val_binary_output_loss: 0.1213 - val_multi_class_output_loss: 0.5303 - val_binary_output_accuracy: 0.9430 - val_multi_class_output_accuracy: 0.7988\n",
            "Epoch 8/8\n",
            "5154/5154 [==============================] - 82s 16ms/step - loss: 0.7012 - binary_output_loss: 0.1344 - multi_class_output_loss: 0.5669 - binary_output_accuracy: 0.9361 - multi_class_output_accuracy: 0.7875 - val_loss: 0.6340 - val_binary_output_loss: 0.1182 - val_multi_class_output_loss: 0.5158 - val_binary_output_accuracy: 0.9453 - val_multi_class_output_accuracy: 0.7999\n"
          ]
        },
        {
          "output_type": "execute_result",
          "data": {
            "text/plain": [
              "<keras.src.callbacks.History at 0x785788577490>"
            ]
          },
          "metadata": {},
          "execution_count": 56
        }
      ]
    },
    {
      "cell_type": "code",
      "source": [
        "from sklearn.metrics import accuracy_score, precision_score, recall_score, f1_score, confusion_matrix\n",
        "\n",
        "# Predict the test set\n",
        "y_pred_binary, y_pred_multi_class = model02BiLSTM_P.predict(X_test)\n",
        "y_pred_binary = (y_pred_binary > 0.5).astype(int)\n",
        "y_pred_multi_class = np.argmax(y_pred_multi_class, axis=1)\n",
        "\n",
        "# Evaluate binary classification\n",
        "binary_accuracy = accuracy_score(y_test_binary, y_pred_binary)\n",
        "binary_precision = precision_score(y_test_binary, y_pred_binary)\n",
        "binary_recall = recall_score(y_test_binary, y_pred_binary)\n",
        "binary_f1 = f1_score(y_test_binary, y_pred_binary)\n",
        "binary_confusion_matrix = confusion_matrix(y_test_binary, y_pred_binary)\n",
        "\n",
        "# Evaluate multi-class classification\n",
        "multi_class_accuracy = accuracy_score(y_test_multi_class, y_pred_multi_class)\n",
        "multi_class_precision = precision_score(y_test_multi_class, y_pred_multi_class, average='weighted')\n",
        "multi_class_recall = recall_score(y_test_multi_class, y_pred_multi_class, average='weighted')\n",
        "multi_class_f1 = f1_score(y_test_multi_class, y_pred_multi_class, average='weighted')\n",
        "multi_class_confusion_matrix = confusion_matrix(y_test_multi_class, y_pred_multi_class)\n",
        "\n",
        "# Print binary classification metrics\n",
        "print(f'Binary Classification:')\n",
        "print(f'Accuracy: {binary_accuracy}')\n",
        "print(f'Precision: {binary_precision}')\n",
        "print(f'Recall: {binary_recall}')\n",
        "print(f'F1 Score: {binary_f1}')\n",
        "print(f'Confusion Matrix:\\n{binary_confusion_matrix}')\n",
        "\n",
        "# Print multi-class classification metrics\n",
        "print(f'\\nMulti-Class Classification:')\n",
        "print(f'Accuracy: {multi_class_accuracy}')\n",
        "print(f'Precision: {multi_class_precision}')\n",
        "print(f'Recall: {multi_class_recall}')\n",
        "print(f'F1 Score: {multi_class_f1}')\n",
        "print(f'Confusion Matrix:\\n{multi_class_confusion_matrix}')\n",
        "\n",
        "\n",
        "# Store the metrics\n",
        "metrics = {\n",
        "    'Binary': {\n",
        "        'Accuracy': binary_accuracy,\n",
        "        'Precision': binary_precision,\n",
        "        'Recall': binary_recall,\n",
        "        'F1 Score': binary_f1\n",
        "    },\n",
        "    'Multi-Class': {\n",
        "        'Accuracy': multi_class_accuracy,\n",
        "        'Precision': multi_class_precision,\n",
        "        'Recall': multi_class_recall,\n",
        "        'F1 Score': multi_class_f1\n",
        "    }\n",
        "}\n"
      ],
      "metadata": {
        "colab": {
          "base_uri": "https://localhost:8080/"
        },
        "id": "9lTY9CAjHTpC",
        "outputId": "ab8ec165-00ec-4d26-e142-8400051b282a"
      },
      "execution_count": null,
      "outputs": [
        {
          "output_type": "stream",
          "name": "stdout",
          "text": [
            "1611/1611 [==============================] - 9s 5ms/step\n",
            "Binary Classification:\n",
            "Accuracy: 0.9457650140681091\n",
            "Precision: 0.9605589017641484\n",
            "Recall: 0.9542858878561449\n",
            "F1 Score: 0.9574121196422314\n",
            "Confusion Matrix:\n",
            "[[17323  1290]\n",
            " [ 1505 31417]]\n",
            "\n",
            "Multi-Class Classification:\n",
            "Accuracy: 0.7984088483554865\n",
            "Precision: 0.758224627878892\n",
            "Recall: 0.7984088483554865\n",
            "F1 Score: 0.7615805022281131\n",
            "Confusion Matrix:\n",
            "[[    0     0     0   425     4     0    81     9     0     0]\n",
            " [    0     0     1   419    18     0    16    14     0     0]\n",
            " [    0     0     2  3018    83     3    92    94     0     0]\n",
            " [    0     0     3  8271   344     5   302   155     0     0]\n",
            " [    0     0     0   743  2283     0  1737    68     0     0]\n",
            " [    0     0     2   218    51 11223    28    15     0     0]\n",
            " [    1     0     0   111   651     0 17799    51     0     0]\n",
            " [    0     0     0   921   154     0   209  1568     0     0]\n",
            " [    0     0     0    53    61     0    46   149     0     0]\n",
            " [    0     0     0    31     3     0     0     0     0     0]]\n"
          ]
        },
        {
          "output_type": "stream",
          "name": "stderr",
          "text": [
            "/usr/local/lib/python3.10/dist-packages/sklearn/metrics/_classification.py:1344: UndefinedMetricWarning: Precision is ill-defined and being set to 0.0 in labels with no predicted samples. Use `zero_division` parameter to control this behavior.\n",
            "  _warn_prf(average, modifier, msg_start, len(result))\n"
          ]
        }
      ]
    },
    {
      "cell_type": "code",
      "source": [
        "import matplotlib.pyplot as plt\n",
        "\n",
        "# Plot the metrics\n",
        "categories = ['Accuracy', 'Precision', 'Recall', 'F1 Score']\n",
        "binary_values = [metrics['Binary'][cat] for cat in categories]\n",
        "multi_class_values = [metrics['Multi-Class'][cat] for cat in categories]\n",
        "\n",
        "x = np.arange(len(categories))  # the label locations\n",
        "width = 0.35  # the width of the bars\n",
        "\n",
        "# Adjust the size of the plot to a medium size\n",
        "fig, ax = plt.subplots(figsize=(10, 6))\n",
        "\n",
        "rects1 = ax.bar(x - width/2, binary_values, width, label='Binary Classification', color='#003566')\n",
        "rects2 = ax.bar(x + width/2, multi_class_values, width, label='Multi-Class Classification', color='#ffc300')\n",
        "\n",
        "# Add some text for labels, title and custom x-axis tick labels, etc.\n",
        "ax.set_xlabel('Metrics')\n",
        "ax.set_ylabel('Scores')\n",
        "ax.set_title('CNN + Bi-LSTM ')\n",
        "ax.set_xticks(x)\n",
        "ax.set_xticklabels(categories)\n",
        "\n",
        "# Place the legend in the bottom right corner\n",
        "ax.legend(loc='lower right')\n",
        "\n",
        "# Function to add labels on bars\n",
        "def autolabel(rects):\n",
        "    for rect in rects:\n",
        "        height = rect.get_height()\n",
        "        ax.annotate('{}'.format(round(height, 4)),\n",
        "                    xy=(rect.get_x() + rect.get_width() / 2, height),\n",
        "                    xytext=(0, 3),  # 3 points vertical offset\n",
        "                    textcoords=\"offset points\",\n",
        "                    ha='center', va='bottom')\n",
        "\n",
        "autolabel(rects1)\n",
        "autolabel(rects2)\n",
        "\n",
        "fig.tight_layout()\n",
        "\n",
        "plt.show()"
      ],
      "metadata": {
        "colab": {
          "base_uri": "https://localhost:8080/",
          "height": 607
        },
        "id": "3OiJgsqvHTr0",
        "outputId": "6d662fe2-8528-4396-dfbf-5452775824a3"
      },
      "execution_count": null,
      "outputs": [
        {
          "output_type": "display_data",
          "data": {
            "text/plain": [
              "<Figure size 1000x600 with 1 Axes>"
            ],
            "image/png": "[encoded data removed]"
          },
          "metadata": {}
        }
      ]
    },
    {
      "cell_type": "code",
      "source": [],
      "metadata": {
        "id": "XH5QlBupHTu0"
      },
      "execution_count": null,
      "outputs": []
    },
    {
      "cell_type": "code",
      "source": [],
      "metadata": {
        "id": "xDPMjXt0HTxj"
      },
      "execution_count": null,
      "outputs": []
    },
    {
      "cell_type": "code",
      "source": [],
      "metadata": {
        "id": "mWLSjojHHT0c"
      },
      "execution_count": null,
      "outputs": []
    },
    {
      "cell_type": "code",
      "source": [],
      "metadata": {
        "id": "RpDYsAPxHT3P"
      },
      "execution_count": null,
      "outputs": []
    },
    {
      "cell_type": "code",
      "source": [],
      "metadata": {
        "id": "PpYuayMPHT6Q"
      },
      "execution_count": null,
      "outputs": []
    },
    {
      "cell_type": "code",
      "source": [],
      "metadata": {
        "id": "4xh33ABqHT84"
      },
      "execution_count": null,
      "outputs": []
    },
    {
      "cell_type": "code",
      "source": [],
      "metadata": {
        "id": "63IH3wCOHUAj"
      },
      "execution_count": null,
      "outputs": []
    },
    {
      "cell_type": "code",
      "source": [],
      "metadata": {
        "id": "Pmq0A6fOHUDu"
      },
      "execution_count": null,
      "outputs": []
    },
    {
      "cell_type": "code",
      "source": [],
      "metadata": {
        "id": "8WzLGFIwHULp"
      },
      "execution_count": null,
      "outputs": []
    },
    {
      "cell_type": "code",
      "source": [],
      "metadata": {
        "id": "6ofSp2KuHUOo"
      },
      "execution_count": null,
      "outputs": []
    },
    {
      "cell_type": "code",
      "source": [],
      "metadata": {
        "id": "djUUXtP9HURp"
      },
      "execution_count": null,
      "outputs": []
    },
    {
      "cell_type": "code",
      "source": [],
      "metadata": {
        "id": "zdjKnJHhHUUm"
      },
      "execution_count": null,
      "outputs": []
    },
    {
      "cell_type": "code",
      "source": [],
      "metadata": {
        "id": "SAcNFo3iHUXb"
      },
      "execution_count": null,
      "outputs": []
    },
    {
      "cell_type": "code",
      "source": [],
      "metadata": {
        "id": "_J22ZF3pHUaa"
      },
      "execution_count": null,
      "outputs": []
    },
    {
      "cell_type": "code",
      "source": [],
      "metadata": {
        "id": "c-51A4PwHUdE"
      },
      "execution_count": null,
      "outputs": []
    },
    {
      "cell_type": "code",
      "source": [],
      "metadata": {
        "id": "4htO1fUSHUif"
      },
      "execution_count": null,
      "outputs": []
    }
  ]
}