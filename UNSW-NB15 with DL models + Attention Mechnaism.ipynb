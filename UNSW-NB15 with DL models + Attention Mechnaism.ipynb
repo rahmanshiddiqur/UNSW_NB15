{
  "nbformat": 4,
  "nbformat_minor": 0,
  "metadata": {
    "colab": {
      "provenance": []
    },
    "kernelspec": {
      "name": "python3",
      "display_name": "Python 3"
    },
    "language_info": {
      "name": "python"
    }
  },
  "cells": [
    {
      "cell_type": "code",
      "execution_count": null,
      "metadata": {
        "colab": {
          "base_uri": "https://localhost:8080/"
        },
        "id": "DgdmkWhAKf_q",
        "outputId": "73a3827a-d25a-4e74-d5ce-29d60337b9e9"
      },
      "outputs": [
        {
          "output_type": "stream",
          "name": "stdout",
          "text": [
            "Mounted at /content/drive\n"
          ]
        }
      ],
      "source": [
        "from google.colab import drive\n",
        "drive.mount('/content/drive')"
      ]
    },
    {
      "cell_type": "code",
      "source": [
        "import pandas as pd\n",
        "\n",
        "train_df = pd.read_csv('/content/drive/MyDrive/Dataset/UNSW-NB15/UNSW_NB15_training-set.csv')\n",
        "test_df = pd.read_csv('/content/drive/MyDrive/Dataset/UNSW-NB15/UNSW_NB15_testing-set.csv')\n",
        "\n",
        "data = pd.concat([train_df, test_df], ignore_index=True)\n",
        "\n",
        "data.head()"
      ],
      "metadata": {
        "colab": {
          "base_uri": "https://localhost:8080/",
          "height": 235
        },
        "id": "c6gZKIioK6mj",
        "outputId": "2df60b09-bc21-4de6-ed71-19b6588edc78"
      },
      "execution_count": null,
      "outputs": [
        {
          "output_type": "execute_result",
          "data": {
            "text/plain": [
              "   id       dur proto service state  spkts  dpkts  sbytes  dbytes       rate  \\\n",
              "0   1  0.121478   tcp       -   FIN      6      4     258     172  74.087490   \n",
              "1   2  0.649902   tcp       -   FIN     14     38     734   42014  78.473372   \n",
              "2   3  1.623129   tcp       -   FIN      8     16     364   13186  14.170161   \n",
              "3   4  1.681642   tcp     ftp   FIN     12     12     628     770  13.677108   \n",
              "4   5  0.449454   tcp       -   FIN     10      6     534     268  33.373826   \n",
              "\n",
              "   ...  ct_dst_sport_ltm  ct_dst_src_ltm  is_ftp_login  ct_ftp_cmd  \\\n",
              "0  ...                 1               1             0           0   \n",
              "1  ...                 1               2             0           0   \n",
              "2  ...                 1               3             0           0   \n",
              "3  ...                 1               3             1           1   \n",
              "4  ...                 1              40             0           0   \n",
              "\n",
              "   ct_flw_http_mthd  ct_src_ltm  ct_srv_dst  is_sm_ips_ports  attack_cat  \\\n",
              "0                 0           1           1                0      Normal   \n",
              "1                 0           1           6                0      Normal   \n",
              "2                 0           2           6                0      Normal   \n",
              "3                 0           2           1                0      Normal   \n",
              "4                 0           2          39                0      Normal   \n",
              "\n",
              "   label  \n",
              "0      0  \n",
              "1      0  \n",
              "2      0  \n",
              "3      0  \n",
              "4      0  \n",
              "\n",
              "[5 rows x 45 columns]"
            ],
            "text/html": [
              "\n",
              "  <div id=\"df-af40ede4-2089-4c3c-8e83-a3f0675e7b7b\" class=\"colab-df-container\">\n",
              "    <div>\n",
              "<style scoped>\n",
              "    .dataframe tbody tr th:only-of-type {\n",
              "        vertical-align: middle;\n",
              "    }\n",
              "\n",
              "    .dataframe tbody tr th {\n",
              "        vertical-align: top;\n",
              "    }\n",
              "\n",
              "    .dataframe thead th {\n",
              "        text-align: right;\n",
              "    }\n",
              "</style>\n",
              "<table border=\"1\" class=\"dataframe\">\n",
              "  <thead>\n",
              "    <tr style=\"text-align: right;\">\n",
              "      <th></th>\n",
              "      <th>id</th>\n",
              "      <th>dur</th>\n",
              "      <th>proto</th>\n",
              "      <th>service</th>\n",
              "      <th>state</th>\n",
              "      <th>spkts</th>\n",
              "      <th>dpkts</th>\n",
              "      <th>sbytes</th>\n",
              "      <th>dbytes</th>\n",
              "      <th>rate</th>\n",
              "      <th>...</th>\n",
              "      <th>ct_dst_sport_ltm</th>\n",
              "      <th>ct_dst_src_ltm</th>\n",
              "      <th>is_ftp_login</th>\n",
              "      <th>ct_ftp_cmd</th>\n",
              "      <th>ct_flw_http_mthd</th>\n",
              "      <th>ct_src_ltm</th>\n",
              "      <th>ct_srv_dst</th>\n",
              "      <th>is_sm_ips_ports</th>\n",
              "      <th>attack_cat</th>\n",
              "      <th>label</th>\n",
              "    </tr>\n",
              "  </thead>\n",
              "  <tbody>\n",
              "    <tr>\n",
              "      <th>0</th>\n",
              "      <td>1</td>\n",
              "      <td>0.121478</td>\n",
              "      <td>tcp</td>\n",
              "      <td>-</td>\n",
              "      <td>FIN</td>\n",
              "      <td>6</td>\n",
              "      <td>4</td>\n",
              "      <td>258</td>\n",
              "      <td>172</td>\n",
              "      <td>74.087490</td>\n",
              "      <td>...</td>\n",
              "      <td>1</td>\n",
              "      <td>1</td>\n",
              "      <td>0</td>\n",
              "      <td>0</td>\n",
              "      <td>0</td>\n",
              "      <td>1</td>\n",
              "      <td>1</td>\n",
              "      <td>0</td>\n",
              "      <td>Normal</td>\n",
              "      <td>0</td>\n",
              "    </tr>\n",
              "    <tr>\n",
              "      <th>1</th>\n",
              "      <td>2</td>\n",
              "      <td>0.649902</td>\n",
              "      <td>tcp</td>\n",
              "      <td>-</td>\n",
              "      <td>FIN</td>\n",
              "      <td>14</td>\n",
              "      <td>38</td>\n",
              "      <td>734</td>\n",
              "      <td>42014</td>\n",
              "      <td>78.473372</td>\n",
              "      <td>...</td>\n",
              "      <td>1</td>\n",
              "      <td>2</td>\n",
              "      <td>0</td>\n",
              "      <td>0</td>\n",
              "      <td>0</td>\n",
              "      <td>1</td>\n",
              "      <td>6</td>\n",
              "      <td>0</td>\n",
              "      <td>Normal</td>\n",
              "      <td>0</td>\n",
              "    </tr>\n",
              "    <tr>\n",
              "      <th>2</th>\n",
              "      <td>3</td>\n",
              "      <td>1.623129</td>\n",
              "      <td>tcp</td>\n",
              "      <td>-</td>\n",
              "      <td>FIN</td>\n",
              "      <td>8</td>\n",
              "      <td>16</td>\n",
              "      <td>364</td>\n",
              "      <td>13186</td>\n",
              "      <td>14.170161</td>\n",
              "      <td>...</td>\n",
              "      <td>1</td>\n",
              "      <td>3</td>\n",
              "      <td>0</td>\n",
              "      <td>0</td>\n",
              "      <td>0</td>\n",
              "      <td>2</td>\n",
              "      <td>6</td>\n",
              "      <td>0</td>\n",
              "      <td>Normal</td>\n",
              "      <td>0</td>\n",
              "    </tr>\n",
              "    <tr>\n",
              "      <th>3</th>\n",
              "      <td>4</td>\n",
              "      <td>1.681642</td>\n",
              "      <td>tcp</td>\n",
              "      <td>ftp</td>\n",
              "      <td>FIN</td>\n",
              "      <td>12</td>\n",
              "      <td>12</td>\n",
              "      <td>628</td>\n",
              "      <td>770</td>\n",
              "      <td>13.677108</td>\n",
              "      <td>...</td>\n",
              "      <td>1</td>\n",
              "      <td>3</td>\n",
              "      <td>1</td>\n",
              "      <td>1</td>\n",
              "      <td>0</td>\n",
              "      <td>2</td>\n",
              "      <td>1</td>\n",
              "      <td>0</td>\n",
              "      <td>Normal</td>\n",
              "      <td>0</td>\n",
              "    </tr>\n",
              "    <tr>\n",
              "      <th>4</th>\n",
              "      <td>5</td>\n",
              "      <td>0.449454</td>\n",
              "      <td>tcp</td>\n",
              "      <td>-</td>\n",
              "      <td>FIN</td>\n",
              "      <td>10</td>\n",
              "      <td>6</td>\n",
              "      <td>534</td>\n",
              "      <td>268</td>\n",
              "      <td>33.373826</td>\n",
              "      <td>...</td>\n",
              "      <td>1</td>\n",
              "      <td>40</td>\n",
              "      <td>0</td>\n",
              "      <td>0</td>\n",
              "      <td>0</td>\n",
              "      <td>2</td>\n",
              "      <td>39</td>\n",
              "      <td>0</td>\n",
              "      <td>Normal</td>\n",
              "      <td>0</td>\n",
              "    </tr>\n",
              "  </tbody>\n",
              "</table>\n",
              "<p>5 rows × 45 columns</p>\n",
              "</div>\n",
              "    <div class=\"colab-df-buttons\">\n",
              "\n",
              "  <div class=\"colab-df-container\">\n",
              "    <button class=\"colab-df-convert\" onclick=\"convertToInteractive('df-af40ede4-2089-4c3c-8e83-a3f0675e7b7b')\"\n",
              "            title=\"Convert this dataframe to an interactive table.\"\n",
              "            style=\"display:none;\">\n",
              "\n",
              "  <svg xmlns=\"http://www.w3.org/2000/svg\" height=\"24px\" viewBox=\"0 -960 960 960\">\n",
              "    <path d=\"M120-120v-720h720v720H120Zm60-500h600v-160H180v160Zm220 220h160v-160H400v160Zm0 220h160v-160H400v160ZM180-400h160v-160H180v160Zm440 0h160v-160H620v160ZM180-180h160v-160H180v160Zm440 0h160v-160H620v160Z\"/>\n",
              "  </svg>\n",
              "    </button>\n",
              "\n",
              "  <style>\n",
              "    .colab-df-container {\n",
              "      display:flex;\n",
              "      gap: 12px;\n",
              "    }\n",
              "\n",
              "    .colab-df-convert {\n",
              "      background-color: #E8F0FE;\n",
              "      border: none;\n",
              "      border-radius: 50%;\n",
              "      cursor: pointer;\n",
              "      display: none;\n",
              "      fill: #1967D2;\n",
              "      height: 32px;\n",
              "      padding: 0 0 0 0;\n",
              "      width: 32px;\n",
              "    }\n",
              "\n",
              "    .colab-df-convert:hover {\n",
              "      background-color: #E2EBFA;\n",
              "      box-shadow: 0px 1px 2px rgba(60, 64, 67, 0.3), 0px 1px 3px 1px rgba(60, 64, 67, 0.15);\n",
              "      fill: #174EA6;\n",
              "    }\n",
              "\n",
              "    .colab-df-buttons div {\n",
              "      margin-bottom: 4px;\n",
              "    }\n",
              "\n",
              "    [theme=dark] .colab-df-convert {\n",
              "      background-color: #3B4455;\n",
              "      fill: #D2E3FC;\n",
              "    }\n",
              "\n",
              "    [theme=dark] .colab-df-convert:hover {\n",
              "      background-color: #434B5C;\n",
              "      box-shadow: 0px 1px 3px 1px rgba(0, 0, 0, 0.15);\n",
              "      filter: drop-shadow(0px 1px 2px rgba(0, 0, 0, 0.3));\n",
              "      fill: #FFFFFF;\n",
              "    }\n",
              "  </style>\n",
              "\n",
              "    <script>\n",
              "      const buttonEl =\n",
              "        document.querySelector('#df-af40ede4-2089-4c3c-8e83-a3f0675e7b7b button.colab-df-convert');\n",
              "      buttonEl.style.display =\n",
              "        google.colab.kernel.accessAllowed ? 'block' : 'none';\n",
              "\n",
              "      async function convertToInteractive(key) {\n",
              "        const element = document.querySelector('#df-af40ede4-2089-4c3c-8e83-a3f0675e7b7b');\n",
              "        const dataTable =\n",
              "          await google.colab.kernel.invokeFunction('convertToInteractive',\n",
              "                                                    [key], {});\n",
              "        if (!dataTable) return;\n",
              "\n",
              "        const docLinkHtml = 'Like what you see? Visit the ' +\n",
              "          '<a target=\"_blank\" href=https://colab.research.google.com/notebooks/data_table.ipynb>data table notebook</a>'\n",
              "          + ' to learn more about interactive tables.';\n",
              "        element.innerHTML = '';\n",
              "        dataTable['output_type'] = 'display_data';\n",
              "        await google.colab.output.renderOutput(dataTable, element);\n",
              "        const docLink = document.createElement('div');\n",
              "        docLink.innerHTML = docLinkHtml;\n",
              "        element.appendChild(docLink);\n",
              "      }\n",
              "    </script>\n",
              "  </div>\n",
              "\n",
              "\n",
              "<div id=\"df-558544be-6499-47fb-8e18-cf19c5200f72\">\n",
              "  <button class=\"colab-df-quickchart\" onclick=\"quickchart('df-558544be-6499-47fb-8e18-cf19c5200f72')\"\n",
              "            title=\"Suggest charts\"\n",
              "            style=\"display:none;\">\n",
              "\n",
              "<svg xmlns=\"http://www.w3.org/2000/svg\" height=\"24px\"viewBox=\"0 0 24 24\"\n",
              "     width=\"24px\">\n",
              "    <g>\n",
              "        <path d=\"M19 3H5c-1.1 0-2 .9-2 2v14c0 1.1.9 2 2 2h14c1.1 0 2-.9 2-2V5c0-1.1-.9-2-2-2zM9 17H7v-7h2v7zm4 0h-2V7h2v10zm4 0h-2v-4h2v4z\"/>\n",
              "    </g>\n",
              "</svg>\n",
              "  </button>\n",
              "\n",
              "<style>\n",
              "  .colab-df-quickchart {\n",
              "      --bg-color: #E8F0FE;\n",
              "      --fill-color: #1967D2;\n",
              "      --hover-bg-color: #E2EBFA;\n",
              "      --hover-fill-color: #174EA6;\n",
              "      --disabled-fill-color: #AAA;\n",
              "      --disabled-bg-color: #DDD;\n",
              "  }\n",
              "\n",
              "  [theme=dark] .colab-df-quickchart {\n",
              "      --bg-color: #3B4455;\n",
              "      --fill-color: #D2E3FC;\n",
              "      --hover-bg-color: #434B5C;\n",
              "      --hover-fill-color: #FFFFFF;\n",
              "      --disabled-bg-color: #3B4455;\n",
              "      --disabled-fill-color: #666;\n",
              "  }\n",
              "\n",
              "  .colab-df-quickchart {\n",
              "    background-color: var(--bg-color);\n",
              "    border: none;\n",
              "    border-radius: 50%;\n",
              "    cursor: pointer;\n",
              "    display: none;\n",
              "    fill: var(--fill-color);\n",
              "    height: 32px;\n",
              "    padding: 0;\n",
              "    width: 32px;\n",
              "  }\n",
              "\n",
              "  .colab-df-quickchart:hover {\n",
              "    background-color: var(--hover-bg-color);\n",
              "    box-shadow: 0 1px 2px rgba(60, 64, 67, 0.3), 0 1px 3px 1px rgba(60, 64, 67, 0.15);\n",
              "    fill: var(--button-hover-fill-color);\n",
              "  }\n",
              "\n",
              "  .colab-df-quickchart-complete:disabled,\n",
              "  .colab-df-quickchart-complete:disabled:hover {\n",
              "    background-color: var(--disabled-bg-color);\n",
              "    fill: var(--disabled-fill-color);\n",
              "    box-shadow: none;\n",
              "  }\n",
              "\n",
              "  .colab-df-spinner {\n",
              "    border: 2px solid var(--fill-color);\n",
              "    border-color: transparent;\n",
              "    border-bottom-color: var(--fill-color);\n",
              "    animation:\n",
              "      spin 1s steps(1) infinite;\n",
              "  }\n",
              "\n",
              "  @keyframes spin {\n",
              "    0% {\n",
              "      border-color: transparent;\n",
              "      border-bottom-color: var(--fill-color);\n",
              "      border-left-color: var(--fill-color);\n",
              "    }\n",
              "    20% {\n",
              "      border-color: transparent;\n",
              "      border-left-color: var(--fill-color);\n",
              "      border-top-color: var(--fill-color);\n",
              "    }\n",
              "    30% {\n",
              "      border-color: transparent;\n",
              "      border-left-color: var(--fill-color);\n",
              "      border-top-color: var(--fill-color);\n",
              "      border-right-color: var(--fill-color);\n",
              "    }\n",
              "    40% {\n",
              "      border-color: transparent;\n",
              "      border-right-color: var(--fill-color);\n",
              "      border-top-color: var(--fill-color);\n",
              "    }\n",
              "    60% {\n",
              "      border-color: transparent;\n",
              "      border-right-color: var(--fill-color);\n",
              "    }\n",
              "    80% {\n",
              "      border-color: transparent;\n",
              "      border-right-color: var(--fill-color);\n",
              "      border-bottom-color: var(--fill-color);\n",
              "    }\n",
              "    90% {\n",
              "      border-color: transparent;\n",
              "      border-bottom-color: var(--fill-color);\n",
              "    }\n",
              "  }\n",
              "</style>\n",
              "\n",
              "  <script>\n",
              "    async function quickchart(key) {\n",
              "      const quickchartButtonEl =\n",
              "        document.querySelector('#' + key + ' button');\n",
              "      quickchartButtonEl.disabled = true;  // To prevent multiple clicks.\n",
              "      quickchartButtonEl.classList.add('colab-df-spinner');\n",
              "      try {\n",
              "        const charts = await google.colab.kernel.invokeFunction(\n",
              "            'suggestCharts', [key], {});\n",
              "      } catch (error) {\n",
              "        console.error('Error during call to suggestCharts:', error);\n",
              "      }\n",
              "      quickchartButtonEl.classList.remove('colab-df-spinner');\n",
              "      quickchartButtonEl.classList.add('colab-df-quickchart-complete');\n",
              "    }\n",
              "    (() => {\n",
              "      let quickchartButtonEl =\n",
              "        document.querySelector('#df-558544be-6499-47fb-8e18-cf19c5200f72 button');\n",
              "      quickchartButtonEl.style.display =\n",
              "        google.colab.kernel.accessAllowed ? 'block' : 'none';\n",
              "    })();\n",
              "  </script>\n",
              "</div>\n",
              "\n",
              "    </div>\n",
              "  </div>\n"
            ],
            "application/vnd.google.colaboratory.intrinsic+json": {
              "type": "dataframe",
              "variable_name": "data"
            }
          },
          "metadata": {},
          "execution_count": 3
        }
      ]
    },
    {
      "cell_type": "code",
      "source": [
        "from sklearn.preprocessing import LabelEncoder\n",
        "\n",
        "# Identify the target variable\n",
        "categorical_target = 'attack_cat'\n",
        "binary_target = 'label'\n",
        "\n",
        "# Initialize the label encoder\n",
        "label_encoder = LabelEncoder()\n",
        "\n",
        "# Apply label encoding to the target variable\n",
        "if categorical_target in data.columns:\n",
        "    data[categorical_target] = label_encoder.fit_transform(data[categorical_target])\n",
        "\n",
        "# Apply label encoding to each categorical feature\n",
        "for col in data.select_dtypes(include=['object']).columns:\n",
        "    data[col] = label_encoder.fit_transform(data[col])"
      ],
      "metadata": {
        "id": "nnnuQAZFK6pj"
      },
      "execution_count": null,
      "outputs": []
    },
    {
      "cell_type": "code",
      "source": [
        "from sklearn.preprocessing import MinMaxScaler\n",
        "\n",
        "# Initialize the MinMaxScaler\n",
        "scaler = MinMaxScaler()\n",
        "\n",
        "# Apply normalization to numerical features excluding the target variables\n",
        "features_to_scale = data.columns.difference([categorical_target, binary_target])\n",
        "data[features_to_scale] = scaler.fit_transform(data[features_to_scale])"
      ],
      "metadata": {
        "id": "EU-mqFLQK6sW"
      },
      "execution_count": null,
      "outputs": []
    },
    {
      "cell_type": "code",
      "source": [
        "import numpy as np\n",
        "import pandas as pd\n",
        "from sklearn.model_selection import train_test_split\n",
        "from sklearn.preprocessing import StandardScaler\n",
        "import tensorflow as tf\n",
        "from tensorflow.keras.models import Model\n",
        "from tensorflow.keras.layers import Input, Conv1D, MaxPooling1D, Flatten, Dense, Dropout, Bidirectional, LSTM, MultiHeadAttention, GlobalAveragePooling1D\n",
        "\n",
        "\n",
        "\n",
        "# Assume 'binary_target' and 'multi_class_target' are the names of the target variables\n",
        "X = data.drop(columns=['label', 'attack_cat'])\n",
        "y_binary = data['label']\n",
        "y_multi_class = data['attack_cat']"
      ],
      "metadata": {
        "id": "aFJlsWEsNJBO"
      },
      "execution_count": null,
      "outputs": []
    },
    {
      "cell_type": "code",
      "source": [
        "# Train-test split\n",
        "X_train, X_test, y_train_binary, y_test_binary, y_train_multi_class, y_test_multi_class = train_test_split(\n",
        "    X, y_binary, y_multi_class, test_size=0.2, random_state=42)\n",
        "\n",
        "# Normalize the features\n",
        "scaler = StandardScaler()\n",
        "X_train = scaler.fit_transform(X_train)\n",
        "X_test = scaler.transform(X_test)\n",
        "\n",
        "# Reshape the data for CNN 1D input\n",
        "X_train = np.expand_dims(X_train, axis=2)\n",
        "X_test = np.expand_dims(X_test, axis=2)"
      ],
      "metadata": {
        "id": "LDO-aaE1K6u_"
      },
      "execution_count": null,
      "outputs": []
    },
    {
      "cell_type": "markdown",
      "source": [
        "CNN + LSTM + Attention Mechanism\n"
      ],
      "metadata": {
        "id": "f0j-GDy87VhN"
      }
    },
    {
      "cell_type": "code",
      "source": [
        "from tensorflow.keras.layers import Input, Conv1D, MaxPooling1D, Dropout, LSTM, MultiHeadAttention, LayerNormalization, Add, GlobalAveragePooling1D, Dense\n",
        "from tensorflow.keras.models import Model\n",
        "\n",
        "# Define the hybrid model\n",
        "input_layer = Input(shape=(X_train.shape[1], X_train.shape[2]))\n",
        "\n",
        "# CNN for feature extraction\n",
        "x = Conv1D(filters=64, kernel_size=3, activation='relu')(input_layer)\n",
        "x = MaxPooling1D(pool_size=2)(x)\n",
        "x = Dropout(0.5)(x)\n",
        "\n",
        "# LSTM for sequence modeling\n",
        "x = LSTM(50, return_sequences=True)(x)\n",
        "\n",
        "# Multi-Head Attention\n",
        "attention_output = MultiHeadAttention(num_heads=2, key_dim=50)(x, x)\n",
        "attention_output = Add()([x, attention_output])\n",
        "attention_output = LayerNormalization()(attention_output)\n",
        "\n",
        "# Flatten and Dense layers for classification\n",
        "x = GlobalAveragePooling1D()(attention_output)\n",
        "x = Dense(100, activation='relu')(x)\n",
        "x = Dropout(0.5)(x)\n",
        "\n",
        "# Output layers for binary and multi-class classification\n",
        "binary_output = Dense(1, activation='sigmoid', name='binary_output')(x)\n",
        "multi_class_output = Dense(len(y_multi_class.unique()), activation='softmax', name='multi_class_output')(x)\n",
        "\n",
        "# Define the model\n",
        "modelLSTM_A = Model(inputs=input_layer, outputs=[binary_output, multi_class_output])"
      ],
      "metadata": {
        "id": "c5osbb08K6xR"
      },
      "execution_count": null,
      "outputs": []
    },
    {
      "cell_type": "code",
      "source": [
        "# Compile the model\n",
        "modelLSTM_A.compile(\n",
        "    optimizer='adam',\n",
        "    loss={'binary_output': 'binary_crossentropy', 'multi_class_output': 'sparse_categorical_crossentropy'},\n",
        "    metrics={'binary_output': 'accuracy', 'multi_class_output': 'accuracy'}\n",
        ")"
      ],
      "metadata": {
        "id": "oicEuTtkK60F"
      },
      "execution_count": null,
      "outputs": []
    },
    {
      "cell_type": "code",
      "source": [
        "# Train the model\n",
        "modelLSTM_A.fit(\n",
        "    X_train, {'binary_output': y_train_binary, 'multi_class_output': y_train_multi_class},\n",
        "    epochs=5, batch_size=32, validation_split=0.2\n",
        ")\n"
      ],
      "metadata": {
        "colab": {
          "base_uri": "https://localhost:8080/"
        },
        "id": "eY6QedidK62u",
        "outputId": "4f476e89-17cc-4f8c-d6c2-a158caa398ff"
      },
      "execution_count": null,
      "outputs": [
        {
          "output_type": "stream",
          "name": "stdout",
          "text": [
            "Epoch 1/5\n",
            "5154/5154 [==============================] - 159s 30ms/step - loss: 1.0510 - binary_output_loss: 0.2378 - multi_class_output_loss: 0.8132 - binary_output_accuracy: 0.8868 - multi_class_output_accuracy: 0.7009 - val_loss: 0.7970 - val_binary_output_loss: 0.1609 - val_multi_class_output_loss: 0.6362 - val_binary_output_accuracy: 0.9239 - val_multi_class_output_accuracy: 0.7573\n",
            "Epoch 2/5\n",
            "5154/5154 [==============================] - 148s 29ms/step - loss: 0.8277 - binary_output_loss: 0.1690 - multi_class_output_loss: 0.6588 - binary_output_accuracy: 0.9194 - multi_class_output_accuracy: 0.7558 - val_loss: 0.7451 - val_binary_output_loss: 0.1472 - val_multi_class_output_loss: 0.5980 - val_binary_output_accuracy: 0.9331 - val_multi_class_output_accuracy: 0.7807\n",
            "Epoch 3/5\n",
            "5154/5154 [==============================] - 147s 29ms/step - loss: 0.7679 - binary_output_loss: 0.1521 - multi_class_output_loss: 0.6158 - binary_output_accuracy: 0.9295 - multi_class_output_accuracy: 0.7720 - val_loss: 0.6880 - val_binary_output_loss: 0.1319 - val_multi_class_output_loss: 0.5561 - val_binary_output_accuracy: 0.9411 - val_multi_class_output_accuracy: 0.7883\n",
            "Epoch 4/5\n",
            "5154/5154 [==============================] - 148s 29ms/step - loss: 0.7284 - binary_output_loss: 0.1409 - multi_class_output_loss: 0.5875 - binary_output_accuracy: 0.9339 - multi_class_output_accuracy: 0.7817 - val_loss: 0.6640 - val_binary_output_loss: 0.1252 - val_multi_class_output_loss: 0.5388 - val_binary_output_accuracy: 0.9441 - val_multi_class_output_accuracy: 0.7993\n",
            "Epoch 5/5\n",
            "5154/5154 [==============================] - 147s 29ms/step - loss: 0.6960 - binary_output_loss: 0.1304 - multi_class_output_loss: 0.5655 - binary_output_accuracy: 0.9411 - multi_class_output_accuracy: 0.7912 - val_loss: 0.6239 - val_binary_output_loss: 0.1112 - val_multi_class_output_loss: 0.5127 - val_binary_output_accuracy: 0.9514 - val_multi_class_output_accuracy: 0.8101\n"
          ]
        },
        {
          "output_type": "execute_result",
          "data": {
            "text/plain": [
              "<keras.src.callbacks.History at 0x7cb4def63790>"
            ]
          },
          "metadata": {},
          "execution_count": 12
        }
      ]
    },
    {
      "cell_type": "code",
      "source": [
        "from sklearn.metrics import accuracy_score, precision_score, recall_score, f1_score, confusion_matrix\n",
        "\n",
        "# Predict the test set\n",
        "y_pred_binary, y_pred_multi_class = modelLSTM_A.predict(X_test)\n",
        "y_pred_binary = (y_pred_binary > 0.5).astype(int)\n",
        "y_pred_multi_class = np.argmax(y_pred_multi_class, axis=1)\n",
        "\n",
        "# Evaluate binary classification\n",
        "binary_accuracy = accuracy_score(y_test_binary, y_pred_binary)\n",
        "binary_precision = precision_score(y_test_binary, y_pred_binary)\n",
        "binary_recall = recall_score(y_test_binary, y_pred_binary)\n",
        "binary_f1 = f1_score(y_test_binary, y_pred_binary)\n",
        "binary_confusion_matrix = confusion_matrix(y_test_binary, y_pred_binary)\n",
        "\n",
        "# Evaluate multi-class classification\n",
        "multi_class_accuracy = accuracy_score(y_test_multi_class, y_pred_multi_class)\n",
        "multi_class_precision = precision_score(y_test_multi_class, y_pred_multi_class, average='weighted')\n",
        "multi_class_recall = recall_score(y_test_multi_class, y_pred_multi_class, average='weighted')\n",
        "multi_class_f1 = f1_score(y_test_multi_class, y_pred_multi_class, average='weighted')\n",
        "multi_class_confusion_matrix = confusion_matrix(y_test_multi_class, y_pred_multi_class)\n",
        "\n",
        "# Print binary classification metrics\n",
        "print(f'Binary Classification:')\n",
        "print(f'Accuracy: {binary_accuracy}')\n",
        "print(f'Precision: {binary_precision}')\n",
        "print(f'Recall: {binary_recall}')\n",
        "print(f'F1 Score: {binary_f1}')\n",
        "print(f'Confusion Matrix:\\n{binary_confusion_matrix}')\n",
        "\n",
        "# Print multi-class classification metrics\n",
        "print(f'\\nMulti-Class Classification:')\n",
        "print(f'Accuracy: {multi_class_accuracy}')\n",
        "print(f'Precision: {multi_class_precision}')\n",
        "print(f'Recall: {multi_class_recall}')\n",
        "print(f'F1 Score: {multi_class_f1}')\n",
        "print(f'Confusion Matrix:\\n{multi_class_confusion_matrix}')\n",
        "\n",
        "\n",
        "# Store the metrics\n",
        "metrics = {\n",
        "    'Binary': {\n",
        "        'Accuracy': binary_accuracy,\n",
        "        'Precision': binary_precision,\n",
        "        'Recall': binary_recall,\n",
        "        'F1 Score': binary_f1\n",
        "    },\n",
        "    'Multi-Class': {\n",
        "        'Accuracy': multi_class_accuracy,\n",
        "        'Precision': multi_class_precision,\n",
        "        'Recall': multi_class_recall,\n",
        "        'F1 Score': multi_class_f1\n",
        "    }\n",
        "}\n"
      ],
      "metadata": {
        "colab": {
          "base_uri": "https://localhost:8080/"
        },
        "id": "LMp9g1vuK65X",
        "outputId": "f2483f54-c510-433e-d0ba-80bf8d8c4852"
      },
      "execution_count": null,
      "outputs": [
        {
          "output_type": "stream",
          "name": "stdout",
          "text": [
            "1611/1611 [==============================] - 16s 9ms/step\n",
            "Binary Classification:\n",
            "Accuracy: 0.9502862132531289\n",
            "Precision: 0.9401530967292971\n",
            "Recall: 0.9848733369783124\n",
            "F1 Score: 0.961993769470405\n",
            "Confusion Matrix:\n",
            "[[16549  2064]\n",
            " [  498 32424]]\n",
            "\n",
            "Multi-Class Classification:\n",
            "Accuracy: 0.8090812069467352\n",
            "Precision: 0.799553363495037\n",
            "Recall: 0.8090812069467352\n",
            "F1 Score: 0.7796888109010796\n",
            "Confusion Matrix:\n",
            "[[    0     0     0   438     2     0    74     5     0     0]\n",
            " [    0     0     0   431    12     0     1    24     0     0]\n",
            " [    0     0     1  3096    71     3    30    91     0     0]\n",
            " [    0     0     1  8564   326     3    76   110     0     0]\n",
            " [    0     0     0   850  3236     1   563   181     0     0]\n",
            " [    0     0     0   238    52 11221     7    19     0     0]\n",
            " [    0     0     0   292  1231     1 16989   100     0     0]\n",
            " [    0     0     0  1023    91     0    53  1685     0     0]\n",
            " [    0     0     0    87    45     0    11   166     0     0]\n",
            " [    0     0     0    31     3     0     0     0     0     0]]\n"
          ]
        },
        {
          "output_type": "stream",
          "name": "stderr",
          "text": [
            "/usr/local/lib/python3.10/dist-packages/sklearn/metrics/_classification.py:1344: UndefinedMetricWarning: Precision is ill-defined and being set to 0.0 in labels with no predicted samples. Use `zero_division` parameter to control this behavior.\n",
            "  _warn_prf(average, modifier, msg_start, len(result))\n"
          ]
        }
      ]
    },
    {
      "cell_type": "code",
      "source": [
        "import matplotlib.pyplot as plt\n",
        "\n",
        "# Plot the metrics\n",
        "categories = ['Accuracy', 'Precision', 'Recall', 'F1 Score']\n",
        "binary_values = [metrics['Binary'][cat] for cat in categories]\n",
        "multi_class_values = [metrics['Multi-Class'][cat] for cat in categories]\n",
        "\n",
        "x = np.arange(len(categories))  # the label locations\n",
        "width = 0.35  # the width of the bars\n",
        "\n",
        "# Adjust the size of the plot to a medium size\n",
        "fig, ax = plt.subplots(figsize=(10, 6))\n",
        "\n",
        "rects1 = ax.bar(x - width/2, binary_values, width, label='Binary Classification', color='#003566')\n",
        "rects2 = ax.bar(x + width/2, multi_class_values, width, label='Multi-Class Classification', color='#ffc300')\n",
        "\n",
        "# Add some text for labels, title and custom x-axis tick labels, etc.\n",
        "ax.set_xlabel('Metrics')\n",
        "ax.set_ylabel('Scores')\n",
        "ax.set_title('CNN + LSTM with Attention Mechanism')\n",
        "ax.set_xticks(x)\n",
        "ax.set_xticklabels(categories)\n",
        "\n",
        "# Place the legend in the bottom right corner\n",
        "ax.legend(loc='lower right')\n",
        "\n",
        "# Function to add labels on bars\n",
        "def autolabel(rects):\n",
        "    for rect in rects:\n",
        "        height = rect.get_height()\n",
        "        ax.annotate('{}'.format(round(height, 4)),\n",
        "                    xy=(rect.get_x() + rect.get_width() / 2, height),\n",
        "                    xytext=(0, 3),  # 3 points vertical offset\n",
        "                    textcoords=\"offset points\",\n",
        "                    ha='center', va='bottom')\n",
        "\n",
        "autolabel(rects1)\n",
        "autolabel(rects2)\n",
        "\n",
        "fig.tight_layout()\n",
        "\n",
        "plt.show()"
      ],
      "metadata": {
        "colab": {
          "base_uri": "https://localhost:8080/",
          "height": 607
        },
        "id": "FspMHN1EK68M",
        "outputId": "0a6088f2-67f4-4b1b-d426-9d739a36ed54"
      },
      "execution_count": null,
      "outputs": [
        {
          "output_type": "display_data",
          "data": {
            "text/plain": [
              "<Figure size 1000x600 with 1 Axes>"
            ],
            "image/png": "[encoded data removed]"
          },
          "metadata": {}
        }
      ]
    },
    {
      "cell_type": "markdown",
      "source": [
        "CNN+BiLSTM"
      ],
      "metadata": {
        "id": "a3nXRA8BRSem"
      }
    },
    {
      "cell_type": "code",
      "source": [
        "# Define the hybrid model\n",
        "input_layer = Input(shape=(X_train.shape[1], X_train.shape[2]))\n",
        "\n",
        "# CNN for feature extraction\n",
        "x = Conv1D(filters=64, kernel_size=3, activation='relu')(input_layer)\n",
        "x = MaxPooling1D(pool_size=2)(x)\n",
        "x = Dropout(0.5)(x)\n",
        "\n",
        "# BiLSTM for sequence modeling\n",
        "x = Bidirectional(LSTM(50, return_sequences=True))(x)\n",
        "\n",
        "# Multi-head attention layer\n",
        "attention_output, attention_weights = MultiHeadAttention(num_heads=8, key_dim=50)(x, x, return_attention_scores=True)\n",
        "x = GlobalAveragePooling1D()(attention_output)\n",
        "\n",
        "# Shared Dense layers\n",
        "x = Dense(100, activation='relu')(x)\n",
        "x = Dropout(0.5)(x)\n",
        "\n",
        "# Output layers for binary and multi-class classification\n",
        "binary_output = Dense(1, activation='sigmoid', name='binary_output')(x)\n",
        "multi_class_output = Dense(len(y_multi_class.unique()), activation='softmax', name='multi_class_output')(x)\n",
        "\n",
        "# Define the model\n",
        "modelBiLSTM_A = Model(inputs=input_layer, outputs=[binary_output, multi_class_output])"
      ],
      "metadata": {
        "id": "LWv3PiZ-K6_L"
      },
      "execution_count": null,
      "outputs": []
    },
    {
      "cell_type": "code",
      "source": [
        "# Compile the model\n",
        "modelBiLSTM_A.compile(\n",
        "    optimizer='adam',\n",
        "    loss={'binary_output': 'binary_crossentropy', 'multi_class_output': 'sparse_categorical_crossentropy'},\n",
        "    metrics={'binary_output': 'accuracy', 'multi_class_output': 'accuracy'}\n",
        ")"
      ],
      "metadata": {
        "id": "3p-DObzLK7B-"
      },
      "execution_count": null,
      "outputs": []
    },
    {
      "cell_type": "code",
      "source": [
        "# Train the model\n",
        "modelBiLSTM_A.fit(\n",
        "    X_train, {'binary_output': y_train_binary, 'multi_class_output': y_train_multi_class},\n",
        "    epochs=5, batch_size=32, validation_split=0.2\n",
        ")"
      ],
      "metadata": {
        "colab": {
          "base_uri": "https://localhost:8080/"
        },
        "id": "he1XAysUK7Ey",
        "outputId": "ca9794c7-b423-4cc8-ab70-e6aa492adf5c"
      },
      "execution_count": null,
      "outputs": [
        {
          "output_type": "stream",
          "name": "stdout",
          "text": [
            "Epoch 1/5\n",
            "5154/5154 [==============================] - 323s 62ms/step - loss: 1.0288 - binary_output_loss: 0.2331 - multi_class_output_loss: 0.7957 - binary_output_accuracy: 0.8897 - multi_class_output_accuracy: 0.7052 - val_loss: 0.7726 - val_binary_output_loss: 0.1573 - val_multi_class_output_loss: 0.6154 - val_binary_output_accuracy: 0.9261 - val_multi_class_output_accuracy: 0.7696\n",
            "Epoch 2/5\n",
            "5154/5154 [==============================] - 335s 65ms/step - loss: 0.8126 - binary_output_loss: 0.1676 - multi_class_output_loss: 0.6449 - binary_output_accuracy: 0.9210 - multi_class_output_accuracy: 0.7594 - val_loss: 0.7324 - val_binary_output_loss: 0.1459 - val_multi_class_output_loss: 0.5865 - val_binary_output_accuracy: 0.9297 - val_multi_class_output_accuracy: 0.7771\n",
            "Epoch 3/5\n",
            "5154/5154 [==============================] - 337s 65ms/step - loss: 0.7635 - binary_output_loss: 0.1548 - multi_class_output_loss: 0.6087 - binary_output_accuracy: 0.9275 - multi_class_output_accuracy: 0.7719 - val_loss: 0.7110 - val_binary_output_loss: 0.1425 - val_multi_class_output_loss: 0.5685 - val_binary_output_accuracy: 0.9335 - val_multi_class_output_accuracy: 0.7816\n",
            "Epoch 4/5\n",
            "5154/5154 [==============================] - 336s 65ms/step - loss: 0.7258 - binary_output_loss: 0.1447 - multi_class_output_loss: 0.5811 - binary_output_accuracy: 0.9332 - multi_class_output_accuracy: 0.7836 - val_loss: 0.6654 - val_binary_output_loss: 0.1262 - val_multi_class_output_loss: 0.5393 - val_binary_output_accuracy: 0.9414 - val_multi_class_output_accuracy: 0.7982\n",
            "Epoch 5/5\n",
            "5154/5154 [==============================] - 318s 62ms/step - loss: 0.6945 - binary_output_loss: 0.1352 - multi_class_output_loss: 0.5594 - binary_output_accuracy: 0.9377 - multi_class_output_accuracy: 0.7916 - val_loss: 0.6242 - val_binary_output_loss: 0.1172 - val_multi_class_output_loss: 0.5070 - val_binary_output_accuracy: 0.9439 - val_multi_class_output_accuracy: 0.8032\n"
          ]
        },
        {
          "output_type": "execute_result",
          "data": {
            "text/plain": [
              "<keras.src.callbacks.History at 0x7cb4df002bc0>"
            ]
          },
          "metadata": {},
          "execution_count": 21
        }
      ]
    },
    {
      "cell_type": "code",
      "source": [
        "from sklearn.metrics import accuracy_score, precision_score, recall_score, f1_score, confusion_matrix\n",
        "\n",
        "# Predict the test set\n",
        "y_pred_binary, y_pred_multi_class = modelBiLSTM_A.predict(X_test)\n",
        "y_pred_binary = (y_pred_binary > 0.5).astype(int)\n",
        "y_pred_multi_class = np.argmax(y_pred_multi_class, axis=1)\n",
        "\n",
        "# Evaluate binary classification\n",
        "binary_accuracy = accuracy_score(y_test_binary, y_pred_binary)\n",
        "binary_precision = precision_score(y_test_binary, y_pred_binary)\n",
        "binary_recall = recall_score(y_test_binary, y_pred_binary)\n",
        "binary_f1 = f1_score(y_test_binary, y_pred_binary)\n",
        "binary_confusion_matrix = confusion_matrix(y_test_binary, y_pred_binary)\n",
        "\n",
        "# Evaluate multi-class classification\n",
        "multi_class_accuracy = accuracy_score(y_test_multi_class, y_pred_multi_class)\n",
        "multi_class_precision = precision_score(y_test_multi_class, y_pred_multi_class, average='weighted')\n",
        "multi_class_recall = recall_score(y_test_multi_class, y_pred_multi_class, average='weighted')\n",
        "multi_class_f1 = f1_score(y_test_multi_class, y_pred_multi_class, average='weighted')\n",
        "multi_class_confusion_matrix = confusion_matrix(y_test_multi_class, y_pred_multi_class)\n",
        "\n",
        "# Print binary classification metrics\n",
        "print(f'Binary Classification:')\n",
        "print(f'Accuracy: {binary_accuracy}')\n",
        "print(f'Precision: {binary_precision}')\n",
        "print(f'Recall: {binary_recall}')\n",
        "print(f'F1 Score: {binary_f1}')\n",
        "print(f'Confusion Matrix:\\n{binary_confusion_matrix}')\n",
        "\n",
        "# Print multi-class classification metrics\n",
        "print(f'\\nMulti-Class Classification:')\n",
        "print(f'Accuracy: {multi_class_accuracy}')\n",
        "print(f'Precision: {multi_class_precision}')\n",
        "print(f'Recall: {multi_class_recall}')\n",
        "print(f'F1 Score: {multi_class_f1}')\n",
        "print(f'Confusion Matrix:\\n{multi_class_confusion_matrix}')\n",
        "\n",
        "\n",
        "# Store the metrics\n",
        "metrics = {\n",
        "    'Binary': {\n",
        "        'Accuracy': binary_accuracy,\n",
        "        'Precision': binary_precision,\n",
        "        'Recall': binary_recall,\n",
        "        'F1 Score': binary_f1\n",
        "    },\n",
        "    'Multi-Class': {\n",
        "        'Accuracy': multi_class_accuracy,\n",
        "        'Precision': multi_class_precision,\n",
        "        'Recall': multi_class_recall,\n",
        "        'F1 Score': multi_class_f1\n",
        "    }\n",
        "}\n"
      ],
      "metadata": {
        "colab": {
          "base_uri": "https://localhost:8080/"
        },
        "id": "XXlL7JN-K7Hd",
        "outputId": "1eb260dd-2d2c-4390-836e-8bbb5ef4a84d"
      },
      "execution_count": null,
      "outputs": [
        {
          "output_type": "stream",
          "name": "stdout",
          "text": [
            "1611/1611 [==============================] - 51s 31ms/step\n",
            "Binary Classification:\n",
            "Accuracy: 0.9448918210924614\n",
            "Precision: 0.9679255848680935\n",
            "Recall: 0.9450519409513395\n",
            "F1 Score: 0.9563520118033996\n",
            "Confusion Matrix:\n",
            "[[17582  1031]\n",
            " [ 1809 31113]]\n",
            "\n",
            "Multi-Class Classification:\n",
            "Accuracy: 0.8030270689822451\n",
            "Precision: 0.7873139377959375\n",
            "Recall: 0.8030270689822451\n",
            "F1 Score: 0.7769584074878498\n",
            "Confusion Matrix:\n",
            "[[    4     0    39   376    27     0    70     3     0     0]\n",
            " [    0     0    39   365    30     0     9    25     0     0]\n",
            " [    0     0   421  2667    53     4    53    89     5     0]\n",
            " [    2     0   420  8030   234     1   211   172    10     0]\n",
            " [    0     0    63   651  2007     0  1925   183     2     0]\n",
            " [    0     0    21   221    24 11224    29    17     1     0]\n",
            " [    1     0     1   279   315     0 17954    59     4     0]\n",
            " [    0     0    63   859    50     0   182  1698     0     0]\n",
            " [    0     0     0    36    16     0    53   158    46     0]\n",
            " [    0     0     0    33     1     0     0     0     0     0]]\n"
          ]
        },
        {
          "output_type": "stream",
          "name": "stderr",
          "text": [
            "/usr/local/lib/python3.10/dist-packages/sklearn/metrics/_classification.py:1344: UndefinedMetricWarning: Precision is ill-defined and being set to 0.0 in labels with no predicted samples. Use `zero_division` parameter to control this behavior.\n",
            "  _warn_prf(average, modifier, msg_start, len(result))\n"
          ]
        }
      ]
    },
    {
      "cell_type": "code",
      "source": [
        "import matplotlib.pyplot as plt\n",
        "\n",
        "# Plot the metrics\n",
        "categories = ['Accuracy', 'Precision', 'Recall', 'F1 Score']\n",
        "binary_values = [metrics['Binary'][cat] for cat in categories]\n",
        "multi_class_values = [metrics['Multi-Class'][cat] for cat in categories]\n",
        "\n",
        "x = np.arange(len(categories))  # the label locations\n",
        "width = 0.35  # the width of the bars\n",
        "\n",
        "# Adjust the size of the plot to a medium size\n",
        "fig, ax = plt.subplots(figsize=(10, 6))\n",
        "\n",
        "rects1 = ax.bar(x - width/2, binary_values, width, label='Binary Classification', color='#003566')\n",
        "rects2 = ax.bar(x + width/2, multi_class_values, width, label='Multi-Class Classification', color='#ffc300')\n",
        "\n",
        "# Add some text for labels, title and custom x-axis tick labels, etc.\n",
        "ax.set_xlabel('Metrics')\n",
        "ax.set_ylabel('Scores')\n",
        "ax.set_title('CNN + Bi-LSTM with Attention Mechanism')\n",
        "ax.set_xticks(x)\n",
        "ax.set_xticklabels(categories)\n",
        "\n",
        "# Place the legend in the bottom right corner\n",
        "ax.legend(loc='lower right')\n",
        "\n",
        "# Function to add labels on bars\n",
        "def autolabel(rects):\n",
        "    for rect in rects:\n",
        "        height = rect.get_height()\n",
        "        ax.annotate('{}'.format(round(height, 4)),\n",
        "                    xy=(rect.get_x() + rect.get_width() / 2, height),\n",
        "                    xytext=(0, 3),  # 3 points vertical offset\n",
        "                    textcoords=\"offset points\",\n",
        "                    ha='center', va='bottom')\n",
        "\n",
        "autolabel(rects1)\n",
        "autolabel(rects2)\n",
        "\n",
        "fig.tight_layout()\n",
        "\n",
        "plt.show()"
      ],
      "metadata": {
        "colab": {
          "base_uri": "https://localhost:8080/",
          "height": 607
        },
        "id": "cHEQf16ZK7Kd",
        "outputId": "b0fdc759-74c7-4b21-c8bf-a060f07e3f3a"
      },
      "execution_count": null,
      "outputs": [
        {
          "output_type": "display_data",
          "data": {
            "text/plain": [
              "<Figure size 1000x600 with 1 Axes>"
            ],
            "image/png": "[encoded data removed]"
          },
          "metadata": {}
        }
      ]
    },
    {
      "cell_type": "markdown",
      "source": [
        "CNN+GRU with Attention Mechanism 02\n"
      ],
      "metadata": {
        "id": "tRN2eWKgTzeM"
      }
    },
    {
      "cell_type": "code",
      "source": [
        "from tensorflow.keras.layers import Input, Conv1D, MaxPooling1D, Dropout, GRU, MultiHeadAttention, LayerNormalization, Add, GlobalAveragePooling1D, Dense\n",
        "from tensorflow.keras.models import Model\n",
        "\n",
        "# Define the hybrid model\n",
        "input_layer = Input(shape=(X_train.shape[1], X_train.shape[2]))\n",
        "\n",
        "# CNN for feature extraction\n",
        "x = Conv1D(filters=64, kernel_size=3, activation='relu')(input_layer)\n",
        "x = MaxPooling1D(pool_size=2)(x)\n",
        "x = Dropout(0.5)(x)\n",
        "\n",
        "# GRU for sequence modeling\n",
        "x = GRU(50, return_sequences=True)(x)\n",
        "\n",
        "# Multi-Head Attention\n",
        "attention_output = MultiHeadAttention(num_heads=2, key_dim=50)(x, x)\n",
        "attention_output = Add()([x, attention_output])\n",
        "attention_output = LayerNormalization()(attention_output)\n",
        "\n",
        "# Flatten and Dense layers for classification\n",
        "x = GlobalAveragePooling1D()(attention_output)\n",
        "x = Dense(100, activation='relu')(x)\n",
        "x = Dropout(0.5)(x)\n",
        "\n",
        "# Output layers for binary and multi-class classification\n",
        "binary_output = Dense(1, activation='sigmoid', name='binary_output')(x)\n",
        "multi_class_output = Dense(len(y_multi_class.unique()), activation='softmax', name='multi_class_output')(x)\n",
        "\n",
        "# Define the model\n",
        "modelGRU_A = Model(inputs=input_layer, outputs=[binary_output, multi_class_output])\n"
      ],
      "metadata": {
        "id": "YbgAzUXXK7NO"
      },
      "execution_count": null,
      "outputs": []
    },
    {
      "cell_type": "code",
      "source": [
        "# Compile the model\n",
        "modelGRU_A.compile(\n",
        "    optimizer='adam',\n",
        "    loss={'binary_output': 'binary_crossentropy', 'multi_class_output': 'sparse_categorical_crossentropy'},\n",
        "    metrics={'binary_output': 'accuracy', 'multi_class_output': 'accuracy'}\n",
        ")\n"
      ],
      "metadata": {
        "id": "0uEq2MUjK7P2"
      },
      "execution_count": null,
      "outputs": []
    },
    {
      "cell_type": "code",
      "source": [
        "# Train the model\n",
        "modelGRU_A.fit(\n",
        "    X_train, {'binary_output': y_train_binary, 'multi_class_output': y_train_multi_class},\n",
        "    epochs=8, batch_size=32, validation_split=0.2\n",
        ")\n"
      ],
      "metadata": {
        "colab": {
          "base_uri": "https://localhost:8080/"
        },
        "id": "iNe-FxHwK7SJ",
        "outputId": "9fac74a5-7710-42b3-bb49-b4bb8899bc55"
      },
      "execution_count": null,
      "outputs": [
        {
          "output_type": "stream",
          "name": "stdout",
          "text": [
            "Epoch 1/8\n",
            "5154/5154 [==============================] - 158s 30ms/step - loss: 1.0562 - binary_output_loss: 0.2401 - multi_class_output_loss: 0.8161 - binary_output_accuracy: 0.8877 - multi_class_output_accuracy: 0.6985 - val_loss: 0.8068 - val_binary_output_loss: 0.1682 - val_multi_class_output_loss: 0.6386 - val_binary_output_accuracy: 0.9242 - val_multi_class_output_accuracy: 0.7608\n",
            "Epoch 2/8\n",
            "5154/5154 [==============================] - 137s 27ms/step - loss: 0.8124 - binary_output_loss: 0.1647 - multi_class_output_loss: 0.6477 - binary_output_accuracy: 0.9220 - multi_class_output_accuracy: 0.7593 - val_loss: 0.7210 - val_binary_output_loss: 0.1424 - val_multi_class_output_loss: 0.5786 - val_binary_output_accuracy: 0.9343 - val_multi_class_output_accuracy: 0.7801\n",
            "Epoch 3/8\n",
            "5154/5154 [==============================] - 151s 29ms/step - loss: 0.7560 - binary_output_loss: 0.1499 - multi_class_output_loss: 0.6061 - binary_output_accuracy: 0.9308 - multi_class_output_accuracy: 0.7766 - val_loss: 0.6787 - val_binary_output_loss: 0.1323 - val_multi_class_output_loss: 0.5465 - val_binary_output_accuracy: 0.9394 - val_multi_class_output_accuracy: 0.7932\n",
            "Epoch 4/8\n",
            "5154/5154 [==============================] - 135s 26ms/step - loss: 0.7235 - binary_output_loss: 0.1414 - multi_class_output_loss: 0.5821 - binary_output_accuracy: 0.9349 - multi_class_output_accuracy: 0.7853 - val_loss: 0.6592 - val_binary_output_loss: 0.1261 - val_multi_class_output_loss: 0.5331 - val_binary_output_accuracy: 0.9451 - val_multi_class_output_accuracy: 0.8037\n",
            "Epoch 5/8\n",
            "5154/5154 [==============================] - 133s 26ms/step - loss: 0.7042 - binary_output_loss: 0.1359 - multi_class_output_loss: 0.5684 - binary_output_accuracy: 0.9376 - multi_class_output_accuracy: 0.7901 - val_loss: 0.6378 - val_binary_output_loss: 0.1199 - val_multi_class_output_loss: 0.5179 - val_binary_output_accuracy: 0.9461 - val_multi_class_output_accuracy: 0.8058\n",
            "Epoch 6/8\n",
            "5154/5154 [==============================] - 135s 26ms/step - loss: 0.6847 - binary_output_loss: 0.1287 - multi_class_output_loss: 0.5560 - binary_output_accuracy: 0.9408 - multi_class_output_accuracy: 0.7947 - val_loss: 0.6277 - val_binary_output_loss: 0.1143 - val_multi_class_output_loss: 0.5134 - val_binary_output_accuracy: 0.9494 - val_multi_class_output_accuracy: 0.8076\n",
            "Epoch 7/8\n",
            "5154/5154 [==============================] - 136s 26ms/step - loss: 0.6705 - binary_output_loss: 0.1243 - multi_class_output_loss: 0.5462 - binary_output_accuracy: 0.9439 - multi_class_output_accuracy: 0.7988 - val_loss: 0.6097 - val_binary_output_loss: 0.1084 - val_multi_class_output_loss: 0.5014 - val_binary_output_accuracy: 0.9535 - val_multi_class_output_accuracy: 0.8118\n",
            "Epoch 8/8\n",
            "5154/5154 [==============================] - 135s 26ms/step - loss: 0.6560 - binary_output_loss: 0.1194 - multi_class_output_loss: 0.5366 - binary_output_accuracy: 0.9467 - multi_class_output_accuracy: 0.8025 - val_loss: 0.6062 - val_binary_output_loss: 0.1079 - val_multi_class_output_loss: 0.4983 - val_binary_output_accuracy: 0.9513 - val_multi_class_output_accuracy: 0.8092\n"
          ]
        },
        {
          "output_type": "execute_result",
          "data": {
            "text/plain": [
              "<keras.src.callbacks.History at 0x78f938c65720>"
            ]
          },
          "metadata": {},
          "execution_count": 28
        }
      ]
    },
    {
      "cell_type": "code",
      "source": [
        "from sklearn.metrics import accuracy_score, precision_score, recall_score, f1_score, confusion_matrix\n",
        "\n",
        "# Predict the test set\n",
        "y_pred_binary, y_pred_multi_class = modelGRU_A.predict(X_test)\n",
        "y_pred_binary = (y_pred_binary > 0.5).astype(int)\n",
        "y_pred_multi_class = np.argmax(y_pred_multi_class, axis=1)\n",
        "\n",
        "# Evaluate binary classification\n",
        "binary_accuracy = accuracy_score(y_test_binary, y_pred_binary)\n",
        "binary_precision = precision_score(y_test_binary, y_pred_binary)\n",
        "binary_recall = recall_score(y_test_binary, y_pred_binary)\n",
        "binary_f1 = f1_score(y_test_binary, y_pred_binary)\n",
        "binary_confusion_matrix = confusion_matrix(y_test_binary, y_pred_binary)\n",
        "\n",
        "# Evaluate multi-class classification\n",
        "multi_class_accuracy = accuracy_score(y_test_multi_class, y_pred_multi_class)\n",
        "multi_class_precision = precision_score(y_test_multi_class, y_pred_multi_class, average='weighted')\n",
        "multi_class_recall = recall_score(y_test_multi_class, y_pred_multi_class, average='weighted')\n",
        "multi_class_f1 = f1_score(y_test_multi_class, y_pred_multi_class, average='weighted')\n",
        "multi_class_confusion_matrix = confusion_matrix(y_test_multi_class, y_pred_multi_class)\n",
        "\n",
        "# Print binary classification metrics\n",
        "print(f'Binary Classification:')\n",
        "print(f'Accuracy: {binary_accuracy}')\n",
        "print(f'Precision: {binary_precision}')\n",
        "print(f'Recall: {binary_recall}')\n",
        "print(f'F1 Score: {binary_f1}')\n",
        "print(f'Confusion Matrix:\\n{binary_confusion_matrix}')\n",
        "\n",
        "# Print multi-class classification metrics\n",
        "print(f'\\nMulti-Class Classification:')\n",
        "print(f'Accuracy: {multi_class_accuracy}')\n",
        "print(f'Precision: {multi_class_precision}')\n",
        "print(f'Recall: {multi_class_recall}')\n",
        "print(f'F1 Score: {multi_class_f1}')\n",
        "print(f'Confusion Matrix:\\n{multi_class_confusion_matrix}')\n",
        "\n",
        "\n",
        "# Store the metrics\n",
        "metrics = {\n",
        "    'Binary': {\n",
        "        'Accuracy': binary_accuracy,\n",
        "        'Precision': binary_precision,\n",
        "        'Recall': binary_recall,\n",
        "        'F1 Score': binary_f1\n",
        "    },\n",
        "    'Multi-Class': {\n",
        "        'Accuracy': multi_class_accuracy,\n",
        "        'Precision': multi_class_precision,\n",
        "        'Recall': multi_class_recall,\n",
        "        'F1 Score': multi_class_f1\n",
        "    }\n",
        "}\n"
      ],
      "metadata": {
        "colab": {
          "base_uri": "https://localhost:8080/"
        },
        "id": "M3dlY_4DK7U9",
        "outputId": "f2e0daad-5b97-4d51-d470-cfe535ecaaa8"
      },
      "execution_count": null,
      "outputs": [
        {
          "output_type": "stream",
          "name": "stdout",
          "text": [
            "1611/1611 [==============================] - 12s 7ms/step\n",
            "Binary Classification:\n",
            "Accuracy: 0.9512952362472107\n",
            "Precision: 0.9670721218822951\n",
            "Recall: 0.9563210011542433\n",
            "F1 Score: 0.9616665139436146\n",
            "Confusion Matrix:\n",
            "[[17541  1072]\n",
            " [ 1438 31484]]\n",
            "\n",
            "Multi-Class Classification:\n",
            "Accuracy: 0.8100320170757738\n",
            "Precision: 0.7874628711795947\n",
            "Recall: 0.8100320170757738\n",
            "F1 Score: 0.7768122815396976\n",
            "Confusion Matrix:\n",
            "[[    0     0    11   418     2     0    83     5     0     0]\n",
            " [    0     0     7   417     4     0     8    32     0     0]\n",
            " [    0     0    78  3013    51     3    43   103     1     0]\n",
            " [    0     0    70  8394   175     3   192   246     0     0]\n",
            " [    0     0    10   848  2306     3  1490   174     0     0]\n",
            " [    0     0     8   243    32 11226    10    18     0     0]\n",
            " [    0     0     0   188   433     1 17890    99     2     0]\n",
            " [    0     0    21   820    45     1   119  1846     0     0]\n",
            " [    0     0     0    66    26     0    25   187     5     0]\n",
            " [    0     0     0    33     1     0     0     0     0     0]]\n"
          ]
        },
        {
          "output_type": "stream",
          "name": "stderr",
          "text": [
            "/usr/local/lib/python3.10/dist-packages/sklearn/metrics/_classification.py:1471: UndefinedMetricWarning: Precision is ill-defined and being set to 0.0 in labels with no predicted samples. Use `zero_division` parameter to control this behavior.\n",
            "  _warn_prf(average, modifier, msg_start, len(result))\n"
          ]
        }
      ]
    },
    {
      "cell_type": "code",
      "source": [
        "import matplotlib.pyplot as plt\n",
        "\n",
        "# Plot the metrics\n",
        "categories = ['Accuracy', 'Precision', 'Recall', 'F1 Score']\n",
        "binary_values = [metrics['Binary'][cat] for cat in categories]\n",
        "multi_class_values = [metrics['Multi-Class'][cat] for cat in categories]\n",
        "\n",
        "x = np.arange(len(categories))  # the label locations\n",
        "width = 0.35  # the width of the bars\n",
        "\n",
        "# Adjust the size of the plot to a medium size\n",
        "fig, ax = plt.subplots(figsize=(10, 6))\n",
        "\n",
        "rects1 = ax.bar(x - width/2, binary_values, width, label='Binary Classification', color='#003566')\n",
        "rects2 = ax.bar(x + width/2, multi_class_values, width, label='Multi-Class Classification', color='#ffc300')\n",
        "\n",
        "# Add some text for labels, title and custom x-axis tick labels, etc.\n",
        "ax.set_xlabel('Metrics')\n",
        "ax.set_ylabel('Scores')\n",
        "ax.set_title('CNN + GRU with Attention Mechanism')\n",
        "ax.set_xticks(x)\n",
        "ax.set_xticklabels(categories)\n",
        "\n",
        "# Place the legend in the bottom right corner\n",
        "ax.legend(loc='lower right')\n",
        "\n",
        "# Function to add labels on bars\n",
        "def autolabel(rects):\n",
        "    for rect in rects:\n",
        "        height = rect.get_height()\n",
        "        ax.annotate('{}'.format(round(height, 4)),\n",
        "                    xy=(rect.get_x() + rect.get_width() / 2, height),\n",
        "                    xytext=(0, 3),  # 3 points vertical offset\n",
        "                    textcoords=\"offset points\",\n",
        "                    ha='center', va='bottom')\n",
        "\n",
        "autolabel(rects1)\n",
        "autolabel(rects2)\n",
        "\n",
        "fig.tight_layout()\n",
        "\n",
        "plt.show()"
      ],
      "metadata": {
        "colab": {
          "base_uri": "https://localhost:8080/",
          "height": 607
        },
        "id": "TnV-VLBeK7Xa",
        "outputId": "daa8db6b-3d67-401e-f357-1cb2db2ff14b"
      },
      "execution_count": null,
      "outputs": [
        {
          "output_type": "display_data",
          "data": {
            "text/plain": [
              "<Figure size 1000x600 with 1 Axes>"
            ],
            "image/png": "[encoded data removed]"
          },
          "metadata": {}
        }
      ]
    },
    {
      "cell_type": "markdown",
      "source": [
        "CNN+BiGRU with Attention Mechanism"
      ],
      "metadata": {
        "id": "ABLSeisBUbHw"
      }
    },
    {
      "cell_type": "code",
      "source": [
        "from tensorflow.keras.layers import Input, Conv1D, MaxPooling1D, Dropout, Bidirectional, GRU, MultiHeadAttention, LayerNormalization, Add, GlobalAveragePooling1D, Dense\n",
        "from tensorflow.keras.models import Model\n",
        "\n",
        "# Define the hybrid model\n",
        "input_layer = Input(shape=(X_train.shape[1], X_train.shape[2]))\n",
        "\n",
        "# CNN for feature extraction\n",
        "x = Conv1D(filters=64, kernel_size=3, activation='relu')(input_layer)\n",
        "x = MaxPooling1D(pool_size=2)(x)\n",
        "x = Dropout(0.5)(x)\n",
        "\n",
        "# Bidirectional GRU for sequence modeling\n",
        "x = Bidirectional(GRU(50, return_sequences=True))(x)\n",
        "\n",
        "# Multi-Head Attention\n",
        "attention_output = MultiHeadAttention(num_heads=2, key_dim=50)(x, x)\n",
        "attention_output = Add()([x, attention_output])\n",
        "attention_output = LayerNormalization()(attention_output)\n",
        "\n",
        "# Flatten and Dense layers for classification\n",
        "x = GlobalAveragePooling1D()(attention_output)\n",
        "x = Dense(100, activation='relu')(x)\n",
        "x = Dropout(0.5)(x)\n",
        "\n",
        "# Output layers for binary and multi-class classification\n",
        "binary_output = Dense(1, activation='sigmoid', name='binary_output')(x)\n",
        "multi_class_output = Dense(len(y_multi_class.unique()), activation='softmax', name='multi_class_output')(x)\n",
        "\n",
        "# Define the model\n",
        "modelBiGRU_A = Model(inputs=input_layer, outputs=[binary_output, multi_class_output])\n"
      ],
      "metadata": {
        "id": "zyCFzQQmK7Z4"
      },
      "execution_count": null,
      "outputs": []
    },
    {
      "cell_type": "code",
      "source": [
        "# Compile the model\n",
        "modelBiGRU_A.compile(\n",
        "    optimizer='adam',\n",
        "    loss={'binary_output': 'binary_crossentropy', 'multi_class_output': 'sparse_categorical_crossentropy'},\n",
        "    metrics={'binary_output': 'accuracy', 'multi_class_output': 'accuracy'}\n",
        ")\n"
      ],
      "metadata": {
        "id": "sG7OPy0fUuQT"
      },
      "execution_count": null,
      "outputs": []
    },
    {
      "cell_type": "code",
      "source": [
        "# Train the model\n",
        "modelBiGRU_A.fit(\n",
        "    X_train, {'binary_output': y_train_binary, 'multi_class_output': y_train_multi_class},\n",
        "    epochs=10, batch_size=32, validation_split=0.2\n",
        ")\n"
      ],
      "metadata": {
        "colab": {
          "base_uri": "https://localhost:8080/"
        },
        "id": "4eSLKHUzUuTc",
        "outputId": "796e6c2a-080c-4c4b-9c82-b4d9e8eb640b"
      },
      "execution_count": null,
      "outputs": [
        {
          "output_type": "stream",
          "name": "stdout",
          "text": [
            "Epoch 1/10\n",
            "5154/5154 [==============================] - 217s 41ms/step - loss: 1.0520 - binary_output_loss: 0.2363 - multi_class_output_loss: 0.8157 - binary_output_accuracy: 0.8891 - multi_class_output_accuracy: 0.7011 - val_loss: 0.8057 - val_binary_output_loss: 0.1685 - val_multi_class_output_loss: 0.6372 - val_binary_output_accuracy: 0.9204 - val_multi_class_output_accuracy: 0.7616\n",
            "Epoch 2/10\n",
            "5154/5154 [==============================] - 208s 40ms/step - loss: 0.8196 - binary_output_loss: 0.1669 - multi_class_output_loss: 0.6527 - binary_output_accuracy: 0.9187 - multi_class_output_accuracy: 0.7585 - val_loss: 0.7071 - val_binary_output_loss: 0.1392 - val_multi_class_output_loss: 0.5680 - val_binary_output_accuracy: 0.9379 - val_multi_class_output_accuracy: 0.7844\n",
            "Epoch 3/10\n",
            "5154/5154 [==============================] - 209s 41ms/step - loss: 0.7510 - binary_output_loss: 0.1490 - multi_class_output_loss: 0.6021 - binary_output_accuracy: 0.9297 - multi_class_output_accuracy: 0.7760 - val_loss: 0.6806 - val_binary_output_loss: 0.1327 - val_multi_class_output_loss: 0.5479 - val_binary_output_accuracy: 0.9377 - val_multi_class_output_accuracy: 0.7878\n",
            "Epoch 4/10\n",
            "5154/5154 [==============================] - 209s 41ms/step - loss: 0.7122 - binary_output_loss: 0.1377 - multi_class_output_loss: 0.5745 - binary_output_accuracy: 0.9358 - multi_class_output_accuracy: 0.7860 - val_loss: 0.6276 - val_binary_output_loss: 0.1150 - val_multi_class_output_loss: 0.5126 - val_binary_output_accuracy: 0.9506 - val_multi_class_output_accuracy: 0.8118\n",
            "Epoch 5/10\n",
            "5154/5154 [==============================] - 204s 40ms/step - loss: 0.6750 - binary_output_loss: 0.1245 - multi_class_output_loss: 0.5506 - binary_output_accuracy: 0.9452 - multi_class_output_accuracy: 0.7982 - val_loss: 0.5961 - val_binary_output_loss: 0.1018 - val_multi_class_output_loss: 0.4943 - val_binary_output_accuracy: 0.9572 - val_multi_class_output_accuracy: 0.8198\n",
            "Epoch 6/10\n",
            "5154/5154 [==============================] - 204s 39ms/step - loss: 0.6471 - binary_output_loss: 0.1138 - multi_class_output_loss: 0.5334 - binary_output_accuracy: 0.9516 - multi_class_output_accuracy: 0.8066 - val_loss: 0.5832 - val_binary_output_loss: 0.0989 - val_multi_class_output_loss: 0.4843 - val_binary_output_accuracy: 0.9582 - val_multi_class_output_accuracy: 0.8199\n",
            "Epoch 7/10\n",
            "5153/5154 [============================>.] - ETA: 0s - loss: 0.6310 - binary_output_loss: 0.1090 - multi_class_output_loss: 0.5220 - binary_output_accuracy: 0.9550 - multi_class_output_accuracy: 0.8114Epoch 8/10\n",
            "5154/5154 [==============================] - 215s 42ms/step - loss: 0.6202 - binary_output_loss: 0.1059 - multi_class_output_loss: 0.5143 - binary_output_accuracy: 0.9554 - multi_class_output_accuracy: 0.8125 - val_loss: 0.5603 - val_binary_output_loss: 0.0888 - val_multi_class_output_loss: 0.4715 - val_binary_output_accuracy: 0.9628 - val_multi_class_output_accuracy: 0.8247\n",
            "Epoch 9/10\n",
            "5154/5154 [==============================] - 206s 40ms/step - loss: 0.6101 - binary_output_loss: 0.1032 - multi_class_output_loss: 0.5069 - binary_output_accuracy: 0.9567 - multi_class_output_accuracy: 0.8151 - val_loss: 0.5494 - val_binary_output_loss: 0.0879 - val_multi_class_output_loss: 0.4615 - val_binary_output_accuracy: 0.9642 - val_multi_class_output_accuracy: 0.8288\n",
            "Epoch 10/10\n",
            "5154/5154 [==============================] - 198s 38ms/step - loss: 0.5995 - binary_output_loss: 0.1004 - multi_class_output_loss: 0.4990 - binary_output_accuracy: 0.9576 - multi_class_output_accuracy: 0.8183 - val_loss: 0.5401 - val_binary_output_loss: 0.0849 - val_multi_class_output_loss: 0.4552 - val_binary_output_accuracy: 0.9644 - val_multi_class_output_accuracy: 0.8285\n"
          ]
        },
        {
          "output_type": "execute_result",
          "data": {
            "text/plain": [
              "<keras.src.callbacks.History at 0x78f92b5b5b40>"
            ]
          },
          "metadata": {},
          "execution_count": 33
        }
      ]
    },
    {
      "cell_type": "code",
      "source": [
        "from sklearn.metrics import accuracy_score, precision_score, recall_score, f1_score, confusion_matrix\n",
        "\n",
        "# Predict the test set\n",
        "y_pred_binary, y_pred_multi_class = modelBiGRU_A.predict(X_test)\n",
        "y_pred_binary = (y_pred_binary > 0.5).astype(int)\n",
        "y_pred_multi_class = np.argmax(y_pred_multi_class, axis=1)\n",
        "\n",
        "# Evaluate binary classification\n",
        "binary_accuracy = accuracy_score(y_test_binary, y_pred_binary)\n",
        "binary_precision = precision_score(y_test_binary, y_pred_binary)\n",
        "binary_recall = recall_score(y_test_binary, y_pred_binary)\n",
        "binary_f1 = f1_score(y_test_binary, y_pred_binary)\n",
        "binary_confusion_matrix = confusion_matrix(y_test_binary, y_pred_binary)\n",
        "\n",
        "# Evaluate multi-class classification\n",
        "multi_class_accuracy = accuracy_score(y_test_multi_class, y_pred_multi_class)\n",
        "multi_class_precision = precision_score(y_test_multi_class, y_pred_multi_class, average='weighted')\n",
        "multi_class_recall = recall_score(y_test_multi_class, y_pred_multi_class, average='weighted')\n",
        "multi_class_f1 = f1_score(y_test_multi_class, y_pred_multi_class, average='weighted')\n",
        "multi_class_confusion_matrix = confusion_matrix(y_test_multi_class, y_pred_multi_class)\n",
        "\n",
        "# Print binary classification metrics\n",
        "print(f'Binary Classification:')\n",
        "print(f'Accuracy: {binary_accuracy}')\n",
        "print(f'Precision: {binary_precision}')\n",
        "print(f'Recall: {binary_recall}')\n",
        "print(f'F1 Score: {binary_f1}')\n",
        "print(f'Confusion Matrix:\\n{binary_confusion_matrix}')\n",
        "\n",
        "# Print multi-class classification metrics\n",
        "print(f'\\nMulti-Class Classification:')\n",
        "print(f'Accuracy: {multi_class_accuracy}')\n",
        "print(f'Precision: {multi_class_precision}')\n",
        "print(f'Recall: {multi_class_recall}')\n",
        "print(f'F1 Score: {multi_class_f1}')\n",
        "print(f'Confusion Matrix:\\n{multi_class_confusion_matrix}')\n",
        "\n",
        "\n",
        "# Store the metrics\n",
        "metrics = {\n",
        "    'Binary': {\n",
        "        'Accuracy': binary_accuracy,\n",
        "        'Precision': binary_precision,\n",
        "        'Recall': binary_recall,\n",
        "        'F1 Score': binary_f1\n",
        "    },\n",
        "    'Multi-Class': {\n",
        "        'Accuracy': multi_class_accuracy,\n",
        "        'Precision': multi_class_precision,\n",
        "        'Recall': multi_class_recall,\n",
        "        'F1 Score': multi_class_f1\n",
        "    }\n",
        "}\n"
      ],
      "metadata": {
        "colab": {
          "base_uri": "https://localhost:8080/"
        },
        "id": "DZil1FUHUuWe",
        "outputId": "fc567f38-9a7c-4348-90b3-034476b9fdf6"
      },
      "execution_count": null,
      "outputs": [
        {
          "output_type": "stream",
          "name": "stdout",
          "text": [
            "1611/1611 [==============================] - 17s 10ms/step\n",
            "Binary Classification:\n",
            "Accuracy: 0.9627825749490637\n",
            "Precision: 0.9704704097116844\n",
            "Recall: 0.9712957900492072\n",
            "F1 Score: 0.9708829244595579\n",
            "Confusion Matrix:\n",
            "[[17640   973]\n",
            " [  945 31977]]\n",
            "\n",
            "Multi-Class Classification:\n",
            "Accuracy: 0.8266808964781217\n",
            "Precision: 0.8082669808815994\n",
            "Recall: 0.8266808964781217\n",
            "F1 Score: 0.7955807000464119\n",
            "Confusion Matrix:\n",
            "[[    6     0     0   377    52     0    84     0     0     0]\n",
            " [    0     0     0   385    56     0     4    23     0     0]\n",
            " [    0     0     5  3085    96     0    42    55     9     0]\n",
            " [    1     0     0  8338   348     3   163   213    14     0]\n",
            " [    0     0     0   590  3196     0   862   172    11     0]\n",
            " [    0     0     8   241    36 11221    11    18     2     0]\n",
            " [    1     0     0   113   531     0 17879    83     6     0]\n",
            " [    0     0     1   803    73     0    93  1882     0     0]\n",
            " [    0     0     0    72    26     0    29   106    76     0]\n",
            " [    0     0     0    33     1     0     0     0     0     0]]\n"
          ]
        },
        {
          "output_type": "stream",
          "name": "stderr",
          "text": [
            "/usr/local/lib/python3.10/dist-packages/sklearn/metrics/_classification.py:1471: UndefinedMetricWarning: Precision is ill-defined and being set to 0.0 in labels with no predicted samples. Use `zero_division` parameter to control this behavior.\n",
            "  _warn_prf(average, modifier, msg_start, len(result))\n"
          ]
        }
      ]
    },
    {
      "cell_type": "code",
      "source": [
        "import matplotlib.pyplot as plt\n",
        "\n",
        "# Plot the metrics\n",
        "categories = ['Accuracy', 'Precision', 'Recall', 'F1 Score']\n",
        "binary_values = [metrics['Binary'][cat] for cat in categories]\n",
        "multi_class_values = [metrics['Multi-Class'][cat] for cat in categories]\n",
        "\n",
        "x = np.arange(len(categories))  # the label locations\n",
        "width = 0.35  # the width of the bars\n",
        "\n",
        "# Adjust the size of the plot to a medium size\n",
        "fig, ax = plt.subplots(figsize=(10, 6))\n",
        "\n",
        "rects1 = ax.bar(x - width/2, binary_values, width, label='Binary Classification', color='#003566')\n",
        "rects2 = ax.bar(x + width/2, multi_class_values, width, label='Multi-Class Classification', color='#ffc300')\n",
        "\n",
        "# Add some text for labels, title and custom x-axis tick labels, etc.\n",
        "ax.set_xlabel('Metrics')\n",
        "ax.set_ylabel('Scores')\n",
        "ax.set_title('CNN + Bi-GRU with Attention Mechanism')\n",
        "ax.set_xticks(x)\n",
        "ax.set_xticklabels(categories)\n",
        "\n",
        "# Place the legend in the bottom right corner\n",
        "ax.legend(loc='lower right')\n",
        "\n",
        "# Function to add labels on bars\n",
        "def autolabel(rects):\n",
        "    for rect in rects:\n",
        "        height = rect.get_height()\n",
        "        ax.annotate('{}'.format(round(height, 4)),\n",
        "                    xy=(rect.get_x() + rect.get_width() / 2, height),\n",
        "                    xytext=(0, 3),  # 3 points vertical offset\n",
        "                    textcoords=\"offset points\",\n",
        "                    ha='center', va='bottom')\n",
        "\n",
        "autolabel(rects1)\n",
        "autolabel(rects2)\n",
        "\n",
        "fig.tight_layout()\n",
        "\n",
        "plt.show()"
      ],
      "metadata": {
        "colab": {
          "base_uri": "https://localhost:8080/",
          "height": 607
        },
        "id": "M8QBTXoEUuZc",
        "outputId": "2e40258a-6546-437d-dd62-f62e1e8852b0"
      },
      "execution_count": null,
      "outputs": [
        {
          "output_type": "display_data",
          "data": {
            "text/plain": [
              "<Figure size 1000x600 with 1 Axes>"
            ],
            "image/png": "[encoded data removed]"
          },
          "metadata": {}
        }
      ]
    },
    {
      "cell_type": "code",
      "source": [],
      "metadata": {
        "id": "kldUmmfRKngO"
      },
      "execution_count": null,
      "outputs": []
    },
    {
      "cell_type": "code",
      "source": [],
      "metadata": {
        "id": "Yj9gu4ePKnrm"
      },
      "execution_count": null,
      "outputs": []
    },
    {
      "cell_type": "code",
      "source": [],
      "metadata": {
        "id": "M2BJiJxZKnvT"
      },
      "execution_count": null,
      "outputs": []
    },
    {
      "cell_type": "code",
      "source": [],
      "metadata": {
        "id": "xoYadiWVKnyS"
      },
      "execution_count": null,
      "outputs": []
    },
    {
      "cell_type": "code",
      "source": [],
      "metadata": {
        "id": "WKkIeAUNKn1T"
      },
      "execution_count": null,
      "outputs": []
    },
    {
      "cell_type": "markdown",
      "source": [
        "CNN + BiLSTM + Attention Mechanism 02"
      ],
      "metadata": {
        "id": "nc11SjVwI4L_"
      }
    },
    {
      "cell_type": "code",
      "source": [
        "# Define the hybrid model\n",
        "input_layer = Input(shape=(X_train.shape[1], X_train.shape[2]))\n",
        "\n",
        "# CNN for feature extraction\n",
        "x = Conv1D(filters=64, kernel_size=3, activation='relu')(input_layer)\n",
        "x = MaxPooling1D(pool_size=2)(x)\n",
        "x = Dropout(0.5)(x)\n",
        "\n",
        "# BiLSTM for sequence modeling\n",
        "x = Bidirectional(LSTM(50, return_sequences=True))(x)\n",
        "\n",
        "# Multi-head attention layer\n",
        "attention_output, attention_weights = MultiHeadAttention(num_heads=8, key_dim=50)(x, x, return_attention_scores=True)\n",
        "x = GlobalAveragePooling1D()(attention_output)\n",
        "\n",
        "# Shared Dense layers\n",
        "x = Dense(100, activation='relu')(x)\n",
        "x = Dropout(0.5)(x)\n",
        "\n",
        "# Output layers for binary and multi-class classification\n",
        "binary_output = Dense(1, activation='sigmoid', name='binary_output')(x)\n",
        "multi_class_output = Dense(len(y_multi_class.unique()), activation='softmax', name='multi_class_output')(x)\n",
        "\n",
        "# Define the model\n",
        "modelBiLSTM_A = Model(inputs=input_layer, outputs=[binary_output, multi_class_output])"
      ],
      "metadata": {
        "id": "sfuIV3nuI3eS"
      },
      "execution_count": null,
      "outputs": []
    },
    {
      "cell_type": "code",
      "source": [
        "# Compile the model\n",
        "modelBiLSTM_A.compile(\n",
        "    optimizer='adam',\n",
        "    loss={'binary_output': 'binary_crossentropy', 'multi_class_output': 'sparse_categorical_crossentropy'},\n",
        "    metrics={'binary_output': 'accuracy', 'multi_class_output': 'accuracy'}\n",
        ")"
      ],
      "metadata": {
        "id": "2iZ0E11PI3hQ"
      },
      "execution_count": null,
      "outputs": []
    },
    {
      "cell_type": "code",
      "source": [
        "# Train the model\n",
        "modelBiLSTM_A.fit(\n",
        "    X_train, {'binary_output': y_train_binary, 'multi_class_output': y_train_multi_class},\n",
        "    epochs=8, batch_size=32, validation_split=0.2\n",
        ")"
      ],
      "metadata": {
        "colab": {
          "base_uri": "https://localhost:8080/"
        },
        "id": "KmTTvBFmI1oW",
        "outputId": "45e89216-88bf-412a-be99-50e2b8f4c117"
      },
      "execution_count": null,
      "outputs": [
        {
          "output_type": "stream",
          "name": "stdout",
          "text": [
            "Epoch 1/8\n",
            "5154/5154 [==============================] - 332s 61ms/step - loss: 1.0489 - binary_output_loss: 0.2396 - multi_class_output_loss: 0.8094 - binary_output_accuracy: 0.8887 - multi_class_output_accuracy: 0.7026 - val_loss: 0.7976 - val_binary_output_loss: 0.1638 - val_multi_class_output_loss: 0.6337 - val_binary_output_accuracy: 0.9229 - val_multi_class_output_accuracy: 0.7625\n",
            "Epoch 2/8\n",
            "5154/5154 [==============================] - 291s 57ms/step - loss: 0.8257 - binary_output_loss: 0.1716 - multi_class_output_loss: 0.6541 - binary_output_accuracy: 0.9201 - multi_class_output_accuracy: 0.7565 - val_loss: 0.7399 - val_binary_output_loss: 0.1455 - val_multi_class_output_loss: 0.5944 - val_binary_output_accuracy: 0.9309 - val_multi_class_output_accuracy: 0.7792\n",
            "Epoch 3/8\n",
            "5154/5154 [==============================] - 299s 58ms/step - loss: 0.7657 - binary_output_loss: 0.1523 - multi_class_output_loss: 0.6134 - binary_output_accuracy: 0.9309 - multi_class_output_accuracy: 0.7714 - val_loss: 0.7063 - val_binary_output_loss: 0.1377 - val_multi_class_output_loss: 0.5687 - val_binary_output_accuracy: 0.9387 - val_multi_class_output_accuracy: 0.7869\n",
            "Epoch 4/8\n",
            "5154/5154 [==============================] - 296s 57ms/step - loss: 0.7322 - binary_output_loss: 0.1439 - multi_class_output_loss: 0.5883 - binary_output_accuracy: 0.9346 - multi_class_output_accuracy: 0.7814 - val_loss: 0.6703 - val_binary_output_loss: 0.1319 - val_multi_class_output_loss: 0.5385 - val_binary_output_accuracy: 0.9390 - val_multi_class_output_accuracy: 0.7967\n",
            "Epoch 5/8\n",
            "5154/5154 [==============================] - 298s 58ms/step - loss: 0.7025 - binary_output_loss: 0.1364 - multi_class_output_loss: 0.5661 - binary_output_accuracy: 0.9372 - multi_class_output_accuracy: 0.7895 - val_loss: 0.6615 - val_binary_output_loss: 0.1271 - val_multi_class_output_loss: 0.5344 - val_binary_output_accuracy: 0.9424 - val_multi_class_output_accuracy: 0.7981\n",
            "Epoch 6/8\n",
            "5154/5154 [==============================] - 297s 58ms/step - loss: 0.6781 - binary_output_loss: 0.1298 - multi_class_output_loss: 0.5483 - binary_output_accuracy: 0.9398 - multi_class_output_accuracy: 0.7949 - val_loss: 0.6144 - val_binary_output_loss: 0.1149 - val_multi_class_output_loss: 0.4995 - val_binary_output_accuracy: 0.9487 - val_multi_class_output_accuracy: 0.8089\n",
            "Epoch 7/8\n",
            "5154/5154 [==============================] - 296s 57ms/step - loss: 0.6611 - binary_output_loss: 0.1240 - multi_class_output_loss: 0.5372 - binary_output_accuracy: 0.9428 - multi_class_output_accuracy: 0.7997 - val_loss: 0.5986 - val_binary_output_loss: 0.1085 - val_multi_class_output_loss: 0.4901 - val_binary_output_accuracy: 0.9503 - val_multi_class_output_accuracy: 0.8131\n",
            "Epoch 8/8\n",
            "5154/5154 [==============================] - 312s 60ms/step - loss: 0.6433 - binary_output_loss: 0.1182 - multi_class_output_loss: 0.5251 - binary_output_accuracy: 0.9468 - multi_class_output_accuracy: 0.8041 - val_loss: 0.5771 - val_binary_output_loss: 0.0999 - val_multi_class_output_loss: 0.4772 - val_binary_output_accuracy: 0.9556 - val_multi_class_output_accuracy: 0.8178\n"
          ]
        },
        {
          "output_type": "execute_result",
          "data": {
            "text/plain": [
              "<keras.src.callbacks.History at 0x78f92b2bd270>"
            ]
          },
          "metadata": {},
          "execution_count": 23
        }
      ]
    },
    {
      "cell_type": "code",
      "source": [
        "from sklearn.metrics import accuracy_score, precision_score, recall_score, f1_score, confusion_matrix\n",
        "\n",
        "# Predict the test set\n",
        "y_pred_binary, y_pred_multi_class = modelBiLSTM_A.predict(X_test)\n",
        "y_pred_binary = (y_pred_binary > 0.5).astype(int)\n",
        "y_pred_multi_class = np.argmax(y_pred_multi_class, axis=1)\n",
        "\n",
        "# Evaluate binary classification\n",
        "binary_accuracy = accuracy_score(y_test_binary, y_pred_binary)\n",
        "binary_precision = precision_score(y_test_binary, y_pred_binary)\n",
        "binary_recall = recall_score(y_test_binary, y_pred_binary)\n",
        "binary_f1 = f1_score(y_test_binary, y_pred_binary)\n",
        "binary_confusion_matrix = confusion_matrix(y_test_binary, y_pred_binary)\n",
        "\n",
        "# Evaluate multi-class classification\n",
        "multi_class_accuracy = accuracy_score(y_test_multi_class, y_pred_multi_class)\n",
        "multi_class_precision = precision_score(y_test_multi_class, y_pred_multi_class, average='weighted')\n",
        "multi_class_recall = recall_score(y_test_multi_class, y_pred_multi_class, average='weighted')\n",
        "multi_class_f1 = f1_score(y_test_multi_class, y_pred_multi_class, average='weighted')\n",
        "multi_class_confusion_matrix = confusion_matrix(y_test_multi_class, y_pred_multi_class)\n",
        "\n",
        "# Print binary classification metrics\n",
        "print(f'Binary Classification:')\n",
        "print(f'Accuracy: {binary_accuracy}')\n",
        "print(f'Precision: {binary_precision}')\n",
        "print(f'Recall: {binary_recall}')\n",
        "print(f'F1 Score: {binary_f1}')\n",
        "print(f'Confusion Matrix:\\n{binary_confusion_matrix}')\n",
        "\n",
        "# Print multi-class classification metrics\n",
        "print(f'\\nMulti-Class Classification:')\n",
        "print(f'Accuracy: {multi_class_accuracy}')\n",
        "print(f'Precision: {multi_class_precision}')\n",
        "print(f'Recall: {multi_class_recall}')\n",
        "print(f'F1 Score: {multi_class_f1}')\n",
        "print(f'Confusion Matrix:\\n{multi_class_confusion_matrix}')\n",
        "\n",
        "\n",
        "# Store the metrics\n",
        "metrics = {\n",
        "    'Binary': {\n",
        "        'Accuracy': binary_accuracy,\n",
        "        'Precision': binary_precision,\n",
        "        'Recall': binary_recall,\n",
        "        'F1 Score': binary_f1\n",
        "    },\n",
        "    'Multi-Class': {\n",
        "        'Accuracy': multi_class_accuracy,\n",
        "        'Precision': multi_class_precision,\n",
        "        'Recall': multi_class_recall,\n",
        "        'F1 Score': multi_class_f1\n",
        "    }\n",
        "}\n"
      ],
      "metadata": {
        "colab": {
          "base_uri": "https://localhost:8080/"
        },
        "id": "T1Yo5nk2I18W",
        "outputId": "bb3dd476-23f5-49d7-b6b1-c3d3f52c1123"
      },
      "execution_count": null,
      "outputs": [
        {
          "output_type": "stream",
          "name": "stdout",
          "text": [
            "1611/1611 [==============================] - 28s 17ms/step\n",
            "Binary Classification:\n",
            "Accuracy: 0.9553507325118852\n",
            "Precision: 0.9650396379430793\n",
            "Recall: 0.9650689508535326\n",
            "F1 Score: 0.9650542941757156\n",
            "Confusion Matrix:\n",
            "[[17462  1151]\n",
            " [ 1150 31772]]\n",
            "\n",
            "Multi-Class Classification:\n",
            "Accuracy: 0.8178713495682546\n",
            "Precision: 0.8106555475220789\n",
            "Recall: 0.8178713495682546\n",
            "F1 Score: 0.7860178789319595\n",
            "Confusion Matrix:\n",
            "[[   35     0     0   411     9     0    62     2     0     0]\n",
            " [    0     0     0   422    15     0     2    29     0     0]\n",
            " [    0     0     1  3110    56     3    49    67     6     0]\n",
            " [    5     0     0  8545   259     1   153   113     4     0]\n",
            " [    6     0     0   814  2778     0  1112   121     0     0]\n",
            " [    0     0     1   243    40 11225    16    11     1     0]\n",
            " [   11     0     0   191   563     0 17734   110     4     0]\n",
            " [    0     0     0   905    83     1    55  1808     0     0]\n",
            " [    0     0     0   103    26     0    21   136    23     0]\n",
            " [    0     0     0    32     2     0     0     0     0     0]]\n"
          ]
        },
        {
          "output_type": "stream",
          "name": "stderr",
          "text": [
            "/usr/local/lib/python3.10/dist-packages/sklearn/metrics/_classification.py:1471: UndefinedMetricWarning: Precision is ill-defined and being set to 0.0 in labels with no predicted samples. Use `zero_division` parameter to control this behavior.\n",
            "  _warn_prf(average, modifier, msg_start, len(result))\n"
          ]
        }
      ]
    },
    {
      "cell_type": "code",
      "source": [
        "import matplotlib.pyplot as plt\n",
        "\n",
        "# Plot the metrics\n",
        "categories = ['Accuracy', 'Precision', 'Recall', 'F1 Score']\n",
        "binary_values = [metrics['Binary'][cat] for cat in categories]\n",
        "multi_class_values = [metrics['Multi-Class'][cat] for cat in categories]\n",
        "\n",
        "x = np.arange(len(categories))  # the label locations\n",
        "width = 0.35  # the width of the bars\n",
        "\n",
        "# Adjust the size of the plot to a medium size\n",
        "fig, ax = plt.subplots(figsize=(10, 6))\n",
        "\n",
        "rects1 = ax.bar(x - width/2, binary_values, width, label='Binary Classification', color='#003566')\n",
        "rects2 = ax.bar(x + width/2, multi_class_values, width, label='Multi-Class Classification', color='#ffc300')\n",
        "\n",
        "# Add some text for labels, title and custom x-axis tick labels, etc.\n",
        "ax.set_xlabel('Metrics')\n",
        "ax.set_ylabel('Scores')\n",
        "ax.set_title('CNN + Bi-LSTM with Attention Mechanism')\n",
        "ax.set_xticks(x)\n",
        "ax.set_xticklabels(categories)\n",
        "\n",
        "# Place the legend in the bottom right corner\n",
        "ax.legend(loc='lower right')\n",
        "\n",
        "# Function to add labels on bars\n",
        "def autolabel(rects):\n",
        "    for rect in rects:\n",
        "        height = rect.get_height()\n",
        "        ax.annotate('{}'.format(round(height, 4)),\n",
        "                    xy=(rect.get_x() + rect.get_width() / 2, height),\n",
        "                    xytext=(0, 3),  # 3 points vertical offset\n",
        "                    textcoords=\"offset points\",\n",
        "                    ha='center', va='bottom')\n",
        "\n",
        "autolabel(rects1)\n",
        "autolabel(rects2)\n",
        "\n",
        "fig.tight_layout()\n",
        "\n",
        "plt.show()"
      ],
      "metadata": {
        "colab": {
          "base_uri": "https://localhost:8080/",
          "height": 607
        },
        "id": "8VQy_duGI1_W",
        "outputId": "62ec0b0c-629e-4acd-b734-8be6c31cc044"
      },
      "execution_count": null,
      "outputs": [
        {
          "output_type": "display_data",
          "data": {
            "text/plain": [
              "<Figure size 1000x600 with 1 Axes>"
            ],
            "image/png": "[encoded data removed]"
          },
          "metadata": {}
        }
      ]
    },
    {
      "cell_type": "code",
      "source": [],
      "metadata": {
        "id": "kLuzsWtxI2FB"
      },
      "execution_count": null,
      "outputs": []
    },
    {
      "cell_type": "code",
      "source": [],
      "metadata": {
        "id": "JJGHlRL2I2H0"
      },
      "execution_count": null,
      "outputs": []
    },
    {
      "cell_type": "code",
      "source": [],
      "metadata": {
        "id": "5_jhN8VpI2Ko"
      },
      "execution_count": null,
      "outputs": []
    },
    {
      "cell_type": "code",
      "source": [],
      "metadata": {
        "id": "bJpfFuMII2Nc"
      },
      "execution_count": null,
      "outputs": []
    },
    {
      "cell_type": "code",
      "source": [],
      "metadata": {
        "id": "yLh_JUQEI2QE"
      },
      "execution_count": null,
      "outputs": []
    },
    {
      "cell_type": "code",
      "source": [],
      "metadata": {
        "id": "v9dSMGUOI2S5"
      },
      "execution_count": null,
      "outputs": []
    },
    {
      "cell_type": "code",
      "source": [],
      "metadata": {
        "id": "QWda8bgsI2V3"
      },
      "execution_count": null,
      "outputs": []
    },
    {
      "cell_type": "code",
      "source": [],
      "metadata": {
        "id": "JgFUq57uI2Yw"
      },
      "execution_count": null,
      "outputs": []
    },
    {
      "cell_type": "code",
      "source": [],
      "metadata": {
        "id": "XrG-E69_I2bL"
      },
      "execution_count": null,
      "outputs": []
    },
    {
      "cell_type": "code",
      "source": [],
      "metadata": {
        "id": "R7M11OTAI2dx"
      },
      "execution_count": null,
      "outputs": []
    },
    {
      "cell_type": "code",
      "source": [],
      "metadata": {
        "id": "oWY27tWmI2gl"
      },
      "execution_count": null,
      "outputs": []
    },
    {
      "cell_type": "code",
      "source": [],
      "metadata": {
        "id": "_Wg7fwp5Kg6o"
      },
      "execution_count": null,
      "outputs": []
    },
    {
      "cell_type": "code",
      "source": [],
      "metadata": {
        "id": "ZkBh36xVKg9q"
      },
      "execution_count": null,
      "outputs": []
    },
    {
      "cell_type": "code",
      "source": [],
      "metadata": {
        "id": "mIpeIlXXKi9G"
      },
      "execution_count": null,
      "outputs": []
    },
    {
      "cell_type": "code",
      "source": [],
      "metadata": {
        "id": "c0e34IARKi_5"
      },
      "execution_count": null,
      "outputs": []
    },
    {
      "cell_type": "code",
      "source": [],
      "metadata": {
        "id": "OpguqLaZKjDG"
      },
      "execution_count": null,
      "outputs": []
    },
    {
      "cell_type": "code",
      "source": [],
      "metadata": {
        "id": "CbaDoqZjKjGz"
      },
      "execution_count": null,
      "outputs": []
    },
    {
      "cell_type": "code",
      "source": [],
      "metadata": {
        "id": "DkkLYCVbKjJj"
      },
      "execution_count": null,
      "outputs": []
    },
    {
      "cell_type": "markdown",
      "source": [
        "CNN + BiGRU + Attention Mechaniam 02\n"
      ],
      "metadata": {
        "id": "VjxbjCXq9fJ3"
      }
    },
    {
      "cell_type": "code",
      "source": [
        "from tensorflow.keras.layers import Input, Conv1D, MaxPooling1D, Dropout, Bidirectional, GRU, MultiHeadAttention, LayerNormalization, Add, GlobalAveragePooling1D, Dense\n",
        "from tensorflow.keras.models import Model\n",
        "\n",
        "# Define the hybrid model\n",
        "input_layer = Input(shape=(X_train.shape[1], X_train.shape[2]))\n",
        "\n",
        "# CNN for feature extraction\n",
        "x = Conv1D(filters=64, kernel_size=3, activation='relu')(input_layer)\n",
        "x = MaxPooling1D(pool_size=2)(x)\n",
        "x = Dropout(0.5)(x)\n",
        "\n",
        "# Bidirectional GRU for sequence modeling\n",
        "x = Bidirectional(GRU(50, return_sequences=True))(x)\n",
        "\n",
        "# Multi-Head Attention\n",
        "attention_output = MultiHeadAttention(num_heads=2, key_dim=50)(x, x)\n",
        "attention_output = Add()([x, attention_output])\n",
        "attention_output = LayerNormalization()(attention_output)\n",
        "\n",
        "# Flatten and Dense layers for classification\n",
        "x = GlobalAveragePooling1D()(attention_output)\n",
        "x = Dense(100, activation='relu')(x)\n",
        "x = Dropout(0.5)(x)\n",
        "\n",
        "# Output layers for binary and multi-class classification\n",
        "binary_output = Dense(1, activation='sigmoid', name='binary_output')(x)\n",
        "multi_class_output = Dense(len(y_multi_class.unique()), activation='softmax', name='multi_class_output')(x)\n",
        "\n",
        "# Define the model\n",
        "modelBiGRU_A = Model(inputs=input_layer, outputs=[binary_output, multi_class_output])\n"
      ],
      "metadata": {
        "id": "ocFvKrih_8bC"
      },
      "execution_count": null,
      "outputs": []
    },
    {
      "cell_type": "code",
      "source": [
        "# Compile the model\n",
        "modelBiGRU_A.compile(\n",
        "    optimizer='adam',\n",
        "    loss={'binary_output': 'binary_crossentropy', 'multi_class_output': 'sparse_categorical_crossentropy'},\n",
        "    metrics={'binary_output': 'accuracy', 'multi_class_output': 'accuracy'}\n",
        ")"
      ],
      "metadata": {
        "id": "cSImfihA_8eA"
      },
      "execution_count": null,
      "outputs": []
    },
    {
      "cell_type": "code",
      "source": [
        "# Train the model\n",
        "modelBiGRU_A.fit(\n",
        "    X_train, {'binary_output': y_train_binary, 'multi_class_output': y_train_multi_class},\n",
        "    epochs=8, batch_size=32, validation_split=0.2\n",
        ")\n"
      ],
      "metadata": {
        "id": "S_txa0vM_8hB",
        "colab": {
          "base_uri": "https://localhost:8080/"
        },
        "outputId": "91b44d10-176c-4823-fea9-82b39e3db18b"
      },
      "execution_count": null,
      "outputs": [
        {
          "output_type": "stream",
          "name": "stdout",
          "text": [
            "Epoch 1/8\n",
            "5154/5154 [==============================] - 206s 39ms/step - loss: 1.0562 - binary_output_loss: 0.2381 - multi_class_output_loss: 0.8181 - binary_output_accuracy: 0.8894 - multi_class_output_accuracy: 0.6988 - val_loss: 0.8022 - val_binary_output_loss: 0.1642 - val_multi_class_output_loss: 0.6379 - val_binary_output_accuracy: 0.9197 - val_multi_class_output_accuracy: 0.7568\n",
            "Epoch 2/8\n",
            "5154/5154 [==============================] - 194s 38ms/step - loss: 0.8086 - binary_output_loss: 0.1646 - multi_class_output_loss: 0.6440 - binary_output_accuracy: 0.9204 - multi_class_output_accuracy: 0.7603 - val_loss: 0.7197 - val_binary_output_loss: 0.1416 - val_multi_class_output_loss: 0.5781 - val_binary_output_accuracy: 0.9344 - val_multi_class_output_accuracy: 0.7798\n",
            "Epoch 3/8\n",
            "5154/5154 [==============================] - 195s 38ms/step - loss: 0.7493 - binary_output_loss: 0.1489 - multi_class_output_loss: 0.6004 - binary_output_accuracy: 0.9298 - multi_class_output_accuracy: 0.7760 - val_loss: 0.6771 - val_binary_output_loss: 0.1321 - val_multi_class_output_loss: 0.5450 - val_binary_output_accuracy: 0.9388 - val_multi_class_output_accuracy: 0.7914\n",
            "Epoch 4/8\n",
            "5154/5154 [==============================] - 207s 40ms/step - loss: 0.7181 - binary_output_loss: 0.1401 - multi_class_output_loss: 0.5780 - binary_output_accuracy: 0.9350 - multi_class_output_accuracy: 0.7836 - val_loss: 0.6786 - val_binary_output_loss: 0.1277 - val_multi_class_output_loss: 0.5509 - val_binary_output_accuracy: 0.9402 - val_multi_class_output_accuracy: 0.7884\n",
            "Epoch 5/8\n",
            "5154/5154 [==============================] - 207s 40ms/step - loss: 0.6844 - binary_output_loss: 0.1278 - multi_class_output_loss: 0.5566 - binary_output_accuracy: 0.9421 - multi_class_output_accuracy: 0.7929 - val_loss: 0.6268 - val_binary_output_loss: 0.1079 - val_multi_class_output_loss: 0.5189 - val_binary_output_accuracy: 0.9558 - val_multi_class_output_accuracy: 0.8121\n",
            "Epoch 6/8\n",
            "5154/5154 [==============================] - 208s 40ms/step - loss: 0.6540 - binary_output_loss: 0.1177 - multi_class_output_loss: 0.5363 - binary_output_accuracy: 0.9492 - multi_class_output_accuracy: 0.8027 - val_loss: 0.5868 - val_binary_output_loss: 0.0967 - val_multi_class_output_loss: 0.4900 - val_binary_output_accuracy: 0.9597 - val_multi_class_output_accuracy: 0.8191\n",
            "Epoch 7/8\n",
            "5154/5154 [==============================] - 208s 40ms/step - loss: 0.6338 - binary_output_loss: 0.1112 - multi_class_output_loss: 0.5226 - binary_output_accuracy: 0.9527 - multi_class_output_accuracy: 0.8094 - val_loss: 0.5745 - val_binary_output_loss: 0.0946 - val_multi_class_output_loss: 0.4798 - val_binary_output_accuracy: 0.9600 - val_multi_class_output_accuracy: 0.8202\n",
            "Epoch 8/8\n",
            "5154/5154 [==============================] - 204s 40ms/step - loss: 0.6227 - binary_output_loss: 0.1080 - multi_class_output_loss: 0.5147 - binary_output_accuracy: 0.9538 - multi_class_output_accuracy: 0.8116 - val_loss: 0.5690 - val_binary_output_loss: 0.0950 - val_multi_class_output_loss: 0.4740 - val_binary_output_accuracy: 0.9598 - val_multi_class_output_accuracy: 0.8225\n"
          ]
        },
        {
          "output_type": "execute_result",
          "data": {
            "text/plain": [
              "<keras.src.callbacks.History at 0x78f940341a80>"
            ]
          },
          "metadata": {},
          "execution_count": 15
        }
      ]
    },
    {
      "cell_type": "code",
      "source": [
        "from sklearn.metrics import accuracy_score, precision_score, recall_score, f1_score, confusion_matrix\n",
        "\n",
        "# Predict the test set\n",
        "y_pred_binary, y_pred_multi_class = modelBiGRU_A.predict(X_test)\n",
        "y_pred_binary = (y_pred_binary > 0.5).astype(int)\n",
        "y_pred_multi_class = np.argmax(y_pred_multi_class, axis=1)\n",
        "\n",
        "# Evaluate binary classification\n",
        "binary_accuracy = accuracy_score(y_test_binary, y_pred_binary)\n",
        "binary_precision = precision_score(y_test_binary, y_pred_binary)\n",
        "binary_recall = recall_score(y_test_binary, y_pred_binary)\n",
        "binary_f1 = f1_score(y_test_binary, y_pred_binary)\n",
        "binary_confusion_matrix = confusion_matrix(y_test_binary, y_pred_binary)\n",
        "\n",
        "# Evaluate multi-class classification\n",
        "multi_class_accuracy = accuracy_score(y_test_multi_class, y_pred_multi_class)\n",
        "multi_class_precision = precision_score(y_test_multi_class, y_pred_multi_class, average='weighted')\n",
        "multi_class_recall = recall_score(y_test_multi_class, y_pred_multi_class, average='weighted')\n",
        "multi_class_f1 = f1_score(y_test_multi_class, y_pred_multi_class, average='weighted')\n",
        "multi_class_confusion_matrix = confusion_matrix(y_test_multi_class, y_pred_multi_class)\n",
        "\n",
        "# Print binary classification metrics\n",
        "print(f'Binary Classification:')\n",
        "print(f'Accuracy: {binary_accuracy}')\n",
        "print(f'Precision: {binary_precision}')\n",
        "print(f'Recall: {binary_recall}')\n",
        "print(f'F1 Score: {binary_f1}')\n",
        "print(f'Confusion Matrix:\\n{binary_confusion_matrix}')\n",
        "\n",
        "# Print multi-class classification metrics\n",
        "print(f'\\nMulti-Class Classification:')\n",
        "print(f'Accuracy: {multi_class_accuracy}')\n",
        "print(f'Precision: {multi_class_precision}')\n",
        "print(f'Recall: {multi_class_recall}')\n",
        "print(f'F1 Score: {multi_class_f1}')\n",
        "print(f'Confusion Matrix:\\n{multi_class_confusion_matrix}')\n",
        "\n",
        "\n",
        "# Store the metrics\n",
        "metrics = {\n",
        "    'Binary': {\n",
        "        'Accuracy': binary_accuracy,\n",
        "        'Precision': binary_precision,\n",
        "        'Recall': binary_recall,\n",
        "        'F1 Score': binary_f1\n",
        "    },\n",
        "    'Multi-Class': {\n",
        "        'Accuracy': multi_class_accuracy,\n",
        "        'Precision': multi_class_precision,\n",
        "        'Recall': multi_class_recall,\n",
        "        'F1 Score': multi_class_f1\n",
        "    }\n",
        "}"
      ],
      "metadata": {
        "id": "k7O9TdNS_8kK",
        "colab": {
          "base_uri": "https://localhost:8080/"
        },
        "outputId": "32c9e642-30ae-4cc9-a085-67a78d46bedf"
      },
      "execution_count": null,
      "outputs": [
        {
          "output_type": "stream",
          "name": "stdout",
          "text": [
            "1611/1611 [==============================] - 18s 10ms/step\n",
            "Binary Classification:\n",
            "Accuracy: 0.9596196759483846\n",
            "Precision: 0.9783478611533332\n",
            "Recall: 0.9579916165482049\n",
            "F1 Score: 0.9680627388388403\n",
            "Confusion Matrix:\n",
            "[[17915   698]\n",
            " [ 1383 31539]]\n",
            "\n",
            "Multi-Class Classification:\n",
            "Accuracy: 0.8223731444649267\n",
            "Precision: 0.796966780335171\n",
            "Recall: 0.8223731444649267\n",
            "F1 Score: 0.788690002702654\n",
            "Confusion Matrix:\n",
            "[[    0     0     0   414    24     0    81     0     0     0]\n",
            " [    0     0     0   402    38     0    10    18     0     0]\n",
            " [    0     0     8  3103    66     0    59    50     6     0]\n",
            " [    0     0     0  8461   245     2   220   143     9     0]\n",
            " [    0     0     0   710  2834     0  1187    90    10     0]\n",
            " [    0     0     8   238    39 11219    23    10     0     0]\n",
            " [    0     0     1   116   346     0 18128    20     2     0]\n",
            " [    0     0     6   897    90     0   190  1669     0     0]\n",
            " [    0     0     0    46    49     0    51   101    62     0]\n",
            " [    0     0     0    34     0     0     0     0     0     0]]\n"
          ]
        },
        {
          "output_type": "stream",
          "name": "stderr",
          "text": [
            "/usr/local/lib/python3.10/dist-packages/sklearn/metrics/_classification.py:1471: UndefinedMetricWarning: Precision is ill-defined and being set to 0.0 in labels with no predicted samples. Use `zero_division` parameter to control this behavior.\n",
            "  _warn_prf(average, modifier, msg_start, len(result))\n"
          ]
        }
      ]
    },
    {
      "cell_type": "code",
      "source": [
        "import matplotlib.pyplot as plt\n",
        "\n",
        "# Plot the metrics\n",
        "categories = ['Accuracy', 'Precision', 'Recall', 'F1 Score']\n",
        "binary_values = [metrics['Binary'][cat] for cat in categories]\n",
        "multi_class_values = [metrics['Multi-Class'][cat] for cat in categories]\n",
        "\n",
        "x = np.arange(len(categories))  # the label locations\n",
        "width = 0.35  # the width of the bars\n",
        "\n",
        "# Adjust the size of the plot to a medium size\n",
        "fig, ax = plt.subplots(figsize=(10, 6))\n",
        "\n",
        "rects1 = ax.bar(x - width/2, binary_values, width, label='Binary Classification', color='#003566')\n",
        "rects2 = ax.bar(x + width/2, multi_class_values, width, label='Multi-Class Classification', color='#ffc300')\n",
        "\n",
        "# Add some text for labels, title and custom x-axis tick labels, etc.\n",
        "ax.set_xlabel('Metrics')\n",
        "ax.set_ylabel('Scores')\n",
        "ax.set_title('CNN + Bi-GRU with Attention Mechanism')\n",
        "ax.set_xticks(x)\n",
        "ax.set_xticklabels(categories)\n",
        "\n",
        "# Place the legend in the bottom right corner\n",
        "ax.legend(loc='lower right')\n",
        "\n",
        "# Function to add labels on bars\n",
        "def autolabel(rects):\n",
        "    for rect in rects:\n",
        "        height = rect.get_height()\n",
        "        ax.annotate('{}'.format(round(height, 4)),\n",
        "                    xy=(rect.get_x() + rect.get_width() / 2, height),\n",
        "                    xytext=(0, 3),  # 3 points vertical offset\n",
        "                    textcoords=\"offset points\",\n",
        "                    ha='center', va='bottom')\n",
        "\n",
        "autolabel(rects1)\n",
        "autolabel(rects2)\n",
        "\n",
        "fig.tight_layout()\n",
        "\n",
        "plt.show()"
      ],
      "metadata": {
        "id": "HTLM6AXW_8n4",
        "colab": {
          "base_uri": "https://localhost:8080/",
          "height": 607
        },
        "outputId": "403baba3-81df-4691-bfce-4cdbf240aeaa"
      },
      "execution_count": null,
      "outputs": [
        {
          "output_type": "display_data",
          "data": {
            "text/plain": [
              "<Figure size 1000x600 with 1 Axes>"
            ],
            "image/png": "[encoded data removed]"
          },
          "metadata": {}
        }
      ]
    },
    {
      "cell_type": "code",
      "source": [],
      "metadata": {
        "id": "C2BodPva_8rL"
      },
      "execution_count": null,
      "outputs": []
    },
    {
      "cell_type": "code",
      "source": [],
      "metadata": {
        "id": "-UbMNcnT_8uX"
      },
      "execution_count": null,
      "outputs": []
    },
    {
      "cell_type": "code",
      "source": [],
      "metadata": {
        "id": "-npEAP-c_8xi"
      },
      "execution_count": null,
      "outputs": []
    },
    {
      "cell_type": "code",
      "source": [],
      "metadata": {
        "id": "BP68QrAW_80W"
      },
      "execution_count": null,
      "outputs": []
    },
    {
      "cell_type": "code",
      "source": [],
      "metadata": {
        "id": "Ykr0Pm3v_83g"
      },
      "execution_count": null,
      "outputs": []
    },
    {
      "cell_type": "code",
      "source": [],
      "metadata": {
        "id": "voBnerDE_9Bu"
      },
      "execution_count": null,
      "outputs": []
    },
    {
      "cell_type": "code",
      "source": [],
      "metadata": {
        "id": "lay621Vg_9FB"
      },
      "execution_count": null,
      "outputs": []
    },
    {
      "cell_type": "code",
      "source": [],
      "metadata": {
        "id": "lFFXqTTj_9N1"
      },
      "execution_count": null,
      "outputs": []
    },
    {
      "cell_type": "code",
      "source": [],
      "metadata": {
        "id": "Go-24fGo_9Q1"
      },
      "execution_count": null,
      "outputs": []
    },
    {
      "cell_type": "code",
      "source": [],
      "metadata": {
        "id": "pIQfXfJ6_9Tx"
      },
      "execution_count": null,
      "outputs": []
    },
    {
      "cell_type": "code",
      "source": [],
      "metadata": {
        "id": "vSogcWtA_9W9"
      },
      "execution_count": null,
      "outputs": []
    },
    {
      "cell_type": "code",
      "source": [],
      "metadata": {
        "id": "Uj3Vi86Z_9Zy"
      },
      "execution_count": null,
      "outputs": []
    },
    {
      "cell_type": "code",
      "source": [],
      "metadata": {
        "id": "4LedVUWyUue5"
      },
      "execution_count": null,
      "outputs": []
    }
  ]
}